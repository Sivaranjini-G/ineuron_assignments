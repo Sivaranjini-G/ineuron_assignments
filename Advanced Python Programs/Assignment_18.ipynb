{
 "cells": [
  {
   "cell_type": "markdown",
   "metadata": {},
   "source": [
    "1. A robot has been given a list of movement instructions. Each instruction is\n",
    "    either left, right, up or down, followed by a distance to move. The robot starts\n",
    "    at [0, 0]. You want to calculate where the robot will end up and return its final\n",
    "    position as a list.\n",
    "    To illustrate, if the robot is given the following instructions:\n",
    "    [&quot;right 10&quot;, &quot;up 50&quot;, &quot;left 30&quot;, &quot;down 10&quot;]\n",
    "    It will end up 20 left and 40 up from where it started, so we return [-20, 40].\n",
    "    \n",
    "   "
   ]
  },
  {
   "cell_type": "code",
   "execution_count": 16,
   "metadata": {},
   "outputs": [
    {
     "name": "stdout",
     "output_type": "stream",
     "text": [
      "[-20, 40]\n",
      "[0, 0]\n",
      "[200, 10500]\n"
     ]
    }
   ],
   "source": [
    "import re\n",
    "\n",
    "def track_robot(arr):\n",
    "    result = []\n",
    "    string = \"\".join(arr)\n",
    "    right = sum([eval(i) for i in re.findall(r\"right\\s(\\d+)\",string)])\n",
    "    left = sum([eval(i) for i in re.findall(r\"left\\s(\\d+)\",string)])\n",
    "    up = sum([eval(i) for i in re.findall(r\"up\\s(\\d+)\",string)])\n",
    "    down = sum([eval(i) for i in re.findall(r\"down\\s(\\d+)\",string)])\n",
    "    \n",
    "    result = [right - left , up - down ]\n",
    "    \n",
    "    return result\n",
    "print(track_robot([\"right 10\", \"up 50\", \"left 30\", \"down 10\"]))\n",
    "print(track_robot([]))\n",
    "print(track_robot([\"right 100\", \"right 100\", \"up 500\", \"up 10000\"]))\n",
    "# track_robot([\"right 10\", \"up 50\", \"left 30\", \"down 10\"]) ➞ [-20, 40]\n",
    "# track_robot([]) ➞ [0, 0]\n",
    "# // If there are no instructions, the robot doesn&#39;t move.\n",
    "# track_robot([\"right 100\", \"right 100\", \"up 500\", \"up 10000\"]) ➞ [200, 10500]"
   ]
  },
  {
   "cell_type": "markdown",
   "metadata": {},
   "source": [
    "2. Write a function that will return the longest word in a sentence. In cases\n",
    "where more than one word is found, return the first one."
   ]
  },
  {
   "cell_type": "code",
   "execution_count": 22,
   "metadata": {},
   "outputs": [
    {
     "name": "stdout",
     "output_type": "stream",
     "text": [
      "forgetfulness\n",
      "forever.\n",
      "\"strengths\"\n"
     ]
    }
   ],
   "source": [
    "def find_longest(string):\n",
    "    string_arr = string.split(\" \")\n",
    "    return (max(string_arr,key=len)).lower()\n",
    "    \n",
    "print(find_longest(\"Forgetfulness is by all means powerless!\"))\n",
    "print(find_longest(\"A thing of beauty is a joy forever.\"))\n",
    "print(find_longest(\"\\\"Strengths\\\" is the longest and most commonly used word that contains only a single vowel.\"))\n",
    "# find_longest(\"A thing of beauty is a joy forever.\") ➞ \"forever\"\n",
    "# find_longest(\"Forgetfulness is by all means powerless!\") ➞ \"forgetfulness\"\n",
    "# find_longest(\"\\\"Strengths\\\" is the longest and most commonly used word that contains only a single vowel.\") ➞ \"strengths\""
   ]
  },
  {
   "cell_type": "markdown",
   "metadata": {},
   "source": [
    "3. Create a function to check if a candidate is qualified in an imaginary coding\n",
    "    interview of an imaginary tech startup.\n",
    "    The criteria for a candidate to be qualified in the coding interview is:\n",
    "    1. The candidate should have complete all the questions.\n",
    "    2. The maximum time given to complete the interview is 120 minutes.\n",
    "    3. The maximum time given for very easy questions is 5 minutes each.\n",
    "    4. The maximum time given for easy questions is 10 minutes each.\n",
    "    5. The maximum time given for medium questions is 15 minutes each.\n",
    "    6. The maximum time given for hard questions is 20 minutes each.\n",
    "\n",
    "    If all the above conditions are satisfied, return &quot;qualified&quot;, else return\n",
    "    &quot;disqualified&quot;.\n",
    "    You will be given a list of time taken by a candidate to solve a particular\n",
    "    question and the total time taken by the candidate to complete the interview.\n",
    "    Given a list , in a true condition will always be in the format [very easy, very\n",
    "    easy, easy, easy, medium, medium, hard, hard].\n",
    "    The maximum time to complete the interview includes a buffer time of 20\n",
    "    minutes."
   ]
  },
  {
   "cell_type": "code",
   "execution_count": 32,
   "metadata": {},
   "outputs": [
    {
     "name": "stdout",
     "output_type": "stream",
     "text": [
      "qualified\n",
      "qualified\n",
      "disqualified\n",
      "disqualified\n",
      "disqualified\n"
     ]
    }
   ],
   "source": [
    "def interview(arr, total):\n",
    "    flag = True\n",
    "    if total > 120 or len(arr) < 8:\n",
    "        return \"disqualified\"\n",
    "    else:\n",
    "        for i in arr:\n",
    "            if i > 20:\n",
    "                flag = False\n",
    "                return \"disqualified\"\n",
    "                \n",
    "        if flag == True:\n",
    "            return \"qualified\" \n",
    "print(interview([5, 5, 10, 10, 15, 15, 20, 20], 120))\n",
    "print(interview([2, 3, 8, 6, 5, 12, 10, 18], 64))\n",
    "print(interview([5, 5, 10, 10, 25, 15, 20, 20], 120))\n",
    "print(interview([5, 5, 10, 10, 15, 15, 20], 120))\n",
    "print(interview([5, 5, 10, 10, 15, 15, 20, 20], 130))\n",
    "\n",
    "# interview([5, 5, 10, 10, 15, 15, 20, 20], 120) ➞ \"qualified\"\n",
    "# interview([2, 3, 8, 6, 5, 12, 10, 18], 64) ➞ \"qualified\"\n",
    "# interview([5, 5, 10, 10, 25, 15, 20, 20], 120) ➞ \"disqualified\"\n",
    "# # Exceeded the time limit for a medium question.\n",
    "# interview([5, 5, 10, 10, 15, 15, 20], 120) ➞ \"disqualified\"\n",
    "# # Did not complete all the questions.\n",
    "# interview([5, 5, 10, 10, 15, 15, 20, 20], 130) ➞ \"disqualified\"\n",
    "# # Solved all the questions in their respected time limits but exceeded the total\n",
    "# time limit of the interview."
   ]
  },
  {
   "cell_type": "markdown",
   "metadata": {},
   "source": [
    "4. Write a function that divides a list into chunks of size n, where n is the\n",
    "length of each chunk."
   ]
  },
  {
   "cell_type": "code",
   "execution_count": 34,
   "metadata": {},
   "outputs": [
    {
     "name": "stdout",
     "output_type": "stream",
     "text": [
      "[[2, 3], [4, 5]]\n",
      "[[2, 3], [4, 5], [6]]\n",
      "[[2, 3, 4], [5, 6, 7]]\n",
      "[[2], [3], [4], [5], [6], [7]]\n",
      "[[2, 3, 4, 5, 6, 7]]\n"
     ]
    }
   ],
   "source": [
    "def chunkify(list_a, chunk_size):\n",
    "\n",
    "    for i in range(0, len(list_a), chunk_size):\n",
    "        yield list_a[i:i + chunk_size]\n",
    "\n",
    "\n",
    "print(list(chunkify([2, 3, 4, 5], 2)))\n",
    "print(list(chunkify([2, 3, 4, 5, 6], 2)))\n",
    "print(list(chunkify([2, 3, 4, 5, 6, 7], 3)))\n",
    "print(list(chunkify([2, 3, 4, 5, 6, 7], 1)))\n",
    "print(list(chunkify([2, 3, 4, 5, 6, 7], 7)))\n",
    "\n",
    "# chunkify([2, 3, 4, 5], 2) ➞ [[2, 3], [4, 5]]\n",
    "# chunkify([2, 3, 4, 5, 6], 2) ➞ [[2, 3], [4, 5], [6]]\n",
    "# chunkify([2, 3, 4, 5, 6, 7], 3) ➞ [[2, 3, 4], [5, 6, 7]]\n",
    "# chunkify([2, 3, 4, 5, 6, 7], 1) ➞ [[2], [3], [4], [5], [6], [7]]\n",
    "# chunkify([2, 3, 4, 5, 6, 7], 7) ➞ [[2, 3, 4, 5, 6, 7]]"
   ]
  },
  {
   "cell_type": "markdown",
   "metadata": {},
   "source": [
    "5. You are given a list of strings consisting of grocery items, with prices in\n",
    "parentheses. Return a list of prices in float format."
   ]
  },
  {
   "cell_type": "code",
   "execution_count": 37,
   "metadata": {},
   "outputs": [
    {
     "name": "stdout",
     "output_type": "stream",
     "text": [
      "['4.99']\n",
      "['1.99', '5.99', '0.75']\n",
      "['5.99', '0.20', '8.50', '1.99']\n"
     ]
    }
   ],
   "source": [
    "import re\n",
    "def get_prices(arr):\n",
    "    arr_string = \"\".join(arr)\n",
    "    print(re.findall(r\"(\\d+.?\\d+)\", arr_string))\n",
    "    \n",
    "get_prices([\"salad ($4.99)\"])\n",
    "get_prices([\n",
    "\"artichokes ($1.99)\",\n",
    "\"rotiserrie chicken ($5.99)\",\n",
    "\"gum ($0.75)\"\n",
    "])\n",
    "get_prices([\n",
    "\"ice cream ($5.99)\",\n",
    "\"banana ($0.20)\",\n",
    "\"sandwich ($8.50)\",\n",
    "\"soup ($1.99)\"\n",
    "])\n",
    "# get_prices([\"salad ($4.99)\"]) ➞ [4.99]\n",
    "# get_prices([\n",
    "# \"artichokes ($1.99)\",\n",
    "# \"rotiserrie chicken ($5.99)\",\n",
    "# \"gum ($0.75)\"\n",
    "# ])\n",
    "# ➞ [1.99, 5.99, 0.75]\n",
    "# get_prices([\n",
    "# \"ice cream ($5.99)\",\n",
    "# \"banana ($0.20)\",\n",
    "# \"sandwich ($8.50)\",\n",
    "# \"soup ($1.99)\"\n",
    "# ])\n",
    "# ➞ [5.99, 0.2, 8.50, 1.99]"
   ]
  }
 ],
 "metadata": {
  "kernelspec": {
   "display_name": "Python 3",
   "language": "python",
   "name": "python3"
  },
  "language_info": {
   "codemirror_mode": {
    "name": "ipython",
    "version": 3
   },
   "file_extension": ".py",
   "mimetype": "text/x-python",
   "name": "python",
   "nbconvert_exporter": "python",
   "pygments_lexer": "ipython3",
   "version": "3.8.3"
  }
 },
 "nbformat": 4,
 "nbformat_minor": 4
}
