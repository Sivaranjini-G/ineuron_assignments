{
 "cells": [
  {
   "cell_type": "markdown",
   "metadata": {},
   "source": [
    "1. Create a function that transposes a 2D matrix."
   ]
  },
  {
   "cell_type": "code",
   "execution_count": 5,
   "metadata": {},
   "outputs": [
    {
     "name": "stdout",
     "output_type": "stream",
     "text": [
      "\n",
      "\n",
      "[1, 2, 3]\n",
      "[1, 2, 3]\n",
      "[1, 2, 3]\n",
      "\n",
      "\n",
      "[5, 6, 9]\n",
      "[5, 7, 1]\n"
     ]
    }
   ],
   "source": [
    "def transpose_matrix(m):\n",
    "  \n",
    "    rez = [[m[j][i] for j in range(len(m))] for i in range(len(m[0]))]\n",
    "    print(\"\\n\")\n",
    "    for row in rez:\n",
    "        print(row)\n",
    "        \n",
    "transpose_matrix([\n",
    "[1, 1, 1],\n",
    " [2, 2, 2],\n",
    " [3, 3, 3]\n",
    " ])\n",
    "transpose_matrix([\n",
    "    [5, 5],\n",
    "[6, 7],\n",
    "[9, 1]\n",
    "])"
   ]
  },
  {
   "cell_type": "markdown",
   "metadata": {},
   "source": [
    "2. Create a function that determines whether a string is a valid hex code.\n",
    "    A hex code must begin with a pound key # and is exactly 6 characters in\n",
    "    length. Each character must be a digit from 0-9 or an alphabetic character\n",
    "    from A-F. All alphabetic characters may be uppercase or lowercase."
   ]
  },
  {
   "cell_type": "code",
   "execution_count": 11,
   "metadata": {},
   "outputs": [
    {
     "name": "stdout",
     "output_type": "stream",
     "text": [
      "True\n",
      "True\n",
      "True\n",
      "False\n",
      "False\n",
      "False\n",
      "False\n"
     ]
    }
   ],
   "source": [
    "import re\n",
    "def is_valid_hex_code(str):\n",
    " \n",
    "    match = re.search(r'^#(?:[0-9a-fA-F]{3}){1,2}$', str)\n",
    "\n",
    "    if match:                      \n",
    "        return True\n",
    "\n",
    "    else:\n",
    "        return False\n",
    "print(is_valid_hex_code(\"#CD5C5C\"))\n",
    "print(is_valid_hex_code(\"#EAECEE\"))\n",
    "print(is_valid_hex_code(\"#eaecee\"))\n",
    "print(is_valid_hex_code(\"#CD5C58C\"))\n",
    "print(is_valid_hex_code(\"#CD5C5Z\"))\n",
    "print(is_valid_hex_code(\"#CD5C&C\"))\n",
    "print(is_valid_hex_code(\"CD5C5C\"))\n",
    "# is_valid_hex_code(\"#CD5C5C\") ➞ True\n",
    "# is_valid_hex_code(\"#EAECEE\") ➞ True\n",
    "# is_valid_hex_code(\"#eaecee\") ➞ True\n",
    "# is_valid_hex_code(\"#CD5C58C\") ➞ False\n",
    "# # Length exceeds 6\n",
    "# is_valid_hex_code(\"#CD5C5Z\") ➞ False\n",
    "# # Not all alphabetic characters in A-F\n",
    "# is_valid_hex_code(\"#CD5C&C\") ➞ False\n",
    "# # Contains unacceptable character\n",
    "\n",
    "# is_valid_hex_code(\"CD5C5C\") ➞ False\n",
    "# # Missing #"
   ]
  },
  {
   "cell_type": "markdown",
   "metadata": {},
   "source": [
    "3. Given a list of math equations (given as strings), return the percentage of correct answers as a string. Round to the nearest whole number."
   ]
  },
  {
   "cell_type": "code",
   "execution_count": 30,
   "metadata": {},
   "outputs": [
    {
     "name": "stdout",
     "output_type": "stream",
     "text": [
      "75%\n",
      "0%\n",
      "67%\n"
     ]
    }
   ],
   "source": [
    "def mark_maths(arr):\n",
    "    counter = 0\n",
    "    for i in arr:\n",
    "        exp = i.split(\"=\")[0]\n",
    "        res = i.split(\"=\")[1]\n",
    "        if int(eval(exp)) == int(res):\n",
    "            counter = counter + 1\n",
    "    return (str(round((counter/len(arr))*100))+\"%\")\n",
    "print(mark_maths([\"2+2=4\", \"3+2=5\", \"10-3=3\", \"5+5=10\"]))\n",
    "print(mark_maths([\"1-2=-2\"]))\n",
    "print(mark_maths([\"2+3=5\", \"4+4=9\", \"3-1=2\"]))\n",
    "# mark_maths([\"2+2=4\", \"3+2=5\", \"10-3=3\", \"5+5=10\"]) ➞ \"75%\"\n",
    "# mark_maths([\"1-2=-2\"]), \"0%\"\n",
    "# mark_maths([\"2+3=5\", \"4+4=9\", \"3-1=2\"]) ➞ \"67%\""
   ]
  }
 ],
 "metadata": {
  "kernelspec": {
   "display_name": "Python 3",
   "language": "python",
   "name": "python3"
  },
  "language_info": {
   "codemirror_mode": {
    "name": "ipython",
    "version": 3
   },
   "file_extension": ".py",
   "mimetype": "text/x-python",
   "name": "python",
   "nbconvert_exporter": "python",
   "pygments_lexer": "ipython3",
   "version": "3.8.3"
  }
 },
 "nbformat": 4,
 "nbformat_minor": 4
}
