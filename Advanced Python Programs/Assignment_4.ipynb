{
  "nbformat": 4,
  "nbformat_minor": 0,
  "metadata": {
    "colab": {
      "name": "Assignment_4.ipynb",
      "provenance": [],
      "collapsed_sections": []
    },
    "kernelspec": {
      "name": "python3",
      "display_name": "Python 3"
    },
    "language_info": {
      "name": "python"
    }
  },
  "cells": [
    {
      "cell_type": "markdown",
      "source": [
        "# 1. In mathematics, the Fibonacci numbers, commonly denoted Fn, form a sequence, called the Fibonacci sequence, such that each number is the sum of the two preceding ones, starting from 0 and 1: The beginning of the sequence is this: 0, 1, 1, 2, 3, 5, 8, 13, 21, 34, 55, 89, 144, ... The function fastFib(num) returns the fibonacci number Fn, of the given num as an argument.\n"
      ],
      "metadata": {
        "id": "HSE1uTOPpR3P"
      }
    },
    {
      "cell_type": "code",
      "execution_count": 12,
      "metadata": {
        "colab": {
          "base_uri": "https://localhost:8080/"
        },
        "id": "rg8QBkQqpQ6n",
        "outputId": "bcf1b33f-3a4f-4124-a4e8-ae929ee64557"
      },
      "outputs": [
        {
          "output_type": "stream",
          "name": "stdout",
          "text": [
            "Enter the number: 50\n",
            "Result:  12586269025\n"
          ]
        }
      ],
      "source": [
        "def fib_fast(n_terms):\n",
        "  n_1 = 0\n",
        "  n_2 = 1\n",
        "  count = 0\n",
        "  while count < n_terms:  \n",
        "        \n",
        "      nth = n_1 + n_2  \n",
        "      # At last, we will update values  \n",
        "      n_1 = n_2  \n",
        "      n_2 = nth  \n",
        "      count += 1 \n",
        "  return n_1\n",
        "n_terms = int(input(\"Enter the number: \"))\n",
        "\n",
        "print(\"Result: \",fib_fast(n_terms))"
      ]
    },
    {
      "cell_type": "markdown",
      "source": [
        "# 2. Create a function that takes a strings characters as ASCII and returns each characters hexadecimal value as a string.\n"
      ],
      "metadata": {
        "id": "VydLwY3AraQi"
      }
    },
    {
      "cell_type": "code",
      "source": [
        "text = input(\"enter a string to convert into ascii values:\")\n",
        "def convert_to_hex(text):\n",
        "  ascii_values = ''\n",
        "  for character in text:\n",
        "      ascii_values+=\" \"+((hex(ord(character))).split(\"0x\")[1])\n",
        "  return ascii_values\n",
        "\n",
        "print(\"\\n\")\n",
        "print(\"Result: \",convert_to_hex(text))"
      ],
      "metadata": {
        "colab": {
          "base_uri": "https://localhost:8080/"
        },
        "id": "f16Uh7awr_8S",
        "outputId": "bf6d09e5-a92e-4ac1-d081-deb8121740a5"
      },
      "execution_count": 21,
      "outputs": [
        {
          "output_type": "stream",
          "name": "stdout",
          "text": [
            "enter a string to convert into ascii values:Marty Poppinson\n",
            "\n",
            "\n",
            "Result:   4d 61 72 74 79 20 50 6f 70 70 69 6e 73 6f 6e\n"
          ]
        }
      ]
    },
    {
      "cell_type": "markdown",
      "source": [
        "# 3. Someone has attempted to censor my strings by replacing every vowel with a *, l*k* th*s. Luckily, I've been able to find the vowels that were removed.Given a censored string and a string of the censored vowels, return the original uncensored string.\n"
      ],
      "metadata": {
        "id": "lshSdE1ouFEr"
      }
    },
    {
      "cell_type": "code",
      "source": [
        "def uncensor(text, pattern):\n",
        "  for i in pattern:\n",
        "    text = text.replace(\"*\", i, 1)\n",
        "\n",
        "  return text\n",
        "\n",
        "print(\"abcd==>\",uncensor(\"abcd\", \"\"))\n",
        "print(\"*PP*RC*S*==>\",uncensor(\"*PP*RC*S*\", \"UEAE\"))\n",
        "print(\"Wh*r* d*d my v*w*ls g*?==>\",uncensor(\"Wh*r* d*d my v*w*ls g*?\", \"eeioeo\"))"
      ],
      "metadata": {
        "colab": {
          "base_uri": "https://localhost:8080/"
        },
        "id": "IO2Njjd4uJxA",
        "outputId": "3d82f15d-ad03-455e-cae1-db9a11925205"
      },
      "execution_count": 26,
      "outputs": [
        {
          "output_type": "stream",
          "name": "stdout",
          "text": [
            "abcd==> abcd\n",
            "*PP*RC*S*==> UPPERCASE\n",
            "Wh*r* d*d my v*w*ls g*?==> Where did my vowels go?\n"
          ]
        }
      ]
    },
    {
      "cell_type": "markdown",
      "source": [
        "# 4. Write a function that takes an IP address and returns the domain name using PTR DNS records."
      ],
      "metadata": {
        "id": "DhktNdzdvvTU"
      }
    },
    {
      "cell_type": "code",
      "source": [
        "def get_domain(ip_address):\n",
        "  import socket\n",
        "  result=socket.gethostbyaddr(ip_address)\n",
        "  return list(result)[0]\n",
        "\n",
        "print(\"get_domain('8.8.8.8')==> \",get_domain(\"8.8.8.8\"))\n",
        "print(\"get_domain('8.8.4.4')==> \",get_domain(\"8.8.4.4\"))"
      ],
      "metadata": {
        "colab": {
          "base_uri": "https://localhost:8080/"
        },
        "id": "oYlbMc11vwfz",
        "outputId": "9d72b92f-523d-4659-903f-3726b01ae58a"
      },
      "execution_count": 28,
      "outputs": [
        {
          "output_type": "stream",
          "name": "stdout",
          "text": [
            "get_domain('8.8.8.8')==>  dns.google\n",
            "get_domain('8.8.4.4')==>  dns.google\n"
          ]
        }
      ]
    },
    {
      "cell_type": "markdown",
      "source": [
        "# 5. Create a function that takes an integer n and returns the factorial of factorials. See below examples for a better understanding:\n"
      ],
      "metadata": {
        "id": "MJoN1QCXwaaI"
      }
    },
    {
      "cell_type": "code",
      "source": [
        "def fact_of_fact(n):\n",
        "  fact = 1\n",
        "  new_n = n\n",
        "  for j in range(1, n+1):\n",
        "    for i in range(1,j+1):\n",
        "        fact = fact * i\n",
        "     \n",
        "  new_n = new_n - 1\n",
        "  #print (\"The factorial of 23 is : \",end=\"\")\n",
        " \n",
        "  return fact;\n",
        "\n",
        "user_input = int(input(\"Enter the number to find fact of fact: \"))\n",
        "print(\"Result==> \",fact_of_fact(user_input))\n"
      ],
      "metadata": {
        "colab": {
          "base_uri": "https://localhost:8080/"
        },
        "id": "qahtRh_AwcHS",
        "outputId": "23af4f30-c8c2-4d83-f4ba-0875bb95fa54"
      },
      "execution_count": 51,
      "outputs": [
        {
          "output_type": "stream",
          "name": "stdout",
          "text": [
            "Enter the number to find fact of fact: 6\n",
            "Result==>  24883200\n"
          ]
        }
      ]
    }
  ]
}