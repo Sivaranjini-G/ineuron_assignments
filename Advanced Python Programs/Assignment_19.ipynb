{
 "cells": [
  {
   "cell_type": "markdown",
   "metadata": {},
   "source": [
    "1. Create a checker board generator, which takes as inputs n and 2 elements\n",
    "to generate an n x n checkerboard with those two elements as alternating\n",
    "squares."
   ]
  },
  {
   "cell_type": "code",
   "execution_count": 22,
   "metadata": {},
   "outputs": [
    {
     "name": "stdout",
     "output_type": "stream",
     "text": [
      "[[7, 6], [6, 7]]\n",
      "[['A', 'B', 'A'], ['B', 'A', 'B'], ['A', 'B', 'A']]\n",
      "[['c', 'd', 'c', 'd'], ['d', 'c', 'd', 'c'], ['c', 'd', 'c', 'd'], ['d', 'c', 'd', 'c']]\n",
      "invalid\n"
     ]
    }
   ],
   "source": [
    "def checker_board(n, a, b):\n",
    "    final_res = []\n",
    "    if a == b:\n",
    "        return \"invalid\"\n",
    "    else:\n",
    "        for i in range(n):\n",
    "            res = []\n",
    "            if i%2 == 0:\n",
    "                ele = [a,b]\n",
    "            else:\n",
    "                ele = [b,a]\n",
    "            for j in range(n):\n",
    "                if j%2 == 0:\n",
    "                    res.append((ele[0]))\n",
    "                else:\n",
    "                    res.append((ele[1]))\n",
    "            final_res.append(res)\n",
    "                \n",
    "        return (final_res)\n",
    "print(checker_board(2, 7, 6))\n",
    "print(checker_board(3, \"A\", \"B\"))\n",
    "print(checker_board(4, \"c\", \"d\"))\n",
    "print(checker_board(4, \"c\", \"c\"))\n",
    "# checker_board(2, 7, 6) ➞ [\n",
    "# [7, 6],\n",
    "# [6, 7]\n",
    "# ]\n",
    "# checker_board(3, \"A\", \"B\") ➞ [\n",
    "# [\"A\", \"B\", \"A\"],\n",
    "# [\"B\", \"A\", \"B\"],\n",
    "# [\"A\", \"B\", \"A\"]\n",
    "# ]\n",
    "# checker_board(4, \"c\", \"d\") ➞ [\n",
    "# [\"c\", \"d\", \"c\", \"d\"],\n",
    "# [\"d\", \"c\", \"d\", \"c\"],\n",
    "# [\"c\", \"d\", \"c\", \"d\"],\n",
    "# [\"d\", \"c\", \"d\", \"c\"]\n",
    "# ]\n",
    "# checker_board(4, \"c\", \"c\") ➞ \"invalid\""
   ]
  },
  {
   "cell_type": "markdown",
   "metadata": {},
   "source": [
    "2. A string is an almost-palindrome if, by changing only one character, you\n",
    "    can make it a palindrome. Create a function that returns True if a string is an\n",
    "    almost-palindrome and False otherwise."
   ]
  },
  {
   "cell_type": "code",
   "execution_count": 63,
   "metadata": {},
   "outputs": [
    {
     "name": "stdout",
     "output_type": "stream",
     "text": [
      "True\n",
      "True\n",
      "False\n",
      "False\n"
     ]
    }
   ],
   "source": [
    "def almost_palindrome(str) :\n",
    "     \n",
    "    n = len(str)\n",
    "\n",
    "    count = 0\n",
    "    for i in range(0, int(n / 2)) :\n",
    "        if (str[i] != str[n - i - 1]) :\n",
    "            count = count + 1\n",
    "  \n",
    "    if(count <= 1) :\n",
    "        return True\n",
    "    else :\n",
    "        return False\n",
    "\n",
    "\n",
    "print(almost_palindrome(\"abcdcbg\"))\n",
    "print(almost_palindrome(\"abccia\"))\n",
    "print(almost_palindrome(\"abcdaaa\"))\n",
    "print(almost_palindrome(\"1234312\"))\n",
    "# almost_palindrome(\"abcdcbg\") ➞ True\n",
    "# # Transformed to \"abcdcba\" by changing \"g\" to \"a\".\n",
    "# almost_palindrome(\"abccia\") ➞ True\n",
    "# # Transformed to \"abccba\" by changing \"i\" to \"b\".\n",
    "# almost_palindrome(\"abcdaaa\") ➞ False\n",
    "# # Can&#39;t be transformed to a palindrome in exactly 1 turn.\n",
    "# almost_palindrome(\"1234312\") ➞ False"
   ]
  },
  {
   "cell_type": "markdown",
   "metadata": {},
   "source": [
    "3. Create a function that finds how many prime numbers there are, up to the\n",
    "given integer.\n",
    "\n"
   ]
  },
  {
   "cell_type": "code",
   "execution_count": 24,
   "metadata": {},
   "outputs": [
    {
     "name": "stdout",
     "output_type": "stream",
     "text": [
      "4\n",
      "8\n",
      "10\n"
     ]
    }
   ],
   "source": [
    "\n",
    "def prime_numbers(number):\n",
    "    length = 0\n",
    "    for num in range(number):\n",
    "       # all prime numbers are greater than 1\n",
    "       if num > 1:\n",
    "            for i in range(2, num):\n",
    "                if (num % i) == 0:\n",
    "                    break\n",
    "            else:\n",
    "                length = length + 1\n",
    "    return length\n",
    "print(prime_numbers(10))\n",
    "print(prime_numbers(20))\n",
    "print(prime_numbers(30))\n",
    "# Examples\n",
    "# prime_numbers(10) ➞ 4\n",
    "# # 2, 3, 5 and 7\n",
    "# prime_numbers(20) ➞ 8\n",
    "# # 2, 3, 5, 7, 11, 13, 17 and 19\n",
    "# prime_numbers(30) ➞ 10\n",
    "# # 2, 3, 5, 7, 11, 13, 17, 19, 23 and 29"
   ]
  },
  {
   "cell_type": "markdown",
   "metadata": {},
   "source": [
    "4. If today was Monday, in two days, it would be Wednesday.\n",
    "    Create a function that takes in a list of days as input and the number of days\n",
    "    to increment by. Return a list of days after n number of days has passed."
   ]
  },
  {
   "cell_type": "code",
   "execution_count": 32,
   "metadata": {},
   "outputs": [
    {
     "name": "stdout",
     "output_type": "stream",
     "text": [
      "['Monday', 'Friday']\n",
      "['Monday', 'Monday', 'Monday']\n",
      "['Tuesday', 'Wednesday', 'Saturday']\n"
     ]
    }
   ],
   "source": [
    "days = [\"Sunday\", \"Monday\", \"Tuesday\", \"Wednesday\",\"Thursday\", \"Friday\",\"Saturday\"]\n",
    "def after_n_days(arr,num):\n",
    "    res = []\n",
    "    for i in arr:\n",
    "        length = days.index(i) + num\n",
    "        while length > 7:\n",
    "            length = length - 7\n",
    "        res.append(days[length])\n",
    "            \n",
    "    return (res)\n",
    "print(after_n_days([\"Thursday\", \"Monday\"], 4))\n",
    "print(after_n_days([\"Sunday\", \"Sunday\", \"Sunday\"], 1))\n",
    "print(after_n_days([\"Monday\", \"Tuesday\", \"Friday\"], 1))\n",
    "# after_n_days([\"Thursday\", \"Monday\"], 4) ➞ [\"Monday\", \"Friday\"]\n",
    "# after_n_days([\"Sunday\", \"Sunday\", \"Sunday\"], 1) ➞ [\"Monday\", \"Monday\",\n",
    "# \"Monday\"]\n",
    "# after_n_days([\"Monday\", \"Tuesday\", \"Friday\"], 1) ➞ [\"Tuesday\", \"Wednesday\",\n",
    "# \"Saturday\"]"
   ]
  },
  {
   "cell_type": "markdown",
   "metadata": {},
   "source": [
    "5. You are in the process of creating a chat application and want to add an\n",
    "    anonymous name feature. This anonymous name feature will create an alias\n",
    "    that consists of two capitalized words beginning with the same letter as the\n",
    "    users first name.\n",
    "    Create a function that determines if the list of users is mapped to a list of\n",
    "    anonymous names correctly."
   ]
  },
  {
   "cell_type": "code",
   "execution_count": 50,
   "metadata": {},
   "outputs": [
    {
     "name": "stdout",
     "output_type": "stream",
     "text": [
      "True\n",
      "True\n",
      "False\n"
     ]
    }
   ],
   "source": [
    "def is_correct_aliases(arr1, arr2):\n",
    "    flag = True\n",
    "    first_name = [i[0] for i in arr1]\n",
    "    trick_name = [\"\".join((set([i.split()[0][0],i.split()[1][0]]))) for i in arr2]\n",
    "    for i in range(len(first_name)):\n",
    "        if first_name[i] != trick_name[i]:\n",
    "            return False\n",
    "        else:\n",
    "            continue\n",
    "    return flag\n",
    "        \n",
    "print(is_correct_aliases([\"Adrian M.\", \"Harriet S.\", \"Mandy T.\"], [\"Amazing Artichoke\", \"Hopeful Hedgehog\", \"Marvelous Mouse\"]))\n",
    "print(is_correct_aliases([\"Rachel F.\", \"Pam G.\", \"Fred Z.\", \"Nancy K.\"], [\"Reassuring Rat\", \"Peaceful Panda\", \"Fantastic Frog\", \"Notable Nickel\"]))\n",
    "print(is_correct_aliases([\"Beth T.\"], [\"Brandishing Mimosa\"]))\n",
    "# is_correct_aliases([\"Adrian M.\", \"Harriet S.\", \"Mandy T.\"], [\"Amazing\n",
    "# Artichoke\", \"Hopeful Hedgehog\", \"Marvelous Mouse\"]) ➞ True\n",
    "# is_correct_aliases([\"Rachel F.\", \"Pam G.\", \"Fred Z.\", \"Nancy K.\"],\n",
    "# [\"Reassuring Rat\", \"Peaceful Panda\", \"Fantastic Frog\", \"Notable Nickel\"]) ➞\n",
    "# True\n",
    "# is_correct_aliases([\"Beth T.\"], [\"Brandishing Mimosa\"]) ➞ False\n",
    "\n",
    "# # Both words in \"Brandishing Mimosa\" should begin with a \"B\" - \"Brandishing\n",
    "# Beaver\" would do the trick."
   ]
  }
 ],
 "metadata": {
  "kernelspec": {
   "display_name": "Python 3",
   "language": "python",
   "name": "python3"
  },
  "language_info": {
   "codemirror_mode": {
    "name": "ipython",
    "version": 3
   },
   "file_extension": ".py",
   "mimetype": "text/x-python",
   "name": "python",
   "nbconvert_exporter": "python",
   "pygments_lexer": "ipython3",
   "version": "3.8.3"
  }
 },
 "nbformat": 4,
 "nbformat_minor": 4
}
