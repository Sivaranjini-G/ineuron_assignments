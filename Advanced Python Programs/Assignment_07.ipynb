{
 "cells": [
  {
   "cell_type": "markdown",
   "metadata": {},
   "source": [
    "1. Write a function that counts how many concentric layers a rug."
   ]
  },
  {
   "cell_type": "code",
   "execution_count": 3,
   "metadata": {},
   "outputs": [
    {
     "name": "stdout",
     "output_type": "stream",
     "text": [
      "2\n",
      "3\n",
      "5\n"
     ]
    }
   ],
   "source": [
    "import math\n",
    "def count_layers(layer):\n",
    "   return math.ceil(len(layer)/2)\n",
    "\n",
    "print(count_layers([\n",
    "  \"AAAA\",\n",
    "  \"ABBA\",\n",
    "  \"AAAA\"\n",
    "]\n",
    "))\n",
    "print(count_layers([\n",
    "  \"AAAAAAAAA\",\n",
    "  \"ABBBBBBBA\",\n",
    "  \"ABBAAABBA\",\n",
    "  \"ABBBBBBBA\",\n",
    "  \"AAAAAAAAA\"\n",
    "])\n",
    ")\n",
    "\n",
    "print(count_layers([\n",
    "  \"AAAAAAAAAAA\",\n",
    "  \"AABBBBBBBAA\",\n",
    "  \"AABCCCCCBAA\",\n",
    "  \"AABCAAACBAA\",\n",
    "  \"AABCADACBAA\",\n",
    "  \"AABCAAACBAA\",\n",
    "  \"AABCCCCCBAA\",\n",
    "  \"AABBBBBBBAA\",\n",
    "  \"AAAAAAAAAAA\"\n",
    "])\n",
    ")"
   ]
  },
  {
   "cell_type": "markdown",
   "metadata": {},
   "source": [
    "2. There are many different styles of music and many albums exhibit multiple styles. Create a function that takes a list of musical styles from albums and returns how many styles are unique."
   ]
  },
  {
   "cell_type": "code",
   "execution_count": 9,
   "metadata": {},
   "outputs": [
    {
     "name": "stdout",
     "output_type": "stream",
     "text": [
      "9\n",
      "7\n"
     ]
    }
   ],
   "source": [
    "def unique_styles(mylist):\n",
    "    newlist = []\n",
    "    for i in mylist:\n",
    "        for j in i.split(\",\"):\n",
    "            newlist.append(j)\n",
    "    return len(set(newlist))\n",
    "\n",
    "\n",
    "print(unique_styles([\n",
    "  \"Dub,Dancehall\",\n",
    "  \"Industrial,Heavy Metal\",\n",
    "  \"Techno,Dubstep\",\n",
    "  \"Synth-pop,Euro-Disco\",\n",
    "  \"Industrial,Techno,Minimal\"\n",
    "]))\n",
    "\n",
    "print(unique_styles([\n",
    "  \"Soul\",\n",
    "  \"House,Folk\",\n",
    "  \"Trance,Downtempo,Big Beat,House\",\n",
    "  \"Deep House\",\n",
    "  \"Soul\"\n",
    "])\n",
    ")\n"
   ]
  },
  {
   "cell_type": "markdown",
   "metadata": {},
   "source": [
    "3. Create a function that finds a target number in a list of prime numbers. Implement a binary search algorithm in your function. The target number will be from 2 through 97. If the target is prime then return \"yes\" else return \"no\".\n",
    "\n"
   ]
  },
  {
   "cell_type": "code",
   "execution_count": 22,
   "metadata": {},
   "outputs": [
    {
     "name": "stdout",
     "output_type": "stream",
     "text": [
      "For number 3  Yes\n",
      "For number 4  No\n",
      "For number 67  Yes\n",
      "For number 36  No\n"
     ]
    }
   ],
   "source": [
    "# Iterative Binary Search Function method Python Implementation  \n",
    "# It returns index of n in given list1 if present,   \n",
    "# else returns -1   \n",
    "def binary_search(list1, n):  \n",
    "    low = 0  \n",
    "    high = len(list1) - 1  \n",
    "    mid = 0  \n",
    "  \n",
    "    while low <= high:  \n",
    "        # for get integer result   \n",
    "        mid = (high + low) // 2  \n",
    "  \n",
    "        # Check if n is present at mid   \n",
    "        if list1[mid] < n:  \n",
    "            low = mid + 1  \n",
    "  \n",
    "        # If n is greater, compare to the right of mid   \n",
    "        elif list1[mid] > n:  \n",
    "            high = mid - 1  \n",
    "  \n",
    "        # If n is smaller, compared to the left of mid  \n",
    "        else:  \n",
    "            return mid  \n",
    "  \n",
    "            # element was not present in the list, return -1  \n",
    "    return -1  \n",
    "  \n",
    "\n",
    "list1 =  [2, 3, 5, 7, 11, 13, 17, 19, 23, 29, 31, 37, 41, 43, 47, 53, 59, 61, 67, 71, 73, 79, 83, 89, 97]\n",
    " \n",
    "  \n",
    "# Function call   \n",
    "\n",
    "def return_result(result):\n",
    "    if result != -1:  \n",
    "        return \"Yes\"\n",
    "    else:  \n",
    "        return \"No\" \n",
    "print(\"For number 3 \",return_result(binary_search(list1, 3))) \n",
    "print(\"For number 4 \",return_result(binary_search(list1, 4)))\n",
    "print(\"For number 67 \",return_result(binary_search(list1, 67))) \n",
    "print(\"For number 36 \",return_result(binary_search(list1, 36)))"
   ]
  },
  {
   "cell_type": "markdown",
   "metadata": {},
   "source": [
    "4. Create a function that takes in n, a, b and returns the number of positive values raised to the nth power that lie in the range [a, b], inclusive.\n",
    "\n"
   ]
  },
  {
   "cell_type": "code",
   "execution_count": 35,
   "metadata": {},
   "outputs": [
    {
     "name": "stdout",
     "output_type": "stream",
     "text": [
      "power_ranger(5, 31, 33)=>  1\n",
      "power_ranger(2, 49, 65)=>  2\n",
      "power_ranger(3, 1, 27)=>  3\n",
      "power_ranger(10, 1, 5)=>  1\n",
      "power_ranger(4, 250, 1300)=>  3\n"
     ]
    }
   ],
   "source": [
    "\n",
    "def power_ranger(n, a, b):\n",
    "    ress = 0\n",
    "    res = 1\n",
    "    result = 1\n",
    "    while res<=b:\n",
    "\n",
    "        res = result**n\n",
    "        result = result + 1\n",
    "     \n",
    "        if res>=a:\n",
    "            ress = ress + 1\n",
    "        if res>b:\n",
    "            ress = ress - 1\n",
    "\n",
    "    return ress\n",
    "\n",
    "print(\"power_ranger(5, 31, 33)=> \",power_ranger(5, 31, 33))\n",
    "print(\"power_ranger(2, 49, 65)=> \", power_ranger(2, 49, 65))\n",
    "print(\"power_ranger(3, 1, 27)=> \", power_ranger(3, 1, 27))\n",
    "print(\"power_ranger(10, 1, 5)=> \",power_ranger(10, 1, 5))\n",
    "print(\"power_ranger(4, 250, 1300)=> \",power_ranger(4, 250, 1300))\n"
   ]
  },
  {
   "cell_type": "markdown",
   "metadata": {},
   "source": [
    "5. Given a number, return the difference between the maximum and minimum numbers that can be formed when the digits are rearranged."
   ]
  },
  {
   "cell_type": "code",
   "execution_count": 10,
   "metadata": {},
   "outputs": [
    {
     "name": "stdout",
     "output_type": "stream",
     "text": [
      "rearranged_difference(972882)=>  760833\n",
      "rearranged_difference(3320707)=>  7709823\n",
      "rearranged_difference(90010)=>  90981\n"
     ]
    }
   ],
   "source": [
    "\n",
    "def rearranged_difference(num):\n",
    "    num_split = [int(x) for x in str(num)]\n",
    "    max = int(\"\".join([str(val) for val in sorted(num_split,reverse=True)]))\n",
    "    min = int(\"\".join([str(val) for val in sorted(num_split)]))\n",
    "    \n",
    "    return (max - min)\n",
    "    \n",
    "print(\"rearranged_difference(972882)=> \",rearranged_difference(972882))\n",
    "print(\"rearranged_difference(3320707)=> \",rearranged_difference(3320707))\n",
    "print(\"rearranged_difference(90010)=> \",rearranged_difference(90010))"
   ]
  }
 ],
 "metadata": {
  "kernelspec": {
   "display_name": "Python 3",
   "language": "python",
   "name": "python3"
  },
  "language_info": {
   "codemirror_mode": {
    "name": "ipython",
    "version": 3
   },
   "file_extension": ".py",
   "mimetype": "text/x-python",
   "name": "python",
   "nbconvert_exporter": "python",
   "pygments_lexer": "ipython3",
   "version": "3.8.3"
  }
 },
 "nbformat": 4,
 "nbformat_minor": 4
}
