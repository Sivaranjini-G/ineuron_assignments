{
 "cells": [
  {
   "cell_type": "markdown",
   "metadata": {},
   "source": [
    "1. For this challenge, forget how to add two numbers together. The best\n",
    "    explanation on what to do for this function is this meme:"
   ]
  },
  {
   "cell_type": "code",
   "execution_count": 54,
   "metadata": {},
   "outputs": [
    {
     "name": "stdout",
     "output_type": "stream",
     "text": [
      "515\n",
      "1103\n",
      "31499\n"
     ]
    }
   ],
   "source": [
    "\n",
    "import re\n",
    " \n",
    "def Convert(string):\n",
    "    return re.findall('\\d', string)\n",
    "     \n",
    "def change_length(num,length):\n",
    "    for i in range(length):\n",
    "        num = \"0\"+num\n",
    "    return num\n",
    "\n",
    "def meme_sum(num1, num2):\n",
    "    if len(str(num1)) == len(str(num2)):\n",
    "        length = len(str(num1))\n",
    "    elif len(str(num1)) > len(str(num2)):\n",
    "        num2 =change_length(str(num2), len(str(num1)) - len(str(num2)))\n",
    "        length = len(str(num1))\n",
    "    else:\n",
    "        num1 =change_length(str(num1), len(str(num2)) - len(str(num1)))\n",
    "        length = len(str(num2))\n",
    "    counter = length - 1\n",
    "    num1_list = Convert(str(num1))\n",
    "    num2_list = Convert(str(num2))\n",
    "    total = \"\"\n",
    "    sum = {}\n",
    "    for i in range(length):\n",
    "        sum[counter] =  int(num1_list[counter]) + int(num2_list[counter])\n",
    "        counter = counter - 1\n",
    "\n",
    "    for i in range(len(sum)):\n",
    "        total = total + str(sum[i])\n",
    " \n",
    "    return total  \n",
    "\n",
    "print(meme_sum(26, 39))\n",
    "print(meme_sum(122, 81))\n",
    "print(meme_sum(1222, 30277))\n",
    "#     for i in range()\n",
    "# meme_sum(26, 39) ➞ 515\n",
    "# # 2+3 = 5, 6+9 = 15\n",
    "\n",
    "# # 26 + 39 = 515\n",
    "# meme_sum(122, 81) ➞ 1103\n",
    "# # 1+0 = 1, 2+8 = 10, 2+1 = 3\n",
    "# # 122 + 81 = 1103\n",
    "# meme_sum(1222, 30277) ➞ 31499"
   ]
  },
  {
   "cell_type": "markdown",
   "metadata": {},
   "source": [
    "2. Given an integer, create a function that returns the next prime. If the\n",
    "    number is prime, return the number itself."
   ]
  },
  {
   "cell_type": "code",
   "execution_count": 59,
   "metadata": {},
   "outputs": [
    {
     "name": "stdout",
     "output_type": "stream",
     "text": [
      "13\n",
      "29\n",
      "11\n"
     ]
    }
   ],
   "source": [
    "def find_prime(num): \n",
    "    if num > 1:\n",
    "        for i in range(2, int(num/2)+1):\n",
    "            if (num % i) == 0:\n",
    "                result = False\n",
    "                break\n",
    "        else:\n",
    "            result = True\n",
    "    else:\n",
    "        result = False\n",
    "        \n",
    "    return result\n",
    "def next_prime(num):\n",
    "    flag = False\n",
    "    while flag == False:\n",
    "        if find_prime(num) != True:\n",
    "            num = num + 1\n",
    "        else:\n",
    "            flag = True\n",
    "    return num\n",
    "    \n",
    "print(next_prime(12))\n",
    "print(next_prime(24))\n",
    "print(next_prime(11))\n",
    "\n",
    "# next_prime(12) ➞ 13\n",
    "# next_prime(24) ➞ 29\n",
    "# next_prime(11) ➞ 11"
   ]
  },
  {
   "cell_type": "markdown",
   "metadata": {},
   "source": [
    "3. If a person traveled up a hill for 18mins at 20mph and then traveled back\n",
    "    down the same path at 60mph then their average speed traveled was 30mph.\n",
    "    Write a function that returns the average speed traveled given an uphill time,\n",
    "    uphill rate and a downhill rate. Uphill time is given in minutes. Return the rate\n",
    "    as an integer (mph). No rounding is necessary."
   ]
  },
  {
   "cell_type": "code",
   "execution_count": 68,
   "metadata": {},
   "outputs": [
    {
     "name": "stdout",
     "output_type": "stream",
     "text": [
      "30.0\n",
      "15.0\n",
      "12.0\n"
     ]
    }
   ],
   "source": [
    "def ave_spd(num1, num2, num3):\n",
    "    max_num = max(num2, num3)\n",
    "    min_num = min(num2, num3)\n",
    "    max_min = max_num/min_num\n",
    "    return ((min_num*max_min+max_num)/(max_min+1))\n",
    "    \n",
    "print(ave_spd(18, 20, 60))\n",
    "print(ave_spd(30, 10, 30))\n",
    "print(ave_spd(30, 8, 24))\n",
    "# ave_spd(18, 20, 60) ➞ 30\n",
    "# ave_spd(30, 10, 30) ➞ 15\n",
    "# ave_spd(30, 8, 24) ➞ 12"
   ]
  },
  {
   "cell_type": "markdown",
   "metadata": {},
   "source": [
    "4. The Kempner Function, applied to a composite number, permits to find the\n",
    "    smallest integer greater than zero whose factorial is exactly divided by the\n",
    "    number."
   ]
  },
  {
   "cell_type": "code",
   "execution_count": 78,
   "metadata": {},
   "outputs": [
    {
     "name": "stdout",
     "output_type": "stream",
     "text": [
      "3\n",
      "5\n",
      "2\n"
     ]
    }
   ],
   "source": [
    "def find_fact(num):\n",
    "    factorial = 1    \n",
    "    \n",
    "    for i in range(1,num + 1):    \n",
    "        factorial = factorial*i    \n",
    "    return factorial\n",
    "\n",
    "def kempner(num):\n",
    "    flag = True\n",
    "    counter = 1\n",
    "    while flag == True:\n",
    "        if find_fact(counter) % num == 0:\n",
    "            flag = False\n",
    "            break;\n",
    "        else:\n",
    "            counter = counter + 1\n",
    "    return counter\n",
    "\n",
    "print(kempner(6))\n",
    "print(kempner(10))\n",
    "print(kempner(2))\n",
    "\n",
    "# kempner(6) ➞ 3\n",
    "# kempner(10) ➞ 5\n",
    "# kempner(2) ➞ 2\n"
   ]
  },
  {
   "cell_type": "markdown",
   "metadata": {},
   "source": [
    "5. You work in a factory, and your job is to take items from a conveyor belt\n",
    "    and pack them into boxes. Each box can hold a maximum of 10 kgs. Given a\n",
    "    list containing the weight (in kg) of each item, how many boxes would you\n",
    "    need to pack all of the items?"
   ]
  },
  {
   "cell_type": "code",
   "execution_count": 95,
   "metadata": {},
   "outputs": [
    {
     "name": "stdout",
     "output_type": "stream",
     "text": [
      "5\n"
     ]
    }
   ],
   "source": [
    "def boxes(arr):\n",
    "    counter = 0\n",
    "    sum = 0\n",
    "    for i in range(len(arr)):\n",
    "        sum = sum + arr[i]\n",
    "        if i == len(arr) -1:\n",
    "            counter = counter + 1\n",
    "        elif sum >= 10 or (sum + arr[i+1]) > 10:\n",
    "            counter = counter + 1\n",
    "            sum = 0\n",
    "            \n",
    "    return counter\n",
    "    \n",
    "print(boxes([2, 1, 2, 5, 4, 3, 6, 1, 1, 9, 3, 2]))\n",
    "# boxes([2, 1, 2, 5, 4, 3, 6, 1, 1, 9, 3, 2]) ➞ 5"
   ]
  }
 ],
 "metadata": {
  "kernelspec": {
   "display_name": "Python 3",
   "language": "python",
   "name": "python3"
  },
  "language_info": {
   "codemirror_mode": {
    "name": "ipython",
    "version": 3
   },
   "file_extension": ".py",
   "mimetype": "text/x-python",
   "name": "python",
   "nbconvert_exporter": "python",
   "pygments_lexer": "ipython3",
   "version": "3.8.3"
  }
 },
 "nbformat": 4,
 "nbformat_minor": 4
}
