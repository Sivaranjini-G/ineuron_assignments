{
 "cells": [
  {
   "cell_type": "markdown",
   "metadata": {},
   "source": [
    "1. YouTube offers different playback speed options for users. This allows users to increase or decrease the speed of the video content. Given the actual duration and playback speed of the video, calculate the playback duration of the video."
   ]
  },
  {
   "cell_type": "code",
   "execution_count": 45,
   "metadata": {},
   "outputs": [
    {
     "name": "stdout",
     "output_type": "stream",
     "text": [
      "playback_duration(\"00:30:00\", 2) ➞  0:15:0\n",
      "playback_duration(\"01:20:00\", 1.5) ➞  0:53:20\n",
      "playback_duration(\"51:20:09\", 0.5) ➞  102:40:18\n"
     ]
    }
   ],
   "source": [
    "from datetime import datetime\n",
    "\n",
    "\n",
    "def get_sec(time_str):\n",
    "    \"\"\"Get seconds from time.\"\"\"\n",
    "    h, m, s = time_str.split(':')\n",
    "    return (int(h) * 3600 + int(m) * 60 + int(s)) * 1000\n",
    "\n",
    "\n",
    "\n",
    "def get_duration(millis):\n",
    "\n",
    "\n",
    "    seconds=(millis/1000)%60\n",
    "    seconds = int(seconds)\n",
    "    minutes=(millis/(1000*60))%60\n",
    "    minutes = int(minutes)\n",
    "    hours=(millis/(1000*60*60))\n",
    "\n",
    "    result = (\"%d:%d:%d\" % (hours, minutes, seconds))\n",
    "    return(result)\n",
    "def playback_duration(time_str,speed):\n",
    "    millis = get_sec(time_str)\n",
    "    millis = millis / speed\n",
    "    return get_duration(millis)\n",
    "\n",
    "print('playback_duration(\"00:30:00\", 2) ➞ ' ,playback_duration(\"00:30:00\", 2))\n",
    "print('playback_duration(\"01:20:00\", 1.5) ➞ ',playback_duration(\"01:20:00\", 1.5))\n",
    "print('playback_duration(\"51:20:09\", 0.5) ➞ ',playback_duration(\"51:20:09\", 0.5))\n",
    "# playback_duration(\"00:30:00\", 2) ➞ \"00:15:00\"\n",
    "# playback_duration(\"01:20:00\", 1.5) ➞ \"00:53:20\"\n",
    "# playback_duration(\"51:20:09\", 0.5) ➞ \"102:40:18\""
   ]
  },
  {
   "cell_type": "markdown",
   "metadata": {},
   "source": [
    "2. We needs your help to construct a building which will be a pile of n cubes. The cube at the bottom will have a volume of n^3, the cube above will have volume of (n-1)^3 and so on until the top which will have a volume of 1^3.\n",
    "\n",
    "    Given the total volume m of the building, can you find the number of cubes n\n",
    "    required for the building?\n",
    "    In other words, you have to return an integer n such that:\n",
    "    n^3 + (n-1)^3 + ... + 1^3 == m\n",
    "    Return None if there is no such number."
   ]
  },
  {
   "cell_type": "code",
   "execution_count": 51,
   "metadata": {},
   "outputs": [
    {
     "name": "stdout",
     "output_type": "stream",
     "text": [
      "pile_of_cubes(1071225)➞  45\n",
      "pile_of_cubes(4183059834009) ➞  2022\n",
      "pile_of_cubes(16) ➞  None\n"
     ]
    }
   ],
   "source": [
    "def pile_of_cubes(m):\n",
    "    total = 0\n",
    "    n = 0\n",
    "    \n",
    "    while (total < m):\n",
    "        n = n + 1\n",
    "        total = total + n ** 3\n",
    "        \n",
    "    return n if total == m else None\n",
    "\n",
    "print(\"pile_of_cubes(1071225)➞ \",pile_of_cubes(1071225))\n",
    "print(\"pile_of_cubes(4183059834009) ➞ \",pile_of_cubes(4183059834009))\n",
    "print(\"pile_of_cubes(16) ➞ \", pile_of_cubes(16))"
   ]
  },
  {
   "cell_type": "markdown",
   "metadata": {},
   "source": [
    "3. A fulcrum of a list is an integer such that all elements to the left of it and all\n",
    "    elements to the right of it sum to the same value. Write a function that finds\n",
    "    the fulcrum of a list.\n",
    "    To illustrate:\n",
    "    find_fulcrum([3, 1, 5, 2, 4, 6, -1]) ➞ 2\n",
    "    // Since [3, 1, 5] and [4, 6, -1] both sum to 9"
   ]
  },
  {
   "cell_type": "code",
   "execution_count": 53,
   "metadata": {},
   "outputs": [
    {
     "name": "stdout",
     "output_type": "stream",
     "text": [
      "find_fulcrum([3, 1, 5, 2, 4, 6, -1]) ➞  2\n",
      "find_fulcrum([1, 2, 4, 9, 10, -10, -9, 3]) ➞  4\n",
      "find_fulcrum([9, 1, 9]) ➞  1\n",
      "find_fulcrum([7, -1, 0, -1, 1, 1, 2, 3]) ➞  0\n",
      "find_fulcrum([8, 8, 8, 8]) ➞  -1\n"
     ]
    }
   ],
   "source": [
    "def find_fulcrum(arr, n):\n",
    "    for i in range(1, n):\n",
    "        leftSum = sum(arr[0:i])\n",
    "        rightSum = sum(arr[i+1:])\n",
    "        if(leftSum == rightSum):\n",
    "            return arr[i]\n",
    "    return -1\n",
    "\n",
    "print(\"find_fulcrum([3, 1, 5, 2, 4, 6, -1]) ➞ \", find_fulcrum([3, 1, 5, 2, 4, 6, -1],len([3, 1, 5, 2, 4, 6, -1])))\n",
    "print(\"find_fulcrum([1, 2, 4, 9, 10, -10, -9, 3]) ➞ \", find_fulcrum([1, 2, 4, 9, 10, -10, -9, 3],len([1, 2, 4, 9, 10, -10, -9, 3])))\n",
    "print(\"find_fulcrum([9, 1, 9]) ➞ \", find_fulcrum([9, 1, 9],len([9, 1, 9])))\n",
    "print(\"find_fulcrum([7, -1, 0, -1, 1, 1, 2, 3]) ➞ \", find_fulcrum([7, -1, 0, -1, 1, 1, 2, 3],len([7, -1, 0, -1, 1, 1, 2, 3])))\n",
    "print(\"find_fulcrum([8, 8, 8, 8]) ➞ \", find_fulcrum([8, 8, 8, 8],len([8, 8, 8, 8])))\n",
    "# find_fulcrum([3, 1, 5, 2, 4, 6, -1]) ➞ 2\n",
    "# find_fulcrum([1, 2, 4, 9, 10, -10, -9, 3]) ➞ 4\n",
    "# find_fulcrum([9, 1, 9]) ➞ 1\n",
    "# find_fulcrum([7, -1, 0, -1, 1, 1, 2, 3]) ➞ 0\n",
    "# find_fulcrum([8, 8, 8, 8]) ➞ -1"
   ]
  },
  {
   "cell_type": "markdown",
   "metadata": {},
   "source": [
    "4. Given a list of integers representing the color of each sock, determine how\n",
    "    many pairs of socks with matching colors there are. For example, there are 7\n",
    "    socks with colors [1, 2, 1, 2, 1, 3, 2]. There is one pair of color 1 and one of\n",
    "    color 2. There are three odd socks left, one of each color. The number of\n",
    "    pairs is 2.\n",
    "    Create a function that returns an integer representing the number of matching\n",
    "    pairs of socks that are available."
   ]
  },
  {
   "cell_type": "code",
   "execution_count": 83,
   "metadata": {
    "scrolled": true
   },
   "outputs": [
    {
     "name": "stdout",
     "output_type": "stream",
     "text": [
      "sock_merchant([10, 20, 20, 10, 10, 30, 50, 10, 20]) ➞  3\n",
      "sock_merchant([50, 20, 30, 90, 30, 20, 50, 20, 90]) ➞  4\n",
      "sock_merchant([]) ➞  0\n"
     ]
    }
   ],
   "source": [
    "import math\n",
    "arr = [10, 20, 20, 10, 10, 30, 50, 10, 20]\n",
    "\n",
    "def sock_merchant(arr):\n",
    "    unique = list((set(arr)))\n",
    "    pair = 0 \n",
    "    for i in unique:\n",
    "        occur = arr.count(i)\n",
    "       \n",
    "        if occur != 1:\n",
    "            pair = pair + math.floor(occur/2)\n",
    "            \n",
    "    return pair\n",
    "\n",
    "print(\"sock_merchant([10, 20, 20, 10, 10, 30, 50, 10, 20]) ➞ \",sock_merchant([10, 20, 20, 10, 10, 30, 50, 10, 20]))\n",
    "print(\"sock_merchant([50, 20, 30, 90, 30, 20, 50, 20, 90]) ➞ \",sock_merchant([50, 20, 30, 90, 30, 20, 50, 20, 90]))\n",
    "print(\"sock_merchant([]) ➞ \",sock_merchant([]))\n",
    "    \n",
    "    \n",
    "# sock_merchant([10, 20, 20, 10, 10, 30, 50, 10, 20]) ➞ 3\n",
    "# sock_merchant([50, 20, 30, 90, 30, 20, 50, 20, 90]) ➞ 4\n",
    "# sock_merchant([]) ➞ 0"
   ]
  },
  {
   "cell_type": "markdown",
   "metadata": {},
   "source": [
    "5. Create a function that takes a string containing integers as well as other characters and return the sum of the negative integers only."
   ]
  },
  {
   "cell_type": "code",
   "execution_count": 93,
   "metadata": {},
   "outputs": [
    {
     "name": "stdout",
     "output_type": "stream",
     "text": [
      "negative_sum(\"-12 13%14&amp;-11\") ➞  -23\n",
      "negative_sum(\"22 13%14&amp;-11-22 13 12\") ➞  -33\n"
     ]
    }
   ],
   "source": [
    "import re\n",
    "string = \"22 13%14&amp;-11-22 13 12\"\n",
    "\n",
    "def negative_sum(string):\n",
    "    result = 0\n",
    "    neg_arr = [int(d) for d in re.findall(r'-\\d+', string)]\n",
    "    \n",
    "    for i in neg_arr:\n",
    "        result = result + i\n",
    "        \n",
    "    return result\n",
    "\n",
    "print('negative_sum(\"-12 13%14&amp;-11\") ➞ ',negative_sum(\"-12 13%14&amp;-11\"))    \n",
    "print('negative_sum(\"22 13%14&amp;-11-22 13 12\") ➞ ',negative_sum(\"22 13%14&amp;-11-22 13 12\")) \n",
    "# negative_sum(\"-12 13%14&amp;-11\") ➞ -23\n",
    "# # -12 + -11 = -23\n",
    "# negative_sum(\"22 13%14&amp;-11-22 13 12\") ➞ -33\n",
    "# # -11 + -22 = -33"
   ]
  }
 ],
 "metadata": {
  "kernelspec": {
   "display_name": "Python 3",
   "language": "python",
   "name": "python3"
  },
  "language_info": {
   "codemirror_mode": {
    "name": "ipython",
    "version": 3
   },
   "file_extension": ".py",
   "mimetype": "text/x-python",
   "name": "python",
   "nbconvert_exporter": "python",
   "pygments_lexer": "ipython3",
   "version": "3.8.3"
  }
 },
 "nbformat": 4,
 "nbformat_minor": 4
}
