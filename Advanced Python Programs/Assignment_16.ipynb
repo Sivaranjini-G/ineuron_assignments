{
 "cells": [
  {
   "cell_type": "markdown",
   "metadata": {},
   "source": [
    "1. Rondo Form is a type of musical structure, in which there is a recurring\n",
    "    theme/refrain, notated as A. Here are the rules for valid rondo forms:\n",
    "    - Rondo forms always start and end with an A section.\n",
    "    - In between the A sections, there should be contrasting sections notated as\n",
    "    B, then C, then D, etc... No letter should be skipped.\n",
    "    - There shouldn&#39;t be any repeats in the sequence (such as ABBACCA).\n",
    "    Create a function which validates whether a given string is a valid Rondo\n",
    "    Form."
   ]
  },
  {
   "cell_type": "code",
   "execution_count": 27,
   "metadata": {},
   "outputs": [
    {
     "name": "stdout",
     "output_type": "stream",
     "text": [
      "True\n",
      "True\n",
      "False\n",
      "False\n",
      "False\n"
     ]
    }
   ],
   "source": [
    "import re\n",
    "import math\n",
    "\n",
    "def valid_rondo(string):\n",
    "    j = 0\n",
    "    result = True\n",
    "    if len(string) < 3 or string[0] != \"A\" or string[-1] != \"A\":\n",
    "        return False\n",
    "    else:\n",
    "        for i in range(math.floor(len(string)/2)):\n",
    "            if len(re.findall(r\"A[A-Z]A\",string[j]+string[j+1]+string[j+2])) == 0:\n",
    "                result = False\n",
    "                break\n",
    "            j = j + 2\n",
    "        return result\n",
    "    \n",
    "print(valid_rondo(\"ABACADAEAFAGAHAIAJA\"))\n",
    "print(valid_rondo(\"ABA\"))\n",
    "print(valid_rondo(\"ABBACCA\"))\n",
    "print(valid_rondo(\"ACAC\"))\n",
    "print(valid_rondo(\"A\") )\n",
    "# valid_rondo(\"ABACADAEAFAGAHAIAJA\") ➞ True\n",
    "# valid_rondo(\"ABA\") ➞ True\n",
    "# valid_rondo(\"ABBACCA\") ➞ False\n",
    "# valid_rondo(\"ACAC\") ➞ False\n",
    "# valid_rondo(\"A\") ➞ False"
   ]
  },
  {
   "cell_type": "markdown",
   "metadata": {},
   "source": [
    "2. Create a function that returns the whole of the first sentence which contains a specific word. Include the full stop at the end of the sentence."
   ]
  },
  {
   "cell_type": "code",
   "execution_count": 51,
   "metadata": {},
   "outputs": [
    {
     "name": "stdout",
     "output_type": "stream",
     "text": [
      "i have a cat.\n",
      "i have a mat.\n",
      "things are going swell.\n",
      "\n"
     ]
    }
   ],
   "source": [
    "txt = \"I have a cat. I have a mat. Things are going swell.\"\n",
    "def sentence_searcher(txt, string):\n",
    "    string = string.lower()\n",
    "    pattern = r\"([^.]*?\"+string+\"[^.]*\\.)\"\n",
    "    txt = txt.lower()\n",
    "    result = re.findall(pattern, txt)\n",
    "    if len(result) == 0:\n",
    "        return (\"\")\n",
    "    elif type(result) == list:\n",
    "        return result[0].strip()\n",
    "    else:\n",
    "        return None\n",
    "    \n",
    "print(sentence_searcher(txt, \"have\"))\n",
    "print(sentence_searcher(txt, \"MAT\"))\n",
    "print(sentence_searcher(txt, \"things\"))\n",
    "print(sentence_searcher(txt, \"flat\"))\n",
    "# sentence_searcher(txt, \"have\") ➞ \"I have a cat.\"\n",
    "# sentence_searcher(txt, \"MAT\") ➞ \"I have a mat.\"\n",
    "# sentence_searcher(txt, \"things\") ➞ \"Things are going swell.\"\n",
    "# sentence_searcher(txt, \"flat\") ➞ \"\""
   ]
  },
  {
   "cell_type": "markdown",
   "metadata": {},
   "source": [
    "3. Given a number, find the \"round \"of each digit of the number. An integer is\n",
    "    called \"round\" if all its digits except the leftmost (most significant) are equal to\n",
    "    zero.\n",
    "    - Round numbers: 4000, 1, 9, 800, 90\n",
    "    - Not round numbers: 110, 707, 222, 1001\n",
    "\n",
    "    Create a function that takes a number and returns the \"round\" of each digit\n",
    "    (except if the digit is zero) as a string. Check out the following examples for\n",
    "    more clarification.\n"
   ]
  },
  {
   "cell_type": "code",
   "execution_count": 94,
   "metadata": {},
   "outputs": [
    {
     "name": "stdout",
     "output_type": "stream",
     "text": [
      "1 100\n",
      "4 30 200 1000\n",
      "10 200 4000 50000\n"
     ]
    }
   ],
   "source": [
    "def sum_round(num):\n",
    "    length = len(str(num))\n",
    "    num = str(num)\n",
    "    if num[-1] != \"0\":\n",
    "        result = num[-1]\n",
    "    else:\n",
    "        result=\"\"\n",
    "    j = length - 2\n",
    "    for i in range(length-1):\n",
    "        if (num[j]) != \"0\":\n",
    "            zero = (length - j) - 1\n",
    "            result = result + \" \"+str((int(num[j])*(10**zero)))\n",
    "        j = j - 1\n",
    "        \n",
    "    return result.strip()\n",
    "\n",
    "print(sum_round(101))\n",
    "print(sum_round(1234))\n",
    "print(sum_round(54210))\n",
    "# Examples\n",
    "# sum_round(101) ➞ \"1 100\"\n",
    "# sum_round(1234) ➞ \"4 30 200 1000\"\n",
    "# sum_round(54210) ➞ \"10 200 4000 50000\""
   ]
  },
  {
   "cell_type": "markdown",
   "metadata": {},
   "source": [
    "4. Your task, is to create N x N multiplication table, of size n provided in\n",
    "    parameter.\n",
    "    For example, when n is 5, the multiplication table is:\n",
    "    - 1, 2, 3, 4, 5\n",
    "    - 2, 4, 6, 8, 10\n",
    "    - 3, 6, 9, 12, 15\n",
    "    - 4, 8, 12, 16, 20\n",
    "    - 5, 10, 15, 20, 25\n",
    "    This example will result in:\n",
    "    [[1, 2, 3, 4, 5], [2, 4, 6, 8, 10], [3, 6, 9, 12, 15], [4, 8, 12, 16, 20], [5, 10, 15, 20,\n",
    "    25]]"
   ]
  },
  {
   "cell_type": "code",
   "execution_count": 136,
   "metadata": {},
   "outputs": [
    {
     "name": "stdout",
     "output_type": "stream",
     "text": [
      "[[1]]\n",
      "[[1, 2, 3], [2, 4, 6], [3, 6, 9]]\n",
      "[[1, 2, 3, 4, 5], [2, 4, 6, 8, 10], [3, 6, 9, 12, 15], [4, 8, 12, 16, 20], [5, 10, 15, 20, 25]]\n"
     ]
    }
   ],
   "source": [
    "def multiplication_table(num):\n",
    "    result = {}\n",
    "    result_new  = []\n",
    "    for i in range(1, num+1):\n",
    "        result[i] = []\n",
    "        for j in range(1, num+1):\n",
    "            result[i].append(j*i)\n",
    "    for i,j in result.items():\n",
    "        result_new.append(j)\n",
    "    \n",
    "    return (result_new)\n",
    "    \n",
    "print(multiplication_table(1))\n",
    "print(multiplication_table(3))\n",
    "print(multiplication_table(5))\n",
    "# multiplication_table(1) ➞ [[1]]\n",
    "# multiplication_table(3) ➞ [[1, 2, 3], [2, 4, 6], [3, 6, 9]]"
   ]
  },
  {
   "cell_type": "markdown",
   "metadata": {},
   "source": [
    "5. Create a function that returns True if two lines rhyme and False otherwise.\n",
    "    For the purposes of this exercise, two lines rhyme if the last word from each\n",
    "    sentence contains the same vowels.\n"
   ]
  },
  {
   "cell_type": "code",
   "execution_count": 151,
   "metadata": {},
   "outputs": [
    {
     "name": "stdout",
     "output_type": "stream",
     "text": [
      "True\n",
      "True\n",
      "False\n",
      "False\n"
     ]
    }
   ],
   "source": [
    "def does_rhyme(str1, str2):\n",
    "\n",
    "    str1 = re.sub(r\"[^\\w+^\\s+]\", '',str1)\n",
    "    str2 = re.sub(r\"[^\\w+^\\s+]\", '',str2)\n",
    "    if (str1[-2]+str1[-1]).lower() == (str2[-2]+str2[-1]).lower():\n",
    "        return True\n",
    "    else:\n",
    "        return False\n",
    "    \n",
    "print(does_rhyme(\"Sam I am!\", \"Green eggs and ham.\"))\n",
    "print(does_rhyme(\"Sam I am!\", \"Green eggs and HAM.\"))\n",
    "print(does_rhyme(\"You are off to the races\", \"a splendid day.\"))\n",
    "print(does_rhyme(\"and frequently do?\", \"you gotta move.\"))\n",
    "# Examples\n",
    "# does_rhyme(\"Sam I am!\", \"Green eggs and ham.\") ➞ True\n",
    "# does_rhyme(\"Sam I am!\", \"Green eggs and HAM.\") ➞ True\n",
    "# # Capitalization and punctuation should not matter.\n",
    "\n",
    "# does_rhyme(\"You are off to the races\", \"a splendid day.\") ➞ False\n",
    "# does_rhyme(\"and frequently do?\", \"you gotta move.\") ➞ False"
   ]
  }
 ],
 "metadata": {
  "kernelspec": {
   "display_name": "Python 3",
   "language": "python",
   "name": "python3"
  },
  "language_info": {
   "codemirror_mode": {
    "name": "ipython",
    "version": 3
   },
   "file_extension": ".py",
   "mimetype": "text/x-python",
   "name": "python",
   "nbconvert_exporter": "python",
   "pygments_lexer": "ipython3",
   "version": "3.8.3"
  }
 },
 "nbformat": 4,
 "nbformat_minor": 4
}
