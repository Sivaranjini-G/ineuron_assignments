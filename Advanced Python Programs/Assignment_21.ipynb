{
 "cells": [
  {
   "cell_type": "markdown",
   "metadata": {},
   "source": [
    "1. Given a sentence, return the number of words which have the same first\n",
    "and last letter."
   ]
  },
  {
   "cell_type": "code",
   "execution_count": 16,
   "metadata": {},
   "outputs": [
    {
     "name": "stdout",
     "output_type": "stream",
     "text": [
      "1\n",
      "0\n",
      "1\n"
     ]
    }
   ],
   "source": [
    "import re\n",
    "def count_same_ends(string):\n",
    "    flag = 0\n",
    "    str_list = string.split()\n",
    "    for i in str_list:\n",
    "        i = re.sub(r'[^A-Za-z0-9]+', \"\",i)\n",
    "        if i[0].lower() == i[-1].lower():\n",
    "            flag = 1\n",
    "            break\n",
    "    return flag\n",
    "\n",
    "print(count_same_ends(\"Pop! goes the balloon\"))\n",
    "print(count_same_ends(\"And the crowd goes wild!\"))\n",
    "print(count_same_ends(\"No I am not in a gang.\"))\n",
    "\n",
    "# count_same_ends(\"Pop! goes the balloon\") ➞ 1\n",
    "# count_same_ends(\"And the crowd goes wild!\") ➞ 0\n",
    "# count_same_ends(\"No I am not in a gang.\") ➞ 1"
   ]
  },
  {
   "cell_type": "markdown",
   "metadata": {},
   "source": [
    "2. The Atbash cipher is an encryption method in which each letter of a word is\n",
    "replaced with its &quot;mirror&quot; letter in the alphabet: A &lt;=&gt; Z; B &lt;=&gt; Y; C &lt;=&gt; X;\n",
    "etc.\n",
    "Create a function that takes a string and applies the Atbash cipher to it."
   ]
  },
  {
   "cell_type": "code",
   "execution_count": 79,
   "metadata": {},
   "outputs": [
    {
     "name": "stdout",
     "output_type": "stream",
     "text": [
      "zkkov\n",
      "Svool dliow!!\n",
      "Xsirhgnzh rh gsv 25gs lu Wvxvnyvi\n"
     ]
    }
   ],
   "source": [
    "import re\n",
    "letters = ['a','b','c','d','e','f','g','h','i','j','k','l','m','n','o','p','q','r','s','t','u','v','w','x','y','z']\n",
    "\n",
    "def atbash(string):\n",
    "    new_string = \"\"\n",
    "    spl_string_list = []\n",
    "    string = string.replace(\" \",\"+\")\n",
    "    spl_string = re.findall(r\"[@_!#$%^&*()<>?\\|}{~:\\d]+\",string)\n",
    "    if len(spl_string) > 0:\n",
    "        for i in range(len(spl_string[0])):\n",
    "            spl_string_list.append(spl_string[0][i]) \n",
    "    for i in range(len(string)):\n",
    "        if string[i] == \"+\":\n",
    "            new_string = new_string + \" \"\n",
    "        elif string[i] in spl_string_list:\n",
    "            new_string = new_string + string[i]\n",
    "        elif string[i].isupper() == True:\n",
    "            mirror = 25 - letters.index(string[i].lower())\n",
    "            new_string = new_string + letters[mirror].upper()\n",
    "        else:\n",
    "            mirror = 25 - letters.index(string[i].lower())\n",
    "            new_string = new_string + letters[mirror]\n",
    "    return (new_string)    \n",
    "print(atbash(\"apple\"))\n",
    "print(atbash(\"Hello world!!\"))\n",
    "print(atbash(\"Christmas is the 25th of December\"))\n",
    "# atbash(\"apple\") ➞ \"zkkov\"\n",
    "# atbash(\"Hello world!\") ➞ \"Svool dliow!\"\n",
    "# atbash(\"Christmas is the 25th of December\") ➞ \"Xsirhgnzh rh gsv 25gs lu\n",
    "# Wvxvnyvi\""
   ]
  },
  {
   "cell_type": "markdown",
   "metadata": {},
   "source": [
    "3. Create a class Employee that will take a full name as argument, as well as\n",
    "a set of none, one or more keywords. Each instance should have a name and\n",
    "a lastname attributes plus one more attribute for each of the keywords, if any."
   ]
  },
  {
   "cell_type": "code",
   "execution_count": 83,
   "metadata": {},
   "outputs": [
    {
     "name": "stdout",
     "output_type": "stream",
     "text": [
      "\"Italian\"\n",
      "John\n",
      "Major\n",
      "178\n"
     ]
    }
   ],
   "source": [
    "import pandas as pd\n",
    "def Employee(details):\n",
    "    details_dict = {}\n",
    "    \n",
    "    details_list = [i for i in details]\n",
    "    details_dict[\"name\"] = details_list[0].split(\" \")[0]\n",
    "    details_dict[\"lastname\"] = details_list[0].split(\" \")[1]\n",
    "    for i in range(1, len(details_list)):\n",
    "        field = details_list[i].split(\"=\")[0]\n",
    "        value = details_list[i].split(\"=\")[1]\n",
    "        details_dict[field] = value\n",
    "#     print(details_dict)\n",
    "    df = pd.DataFrame(details_dict, index=[0])\n",
    "    return (df)\n",
    "    \n",
    "john = Employee([\"John Doe\"])\n",
    "mary = Employee([\"Mary Major\", \"salary=120000\"])\n",
    "richard = Employee([\"Richard Roe\", \"salary=110000\", \"height=178\"])\n",
    "giancarlo = Employee([\"Giancarlo Rossi\", \"salary=115000\", \"height=182\", 'nationality=\"Italian\"'])\n",
    "print(giancarlo.nationality[0])\n",
    "print(john.name[0])\n",
    "print(mary.lastname[0])\n",
    "print(richard.height [0])\n",
    "# john = Employee(\"John Doe\")\n",
    "# mary = Employee(\"Mary Major\", salary=120000)\n",
    "# richard = Employee(\"Richard Roe\", salary=110000, height=178)\n",
    "# giancarlo = Employee(\"Giancarlo Rossi\", salary=115000, height=182,\n",
    "# nationality=\"Italian\")\n",
    "# john.name ➞ \"John\"\n",
    "# mary.lastname ➞ \"Major\"\n",
    "# richard.height ➞ 178\n",
    "# giancarlo.nationality ➞ \"Italian\""
   ]
  },
  {
   "cell_type": "markdown",
   "metadata": {},
   "source": [
    "4. Create a function that determines whether each seat can &quot;see&quot; the front-\n",
    "stage. A number can &quot;see&quot; the front-stage if it is strictly greater than the\n",
    "number before it.\n",
    "Everyone can see the front-stage in the example below:\n",
    "#FRONT STAGE\n",
    "[[1, 2, 3, 2, 1, 1],\n",
    "[2, 4, 4, 3, 2, 2],\n",
    "[5, 5, 5, 5, 4, 4],\n",
    "[6, 6, 7, 6, 5, 5]]\n",
    "#Starting from the left, the 6 &gt; 5 &gt; 2 &gt; 1, so all numbers can see.\n",
    "#6 &gt; 5 &gt; 4 &gt; 2 - so all numbers can see, etc.\n",
    "Not everyone can see the front-stage in the example below:\n",
    "#FRONT STAGE\n",
    "[[1, 2, 3, 2, 1, 1],\n",
    "[2, 4, 4, 3, 2, 2],\n",
    "[5, 5, 5, 10, 4, 4],\n",
    "[6, 6, 7, 6, 5, 5]]\n",
    "#The 10 is directly in front of the 6 and blocking its view.\n",
    "The function should return True if every number can see the front-stage, and\n",
    "False if even a single number cannot."
   ]
  },
  {
   "cell_type": "code",
   "execution_count": 89,
   "metadata": {},
   "outputs": [
    {
     "name": "stdout",
     "output_type": "stream",
     "text": [
      "True\n",
      "True\n",
      "False\n",
      "False\n"
     ]
    }
   ],
   "source": [
    "\n",
    "def can_see_stage(lst):\n",
    "    flag = True\n",
    "    for i in lst:\n",
    "        for j in range(len(i)-1):\n",
    "            if i[j] > i[j+1]:\n",
    "                flag = False\n",
    "                break;\n",
    "        if flag == False:\n",
    "            break;\n",
    "            \n",
    "    return flag\n",
    "\n",
    "print(can_see_stage([\n",
    "[1, 2, 3],\n",
    "[4, 5, 6],\n",
    "[7, 8, 9]\n",
    "]))\n",
    "print(can_see_stage([\n",
    "[0, 0, 0],\n",
    "[1, 1, 1],\n",
    "[2, 2, 2]\n",
    "]))\n",
    "print(can_see_stage([\n",
    "[2, 0, 0],\n",
    "[1, 1, 1],\n",
    "\n",
    "[2, 2, 2]\n",
    "]))\n",
    "print(can_see_stage([\n",
    "[1, 0, 0],\n",
    "[1, 1, 1],\n",
    "[2, 2, 2]\n",
    "]))\n",
    "# Examples\n",
    "# can_see_stage([\n",
    "# [1, 2, 3],\n",
    "# [4, 5, 6],\n",
    "# [7, 8, 9]\n",
    "# ]) ➞ True\n",
    "# can_see_stage([\n",
    "# [0, 0, 0],\n",
    "# [1, 1, 1],\n",
    "# [2, 2, 2]\n",
    "# ]) ➞ True\n",
    "# can_see_stage([\n",
    "# [2, 0, 0],\n",
    "# [1, 1, 1],\n",
    "\n",
    "# [2, 2, 2]\n",
    "# ]) ➞ False\n",
    "# can_see_stage([\n",
    "# [1, 0, 0],\n",
    "# [1, 1, 1],\n",
    "# [2, 2, 2]\n",
    "# ]) ➞ False\n",
    "# # Number must be strictly smaller than\n",
    "# # the number directly behind it."
   ]
  },
  {
   "cell_type": "markdown",
   "metadata": {},
   "source": [
    "5. Create a Pizza class with the attributes order_number and ingredients\n",
    "(which is given as a list). Only the ingredients will be given as input.\n",
    "You should also make it so that its possible to choose a ready made pizza\n",
    "flavour rather than typing out the ingredients manually! As well as creating\n",
    "this Pizza class, hard-code the following pizza flavours.\n",
    "Name Ingredients\n",
    "hawaiian ham, pineapple\n",
    "meat_festival beef, meatball, bacon\n",
    "garden_feast spinach, olives, mushroom"
   ]
  },
  {
   "cell_type": "code",
   "execution_count": 62,
   "metadata": {},
   "outputs": [
    {
     "name": "stdout",
     "output_type": "stream",
     "text": [
      "['bacon', 'parmesan', 'ham']\n",
      "3\n",
      "1\n",
      "['spinach', 'olives', 'mushroom']\n"
     ]
    }
   ],
   "source": [
    "class Pizza():\n",
    "    def __init__(self):\n",
    "        self.ingredients =  [\"bacon\", \"parmesan\", \"ham\"]\n",
    "        self.order_number = 1\n",
    "        self.name = \"hawaiian ham\"\n",
    "    \n",
    "    def garden_feast(self):\n",
    "        self.ingredients = [\"spinach\", \"olives\", \"mushroom\"]\n",
    "        self.order_number = 3\n",
    "        \n",
    "        \n",
    "    \n",
    "    def meat_festival(self):\n",
    "        self.ingredients = [\"beef\", \"meatball\", \"bacon\"]\n",
    "        self.order_numer = 2\n",
    "        return self.ingredients\n",
    "    \n",
    "p2 = Pizza()\n",
    "p1 = Pizza() \n",
    "p2.garden_feast() \n",
    "print(p1.ingredients)\n",
    "print(p2.order_number)\n",
    "print(p1.order_number)\n",
    "print(p2.ingredients)\n",
    "# print(p1.order_number)\n",
    "# print(p2.order_number)\n",
    "# p1 = Pizza([\"bacon\", \"parmesan\", \"ham\"]) # order 1\n",
    "# p2 = Pizza.garden_feast() # order 2\n",
    "# p1.ingredients ➞ [\"bacon\", \"parmesan\", \"ham\"]\n",
    "# p2.ingredients ➞ [\"spinach\", \"olives\", \"mushroom\"]\n",
    "# p1.order_number ➞ 1\n",
    "# p2.order_number ➞ 2"
   ]
  }
 ],
 "metadata": {
  "kernelspec": {
   "display_name": "Python 3",
   "language": "python",
   "name": "python3"
  },
  "language_info": {
   "codemirror_mode": {
    "name": "ipython",
    "version": 3
   },
   "file_extension": ".py",
   "mimetype": "text/x-python",
   "name": "python",
   "nbconvert_exporter": "python",
   "pygments_lexer": "ipython3",
   "version": "3.8.3"
  }
 },
 "nbformat": 4,
 "nbformat_minor": 4
}
