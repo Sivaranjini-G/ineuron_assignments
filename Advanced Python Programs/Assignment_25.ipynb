{
 "cells": [
  {
   "cell_type": "markdown",
   "metadata": {},
   "source": [
    "1. Write four functions that directly mutate a list:\n",
    "\n",
    "    1. repeat(lst, n): Repeat lst n times.\n",
    "    2. add(lst, x): Adds x to the end of the lst.\n",
    "    3. remove(lst, m, n): Removes all elements between indices m and n inclusive in lst.\n",
    "    4. concat(lst, x): concatenates lst with x (another list).\n"
   ]
  },
  {
   "cell_type": "code",
   "execution_count": 27,
   "metadata": {},
   "outputs": [
    {
     "name": "stdout",
     "output_type": "stream",
     "text": [
      "REPEAT:==>  [1, 2, 3, 4, 1, 2, 3, 4, 1, 2, 3, 4]\n",
      "ADD:==>  [1, 2, 3, 4, 1, 2, 3, 4, 1, 2, 3, 4, 1]\n",
      "REMOVE:==>  [1]\n",
      "CONCAT:==>  [1, 3, 4]\n"
     ]
    }
   ],
   "source": [
    "def repeat(lst, n):\n",
    "    lst_new = lst\n",
    "    for i in range(1,n):\n",
    "       lst_new = lst_new + lst\n",
    "    return lst_new\n",
    "def add(lst, x):\n",
    "    lst.append(x)\n",
    "    return lst\n",
    "def remove(lst, m, n):\n",
    "    del lst[m:n+1]\n",
    "    return lst\n",
    "def concat(lst, x):\n",
    "    \n",
    "    return lst + x\n",
    "\n",
    "lst = [1,2,3,4]\n",
    "\n",
    "lst_new = repeat(lst, 3)\n",
    "print(\"REPEAT:==> \",lst_new)\n",
    "lst_add = add(lst_new, 1)\n",
    "print(\"ADD:==> \",lst_add)\n",
    "lst_rem = remove(lst_add, 1, 12)\n",
    "print(\"REMOVE:==> \",lst_rem)\n",
    "lst_concat = concat(lst_rem, [3,4])\n",
    "print(\"CONCAT:==> \",lst_concat)"
   ]
  },
  {
   "cell_type": "markdown",
   "metadata": {},
   "source": [
    "2. The classic game of Mastermind is played on a tray on which the Mastermind conceals a code and the Guesser has 10 tries to guess it. The code is a sequence of 4 (or 6, sometimes more) pegs of different colors. Each guess is a corresponding sequence of 4 (or more) pegs of different colors. A guess is \"correct\" when the color of every peg in the guess exactly matches the corresponding peg in the Mastermind's code.\n",
    "\n",
    "After each guess by the Guesser, the Mastermind will give a score comprising black & white pegs, not arranged in any order:\n",
    "\n",
    "   - Black peg == guess peg matches the color of a code peg in the same position.\n",
    "   - White peg == guess peg matches the color of a code peg in another position.\n",
    "\n",
    "Create a function that takes two strings, code and guess as arguments, and returns the score in a dictionary.\n",
    "\n",
    "   - The code and guess are strings of numeric digits\n",
    "   - The color of the pegs are represented by numeric digits\n",
    "   - no \"peg\" may be double-scored\n"
   ]
  },
  {
   "cell_type": "code",
   "execution_count": 46,
   "metadata": {},
   "outputs": [
    {
     "name": "stdout",
     "output_type": "stream",
     "text": [
      "Result==> : {'black': 0, 'white': 0}\n",
      "Result==> : {'black': 1, 'white': 0}\n",
      "Result==> : {'black': 1, 'white': 3}\n",
      "Result==> : {'black': 0, 'white': 2}\n"
     ]
    }
   ],
   "source": [
    "\n",
    "def guess_score(lst1, lst2):\n",
    "    white = 0\n",
    "    black = 0\n",
    "    lst1_n = []\n",
    "    lst1_n[:0]=lst1\n",
    "    lst2_n = []\n",
    "    lst2_n[:0]=lst2\n",
    "    for i in range(0, len(lst1_n)):\n",
    "        if lst1_n[i] == lst2_n[i]:\n",
    "            black+=1\n",
    "        elif lst1_n[i] in lst2_n:\n",
    "            white+=1\n",
    "    print(\"Result==> :\",{\"black\":black,\"white\":white})\n",
    "    \n",
    "guess_score(\"1423\", \"5678\")\n",
    "guess_score(\"1423\", \"2222\")\n",
    "guess_score(\"1423\", \"1234\")\n",
    "guess_score(\"1423\", \"2211\")\n",
    "\n"
   ]
  },
  {
   "cell_type": "markdown",
   "metadata": {},
   "source": [
    "3. Create a function that takes a list lst and a number N and returns a list of two integers from lst whose product equals N."
   ]
  },
  {
   "cell_type": "code",
   "execution_count": 20,
   "metadata": {},
   "outputs": [
    {
     "name": "stdout",
     "output_type": "stream",
     "text": [
      "two_product([1, 2, -1, 4, 5], 20)==>  [5, 4]\n",
      "two_product([1, 2, 3, 4, 5], 10) ==>  [5, 2]\n",
      "two_product([100, 12, 4, 1, 2], 15)==>  None\n"
     ]
    }
   ],
   "source": [
    "def two_product(lst, N):\n",
    "    result = []\n",
    "    newlst = [(i) for i in lst  if i<=N]\n",
    "    for j in range(len(newlst)):\n",
    "        flag = False\n",
    "        for val in newlst:\n",
    "            if newlst[j] != val:\n",
    "                if val*newlst[j] == N:\n",
    "                    result = [val, newlst[j]]\n",
    "                    flag = True\n",
    "                    break;\n",
    "        if flag == True:\n",
    "            break;\n",
    "    if flag == True:\n",
    "        return result\n",
    "    else:\n",
    "        return \"None\"\n",
    "    \n",
    "print('two_product([1, 2, -1, 4, 5], 20)==> ',two_product([1, 2, -1, 4, 5], 20))\n",
    "print('two_product([1, 2, 3, 4, 5], 10) ==> ',two_product([1, 2, 3, 4, 5], 10)) \n",
    "print('two_product([100, 12, 4, 1, 2], 15)==> ',two_product([100, 12, 4, 1, 2], 15))"
   ]
  },
  {
   "cell_type": "markdown",
   "metadata": {},
   "source": [
    "4. In this challenge, sort a list containing a series of dates given as strings. Each date is given in the format DD-MM-YYYY_HH:MM:\n",
    "\n",
    "\"12-02-2012_13:44\"\n",
    "\n",
    "The priority of criteria used for sorting will be:\n",
    "\n",
    "  - Year\n",
    "  - Month\n",
    "  - Day\n",
    "  - Hours\n",
    "  - Minutes\n",
    "\n",
    "Given a list lst and a string mode, implement a function that returns:\n",
    "\n",
    "   - if mode is equal to \"ASC\", the list lst sorted in ascending order.\n",
    "   - if mode is equal to \"DSC\", the list lst sorted in descending order.\n"
   ]
  },
  {
   "cell_type": "code",
   "execution_count": 39,
   "metadata": {},
   "outputs": [
    {
     "name": "stdout",
     "output_type": "stream",
     "text": [
      "sort_dates([\"10-02-2018_12:30\", \"10-02-2016_12:30\", \"10-02-2018_12:15\"], \"ASC\") ➞  ['10-02-2016_12:30', '10-02-2018_12:15', '10-02-2018_12:30']\n",
      "sort_dates([\"10-02-2018_12:30\", \"10-02-2016_12:30\", \"10-02-2018_12:15\"], \"DSC\") ➞  ['10-02-2018_12:30', '10-02-2018_12:15', '10-02-2016_12:30']\n",
      "sort_dates([\"09-02-2000_10:03\", \"10-02-2000_18:29\", \"01-01-1999_00:55\"], \"ASC\") ➞  ['01-01-1999_00:55', '09-02-2000_10:03', '10-02-2000_18:29']\n"
     ]
    }
   ],
   "source": [
    "from datetime import datetime\n",
    "def sort_dates(my_dates, order):\n",
    "    if order == \"ASC\":\n",
    "        my_dates.sort(key=lambda date: datetime.strptime(date, \"%d-%m-%Y_%H:%M\"))\n",
    "    else:\n",
    "        my_dates.sort(key=lambda date: datetime.strptime(date, \"%d-%m-%Y_%H:%M\"), reverse=True)\n",
    "        \n",
    "    return my_dates\n",
    "    \n",
    "print('sort_dates([\"10-02-2018_12:30\", \"10-02-2016_12:30\", \"10-02-2018_12:15\"], \"ASC\") ➞ ', sort_dates([\"10-02-2018_12:30\", \"10-02-2016_12:30\", \"10-02-2018_12:15\"], \"ASC\"))\n",
    "print('sort_dates([\"10-02-2018_12:30\", \"10-02-2016_12:30\", \"10-02-2018_12:15\"], \"DSC\") ➞ ', sort_dates([\"10-02-2018_12:30\", \"10-02-2016_12:30\", \"10-02-2018_12:15\"], \"DSC\"))\n",
    "print('sort_dates([\"09-02-2000_10:03\", \"10-02-2000_18:29\", \"01-01-1999_00:55\"], \"ASC\") ➞ ', sort_dates([\"09-02-2000_10:03\", \"10-02-2000_18:29\", \"01-01-1999_00:55\"], \"ASC\"))"
   ]
  },
  {
   "cell_type": "markdown",
   "metadata": {},
   "source": [
    "5. Write a function that selects all words that have all the same vowels (in any order and/or number) as the first word, including the first word.\n",
    "\n"
   ]
  },
  {
   "cell_type": "code",
   "execution_count": 14,
   "metadata": {},
   "outputs": [
    {
     "name": "stdout",
     "output_type": "stream",
     "text": [
      "same_vowel_group([\"toe\", \"ocelot\", \"maniac\"]) ➞  ['toe', 'ocelot']\n",
      "same_vowel_group([\"many\", \"carriage\", \"emit\", \"apricot\", \"animal\"]) ➞  ['many']\n",
      "same_vowel_group([\"hoops\", \"chuff\", \"bot\", \"bottom\"]) ➞  ['hoops', 'bot', 'bottom']\n"
     ]
    }
   ],
   "source": [
    "import collections  \n",
    "vowels = ['a','e','i','o','u']\n",
    "\n",
    "def find_vowel(mystr):\n",
    "    mylist = []\n",
    "    for i in mystr:\n",
    "        if i in vowels:\n",
    "            mylist.append(i)\n",
    "            \n",
    "    return mylist\n",
    "\n",
    "def same_vowel_group(mylist):\n",
    "    vow_to_b_ter = find_vowel(remove_duplicate(mylist[0]))\n",
    "    result = [mylist[0]]\n",
    "    for word in mylist:\n",
    "            if word != mylist[0]:\n",
    "                vows_of_words = find_vowel(remove_duplicate(word))            \n",
    "                if collections.Counter(vows_of_words) == collections.Counter(vow_to_b_ter):\n",
    "                    result.append(word)\n",
    "    return result\n",
    "    \n",
    "    \n",
    "def remove_duplicate(mystr):\n",
    "    return \"\".join(set(mystr))\n",
    "  \n",
    "print('same_vowel_group([\"toe\", \"ocelot\", \"maniac\"]) ➞ ',same_vowel_group([\"toe\", \"ocelot\", \"maniac\"]))\n",
    "print('same_vowel_group([\"many\", \"carriage\", \"emit\", \"apricot\", \"animal\"]) ➞ ',same_vowel_group([\"many\", \"carriage\", \"emit\", \"apricot\", \"animal\"]))\n",
    "print('same_vowel_group([\"hoops\", \"chuff\", \"bot\", \"bottom\"]) ➞ ',same_vowel_group([\"hoops\", \"chuff\", \"bot\", \"bottom\"]))"
   ]
  },
  {
   "cell_type": "markdown",
   "metadata": {},
   "source": [
    "6. Create a function that takes a list of more than three numbers and returns the Least Common Multiple (LCM)."
   ]
  },
  {
   "cell_type": "code",
   "execution_count": 21,
   "metadata": {},
   "outputs": [
    {
     "name": "stdout",
     "output_type": "stream",
     "text": [
      "lcm_of_list([1, 2, 3, 4, 5, 6, 7, 8, 9, 10]) ➞  2520\n",
      "lcm_of_list([13, 6, 17, 18, 19, 20, 37]) ➞  27965340\n",
      "lcm_of_list([44, 64, 12, 17, 65]) ➞  2333760\n"
     ]
    }
   ],
   "source": [
    "from math import gcd\n",
    "def lcm_of_list(a):\n",
    "    lcm = 1\n",
    "    for i in a:\n",
    "        lcm = lcm*i//gcd(lcm, i)\n",
    "    return(lcm)\n",
    "\n",
    "print('lcm_of_list([1, 2, 3, 4, 5, 6, 7, 8, 9, 10]) ➞ ',lcm_of_list([1, 2, 3, 4, 5, 6, 7, 8, 9, 10])) \n",
    "print('lcm_of_list([13, 6, 17, 18, 19, 20, 37]) ➞ ',lcm_of_list([13, 6, 17, 18, 19, 20, 37]))\n",
    "print('lcm_of_list([44, 64, 12, 17, 65]) ➞ ',lcm_of_list([44, 64, 12, 17, 65]))"
   ]
  }
 ],
 "metadata": {
  "kernelspec": {
   "display_name": "Python 3",
   "language": "python",
   "name": "python3"
  },
  "language_info": {
   "codemirror_mode": {
    "name": "ipython",
    "version": 3
   },
   "file_extension": ".py",
   "mimetype": "text/x-python",
   "name": "python",
   "nbconvert_exporter": "python",
   "pygments_lexer": "ipython3",
   "version": "3.8.3"
  }
 },
 "nbformat": 4,
 "nbformat_minor": 4
}
