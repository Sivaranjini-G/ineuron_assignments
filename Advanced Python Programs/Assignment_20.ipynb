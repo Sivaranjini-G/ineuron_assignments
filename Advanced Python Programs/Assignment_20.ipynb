{
 "cells": [
  {
   "cell_type": "markdown",
   "metadata": {},
   "source": [
    "1. Create a function based on the input and output. Look at the examples,\n",
    "there is a pattern.\n",
    "secret(\"p.one.two.three\") ➞ \"&lt;p class=&#39;one two three&#39;&gt;&lt;/p&gt;\"\n",
    "secret(\"p.one\") ➞ \"&lt;p class=&#39;one&#39;&gt;&lt;/p&gt;\"\n",
    "secret(\"p.four.five\") ➞ \"&lt;p class=&#39;four five&#39;&gt;&lt;/p&gt;\""
   ]
  },
  {
   "cell_type": "code",
   "execution_count": 13,
   "metadata": {},
   "outputs": [
    {
     "name": "stdout",
     "output_type": "stream",
     "text": [
      "<p class='one two three'></p>\n",
      "<p class='one'></p>\n",
      "<p class='four five'></p>\n"
     ]
    }
   ],
   "source": [
    "import re\n",
    "def secret(str):\n",
    "    tag = \"\".join(re.findall(r\"^(\\w+).\",str))\n",
    "    class_name = \"\".join(re.findall(r\"\\w+.(\\S+)\",str)).replace(\".\",\" \")\n",
    "    return (\"<\"+tag+\" class='\"+class_name+\"'></p>\")\n",
    "    \n",
    "print(secret(\"p.one.two.three\"))\n",
    "print(secret(\"p.one\"))\n",
    "print(secret(\"p.four.five\"))"
   ]
  },
  {
   "cell_type": "markdown",
   "metadata": {},
   "source": [
    "2. Create a function which counts how many lone 1s appear in a given\n",
    "number. Lone means the number doesn&#39;t appear twice or more in a row."
   ]
  },
  {
   "cell_type": "code",
   "execution_count": 57,
   "metadata": {},
   "outputs": [
    {
     "name": "stdout",
     "output_type": "stream",
     "text": [
      "Counter 2\n",
      "Counter 1\n",
      "Counter 0\n",
      "Counter 0\n"
     ]
    }
   ],
   "source": [
    "def count_lone_ones(string):\n",
    "    counter = 0\n",
    "    i = 0\n",
    "    str_list = re.findall('[0-9]', str(string))\n",
    "    for j in range(len(str_list)):\n",
    "      \n",
    "        if i == len(str_list):\n",
    "            break;\n",
    "        elif str_list[i] == '1':\n",
    "            if i == len(str_list) -1:\n",
    "                counter = counter + 1\n",
    "                i = i+ 1\n",
    "            elif str_list[i] == str_list[i+1]:\n",
    "                \n",
    "                i = i + 2\n",
    "            else:\n",
    "                counter = counter + 1\n",
    "                i = i + 1\n",
    "        else:\n",
    "            i = i + 1\n",
    "    return counter\n",
    "print(\"Counter\",count_lone_ones(101))\n",
    "print(\"Counter\" ,count_lone_ones(1191))\n",
    "print(\"Counter\",count_lone_ones(1111))\n",
    "print(\"Counter\" ,count_lone_ones(462))\n",
    "# count_lone_ones(101) ➞ 2\n",
    "# count_lone_ones(1191) ➞ 1\n",
    "# count_lone_ones(1111) ➞ 0\n",
    "# count_lone_ones(462) ➞ 0"
   ]
  },
  {
   "cell_type": "markdown",
   "metadata": {},
   "source": [
    "3. Write a method that accepts two integer parameters rows and cols. The\n",
    "    output is a 2d array of numbers displayed in column-major order, meaning the\n",
    "    numbers shown increase sequentially down each column and wrap to the top\n",
    "    of the next column to the right once the bottom of the current column is\n",
    "    reached."
   ]
  },
  {
   "cell_type": "code",
   "execution_count": 71,
   "metadata": {},
   "outputs": [
    {
     "name": "stdout",
     "output_type": "stream",
     "text": [
      "[[1, 4, 7, 10, 13, 16], [2, 5, 8, 11, 14, 17], [3, 6, 9, 12, 15, 18]]\n",
      "[[1, 6, 11], [2, 7, 12], [3, 8, 13], [4, 9, 14], [5, 10, 15]]\n",
      "[[1], [2], [3], [4]]\n"
     ]
    }
   ],
   "source": [
    "def printGrid(num1, num2):\n",
    "    number = 1\n",
    "    final_res = []\n",
    "    for i in range(1, num1+1):\n",
    "        res = []\n",
    "        number = i\n",
    "        for j in range(0, num2):\n",
    "            res.append(number)\n",
    "            number = number + num1\n",
    "        final_res.append(res)\n",
    "    return (final_res)\n",
    "print(printGrid(3, 6))\n",
    "print(printGrid(5, 3))\n",
    "print(printGrid(4, 1))\n",
    "# printGrid(3, 6) ➞ [\n",
    "# [1, 4, 7, 10, 13, 16],\n",
    "# [2, 5, 8, 11, 14, 17],\n",
    "# [3, 6, 9, 12, 15, 18]\n",
    "# ]\n",
    "# printGrid(5, 3) ➞ [\n",
    "# [1, 6, 11],\n",
    "# [2, 7, 12],\n",
    "# [3, 8, 13],\n",
    "# [4, 9, 14],\n",
    "# [5, 10, 15]\n",
    "# ]\n",
    "\n",
    "# printGrid(4, 1) ➞ [\n",
    "# [1],\n",
    "# [2],\n",
    "# [3],\n",
    "# [4]\n",
    "# ]"
   ]
  },
  {
   "cell_type": "markdown",
   "metadata": {},
   "source": [
    "4. Given a list of integers, return the smallest positive integer not present in the list.\n",
    "    Here is a representative example. Consider the list:\n",
    "    [-2, 6, 4, 5, 7, -1, 7, 1, 3, 6, 6, -2, 9, 10, 2, 2]\n",
    "    After reordering, the list becomes:\n",
    "    [-2, -2, -1, 1, 2, 2, 3, 4, 5, 6, 6, 6, 7, 7, 9, 10]\n",
    "    from which we see that the smallest missing positive integer is 8."
   ]
  },
  {
   "cell_type": "code",
   "execution_count": 79,
   "metadata": {},
   "outputs": [
    {
     "name": "stdout",
     "output_type": "stream",
     "text": [
      "8\n",
      "2\n",
      "1\n"
     ]
    }
   ],
   "source": [
    "# def min_miss_pos(arr):\n",
    "#     print(sorted(arr))\n",
    "def find_missing(lst):\n",
    "    new = sorted(lst)\n",
    "    sort_lst =  sorted(set(range(new[0], new[-1])) - set(new))  \n",
    "    res = list(filter(lambda x : x > 0, sort_lst))\n",
    "    return min(res)\n",
    "print(find_missing([-2, 6, 4, 5, 7, -1, 1, 3, 6, -2, 9, 10, 2, 2]))\n",
    "print(find_missing([5, 9, -2, 0, 1, 3, 9, 3, 8, 9]))\n",
    "print(find_missing([0, 4, 4, -1, 9, 4, 5, 2, 10, 7, 6, 3, 10, 9]))\n",
    "# min_miss_pos([-2, 6, 4, 5, 7, -1, 1, 3, 6, -2, 9, 10, 2, 2]) ➞ 8\n",
    "# # After sorting, list becomes [-2, -2, -1, 1, 2, 2, 3, 4, 5, 6, 6, 7, 9, 10]\n",
    "# # So the smallest missing positive integer is 8\n",
    "# min_miss_pos([5, 9, -2, 0, 1, 3, 9, 3, 8, 9]) ➞ 2\n",
    "# # After sorting, list becomes [-2, 0, 1, 3, 3, 5, 8, 9, 9, 9]\n",
    "# # So the smallest missing positive integer is 2\n",
    "# min_miss_pos([0, 4, 4, -1, 9, 4, 5, 2, 10, 7, 6, 3, 10, 9]) ➞ 1\n",
    "# # After sorting, list becomes [-1, 0, 2, 3, 4, 4, 4, 5, 6, 7, 9, 9, 10, 10]\n",
    "# # So the smallest missing positive integer is 1"
   ]
  },
  {
   "cell_type": "markdown",
   "metadata": {},
   "source": [
    "5. Google is launching a network of autonomous pizza delivery drones and\n",
    "    wants you to create a flexible rewards system (Pizza Points™) that can be\n",
    "    tweaked in the future. The rules are simple: if a customer has made at least N\n",
    "    orders of at least Y price, they get a FREE pizza!\n",
    "    Create a function that takes a dictionary of customers, a minimum number of\n",
    "    orders and a minimum order price. Return a list of customers that are eligible\n",
    "    for a free pizza."
   ]
  },
  {
   "cell_type": "code",
   "execution_count": 98,
   "metadata": {},
   "outputs": [
    {
     "name": "stdout",
     "output_type": "stream",
     "text": [
      "22   20\n",
      "30   20\n",
      "11   20\n",
      "17   20\n",
      "15   20\n",
      "52   20\n",
      "27   20\n",
      "12   20\n",
      "5   20\n",
      "17   20\n",
      "30   20\n",
      "33   20\n",
      "40   20\n",
      "22   20\n",
      "26   20\n",
      "10   20\n",
      "11   20\n",
      "45   20\n",
      "['Spider-Man']\n"
     ]
    }
   ],
   "source": [
    "customers = {\n",
    "\"Batman\": [22, 30, 11, 17, 15, 52, 27, 12],\n",
    "\"Spider-Man\": [5, 17, 30, 33, 40, 22, 26, 10, 11, 45]\n",
    "}\n",
    "\n",
    "def pizza_points(customers, n, y):\n",
    "    maximum = {}\n",
    "    minimum = {}\n",
    "    res = []\n",
    "    for i in customers:\n",
    "        counter = 0\n",
    "        for j in customers[i]:\n",
    "            print(j,\" \",y)\n",
    "            if j >= y:\n",
    "                counter = counter + 1\n",
    "        if counter >= 5:\n",
    "            res.append(i)\n",
    "    print(res)\n",
    "pizza_points(customers, 5, 20)\n",
    "# pizza_points(customers, 5, 20) ➞ [\"Spider-Man\"]\n",
    "# pizza_points(customers, 3, 10) ➞ [\"Batman\", \"Spider-Man\"]\n",
    "# pizza_points(customers, 5, 100) ➞ []"
   ]
  }
 ],
 "metadata": {
  "kernelspec": {
   "display_name": "Python 3",
   "language": "python",
   "name": "python3"
  },
  "language_info": {
   "codemirror_mode": {
    "name": "ipython",
    "version": 3
   },
   "file_extension": ".py",
   "mimetype": "text/x-python",
   "name": "python",
   "nbconvert_exporter": "python",
   "pygments_lexer": "ipython3",
   "version": "3.8.3"
  }
 },
 "nbformat": 4,
 "nbformat_minor": 4
}
