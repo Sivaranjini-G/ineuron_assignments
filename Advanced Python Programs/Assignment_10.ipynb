{
 "cells": [
  {
   "cell_type": "markdown",
   "metadata": {},
   "source": [
    "1. Create a function that takes the width, height and character and returns a picture frame as a 2D list."
   ]
  },
  {
   "cell_type": "code",
   "execution_count": 33,
   "metadata": {},
   "outputs": [
    {
     "name": "stdout",
     "output_type": "stream",
     "text": [
      "get_frame(4, 5,\"#\")\n",
      "####\n",
      "#  #\n",
      "#  #\n",
      "#  #\n",
      "####\n",
      "get_frame(10, 3, \"*\")\n",
      "**********\n",
      "*        *\n",
      "**********\n",
      "get_frame(2, 5, \"0\")\n",
      "Invalid\n"
     ]
    }
   ],
   "source": [
    "def get_frame(wid, height, spl_char):\n",
    "    \n",
    "    if wid <= 2:\n",
    "        return \"Invaid\"\n",
    "    \n",
    "    res = \"\"\n",
    "    res1 = \"\"\n",
    "    final_res = []\n",
    "    for i in range(wid):\n",
    "        res = res + spl_char\n",
    "        if i == 0 or i == wid-1:\n",
    "            res1 = res1 + spl_char\n",
    "        else:\n",
    "            res1 = res1 + \" \"\n",
    "\n",
    "\n",
    "    for j in range(height):\n",
    "        if j == 0 or j == height-1:\n",
    "            final_res.append(res)\n",
    "        else:\n",
    "            final_res.append(res1)\n",
    "            \n",
    "    return final_res\n",
    "\n",
    "\n",
    "def display_result(result):\n",
    " \n",
    "    if type(result) == list:\n",
    "        for res in result:\n",
    "            print(res)\n",
    "    else:\n",
    "        print(\"Invalid\")\n",
    "\n",
    "print('get_frame(4, 5,\"#\")')            \n",
    "display_result(get_frame(4, 5,\"#\"))\n",
    "print('get_frame(10, 3, \"*\")')            \n",
    "display_result(get_frame(10, 3, \"*\"))\n",
    "print('get_frame(2, 5, \"0\")')            \n",
    "display_result(get_frame(2, 5, \"0\"))"
   ]
  },
  {
   "cell_type": "markdown",
   "metadata": {},
   "source": [
    "2. Write three functions:\n",
    "    1. boolean_and\n",
    "    2. boolean_or\n",
    "    3. boolean_xor\n",
    "    These functions should evaluate a list of True and False values, starting from\n",
    "    the leftmost element and evaluating pairwise."
   ]
  },
  {
   "cell_type": "code",
   "execution_count": 16,
   "metadata": {},
   "outputs": [
    {
     "name": "stdout",
     "output_type": "stream",
     "text": [
      "boolean_and([True, True, False, True]) ➞  [False]\n",
      "boolean_or([True, True, False, False]) ➞  [True]\n",
      "boolean_xor([True, True, False, False]) ➞  [False]\n"
     ]
    }
   ],
   "source": [
    "def boolean_and_(arg1, arg2):\n",
    "    if arg1 == False or arg2 == False:\n",
    "        return False\n",
    "    else:\n",
    "        return True\n",
    "\n",
    "def boolean_or_(arg1, arg2):\n",
    "    if arg1 == True or arg2 == True:\n",
    "        return True\n",
    "    else:\n",
    "        return False\n",
    "    \n",
    "def boolean_xor_(arg1, arg2):\n",
    "    if arg1 == arg2:\n",
    "        return False\n",
    "    else:\n",
    "        return True\n",
    "\n",
    "def boolean_and(arr): \n",
    "    while(len(arr)>1):\n",
    "        arr1 = []\n",
    "        for i in range(len(arr)-1):\n",
    "            arr1.append(boolean_and_(arr[i],arr[i+1]))\n",
    "        arr = arr1\n",
    "\n",
    "    return arr\n",
    "\n",
    "def boolean_or(arr): \n",
    "    while(len(arr)>1):\n",
    "        arr1 = []\n",
    "        for i in range(len(arr)-1):\n",
    "            arr1.append(boolean_or_(arr[i],arr[i+1]))\n",
    "        arr = arr1\n",
    "\n",
    "    return arr\n",
    "\n",
    "def boolean_xor(arr): \n",
    "    while(len(arr)>1):\n",
    "        arr1 = []\n",
    "        for i in range(len(arr)-1):\n",
    "            arr1.append(boolean_xor_(arr[i],arr[i+1]))\n",
    "        arr = arr1\n",
    "\n",
    "    return arr\n",
    "\n",
    "print(\"boolean_and([True, True, False, True]) ➞ \",boolean_and([True, True, False, True]))\n",
    "print(\"boolean_or([True, True, False, False]) ➞ \",boolean_or([True, True, False, False]))\n",
    "print(\"boolean_xor([True, True, False, False]) ➞ \",boolean_xor([True, True, False, False]))\n",
    "# boolean_and([True, True, False, True]) ➞ False\n",
    "# # [True, True, False, True] =&gt; [True, False, True] =&gt; [False, True] =&gt; False\n",
    "# boolean_or([True, True, False, False]) ➞ True\n",
    "# # [True, True, False, True] =&gt; [True, False, False] =&gt; [True, False] =&gt; True\n",
    "# boolean_xor([True, True, False, False]) ➞ False\n",
    "# # [True, True, False, False] =&gt; [False, False, False] =&gt; [False, False] =&gt;\n",
    "# False"
   ]
  },
  {
   "cell_type": "markdown",
   "metadata": {},
   "source": [
    "3. Create a function that creates a box based on dimension n."
   ]
  },
  {
   "cell_type": "code",
   "execution_count": 35,
   "metadata": {},
   "outputs": [
    {
     "name": "stdout",
     "output_type": "stream",
     "text": [
      "make_box(5)\n",
      "-------------\n",
      "#####\n",
      "#   #\n",
      "#   #\n",
      "#   #\n",
      "#####\n",
      "make_box(3)\n",
      "-------------\n",
      "###\n",
      "# #\n",
      "###\n",
      "make_box(2)\n",
      "-------------\n",
      "##\n",
      "##\n",
      "make_box(1)\n",
      "-------------\n",
      "#\n"
     ]
    }
   ],
   "source": [
    "def make_box(n):\n",
    "    if n == 1:\n",
    "        print(\"#\")\n",
    "    elif n == 2:\n",
    "        \n",
    "        display_result([\"##\",\"##\"])\n",
    "    else:\n",
    "        display_result(get_frame(n,n,\"#\"))\n",
    "       \n",
    "print(\"make_box(5)\")\n",
    "print(\"-------------\")\n",
    "make_box(5)\n",
    "print(\"make_box(3)\")\n",
    "print(\"-------------\")\n",
    "make_box(3)\n",
    "print(\"make_box(2)\")\n",
    "print(\"-------------\")\n",
    "make_box(2)\n",
    "print(\"make_box(1)\")\n",
    "print(\"-------------\")\n",
    "make_box(1)"
   ]
  },
  {
   "cell_type": "markdown",
   "metadata": {},
   "source": [
    "4. Given a common phrase, return False if any individual word in the phrase contains duplicate letters. Return True otherwise."
   ]
  },
  {
   "cell_type": "code",
   "execution_count": 41,
   "metadata": {},
   "outputs": [
    {
     "name": "stdout",
     "output_type": "stream",
     "text": [
      "no_duplicate_letters(\"Fortune favours the bold.\") ➞  True\n",
      "no_duplicate_letters(\"You can lead a horse to water, but you can`t make him drink.\") ➞  True\n",
      "no_duplicate_letters(\"Look before you leap.\") ➞  False\n",
      "no_duplicate_letters(\"An apple a day keeps the doctor away.\") ➞  False\n"
     ]
    }
   ],
   "source": [
    "def uniqueCharacters(st):\n",
    " \n",
    "    # Using sorting\n",
    "    st = sorted(st)\n",
    " \n",
    "    for i in range(len(st)-1):\n",
    " \n",
    "        # if at any time, 2 adjacent\n",
    "        # elements become equal,\n",
    "        # return false\n",
    "        if (st[i] == st[i + 1]) :\n",
    "            return False\n",
    "             \n",
    "    return True\n",
    "\n",
    "string = \"Fortune favours the bold.\"\n",
    "def no_duplicate_letters(string):\n",
    "    str_arr = string.split(\" \")\n",
    "    result = True\n",
    "    for i in str_arr:\n",
    "        if uniqueCharacters(i) == False:\n",
    "            result = False\n",
    "            break;\n",
    "\n",
    "    return result;\n",
    "\n",
    "print('no_duplicate_letters(\"Fortune favours the bold.\") ➞ ',no_duplicate_letters(\"Fortune favours the bold.\"))\n",
    "print('no_duplicate_letters(\"You can lead a horse to water, but you can`t make him drink.\") ➞ ',no_duplicate_letters(\"You can lead a horse to water, but you can't make him drink.\"))\n",
    "print('no_duplicate_letters(\"Look before you leap.\") ➞ ',no_duplicate_letters(\"Look before you leap.\"))\n",
    "print('no_duplicate_letters(\"An apple a day keeps the doctor away.\") ➞ ',no_duplicate_letters(\"An apple a day keeps the doctor away.\"))\n",
    "# no_duplicate_letters(\"Fortune favours the bold.\") ➞ True\n",
    "# no_duplicate_letters(\"You can lead a horse to water, but you can&#39;t make him\n",
    "# drink.\") ➞ True\n",
    "# no_duplicate_letters(\"Look before you leap.\") ➞ False\n",
    "# # Duplicate letters in \"Look\" and \"before\".\n",
    "# no_duplicate_letters(\"An apple a day keeps the doctor away.\") ➞ False\n",
    "# # Duplicate letters in \"apple\", \"keeps\", \"doctor\", and \"away\"."
   ]
  },
  {
   "cell_type": "markdown",
   "metadata": {},
   "source": [
    "5. Write a regular expression that will match the states that voted yes to President Trump&#39;s impeachment. You must use RegEx positive lookahead."
   ]
  },
  {
   "cell_type": "code",
   "execution_count": 44,
   "metadata": {},
   "outputs": [
    {
     "name": "stdout",
     "output_type": "stream",
     "text": [
      "['California', 'Florida']\n"
     ]
    }
   ],
   "source": [
    "import re\n",
    "\n",
    "txt = \"Texas = no, California = yes, Florida = yes, Michigan = no\"\n",
    "\n",
    "pattern = r'(\\w+)\\s=\\s(?=yes)'\n",
    "print(re.findall(pattern, txt))\n"
   ]
  }
 ],
 "metadata": {
  "kernelspec": {
   "display_name": "Python 3",
   "language": "python",
   "name": "python3"
  },
  "language_info": {
   "codemirror_mode": {
    "name": "ipython",
    "version": 3
   },
   "file_extension": ".py",
   "mimetype": "text/x-python",
   "name": "python",
   "nbconvert_exporter": "python",
   "pygments_lexer": "ipython3",
   "version": "3.8.3"
  }
 },
 "nbformat": 4,
 "nbformat_minor": 4
}
