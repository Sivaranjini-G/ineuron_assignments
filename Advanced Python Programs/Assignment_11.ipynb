{
 "cells": [
  {
   "cell_type": "markdown",
   "metadata": {},
   "source": [
    "1. Create a function that takes a list and returns a new list containing only prime numbers."
   ]
  },
  {
   "cell_type": "code",
   "execution_count": 2,
   "metadata": {},
   "outputs": [
    {
     "name": "stdout",
     "output_type": "stream",
     "text": [
      "[7, 3, 11]\n",
      "[10007, 1009]\n",
      "[1009, 3, 61, 1087, 1091, 1093, 1097]\n"
     ]
    }
   ],
   "source": [
    "def find_prime(num):\n",
    "  \n",
    "   \n",
    "    if num > 1:\n",
    "\n",
    "        for i in range(2, int(num/2)+1):\n",
    "            if (num % i) == 0:\n",
    "                result = False\n",
    "                break\n",
    "        else:\n",
    "            result = True\n",
    "\n",
    "    else:\n",
    "        result = False\n",
    "        \n",
    "    return result\n",
    "\n",
    "def list_of_prime(arr):\n",
    "    final_result = []\n",
    "    for i in arr:\n",
    "        if find_prime(i) == True:\n",
    "            final_result.append(i)\n",
    "\n",
    "    print(final_result)\n",
    "    \n",
    "\n",
    "list_of_prime([7, 9, 3, 9, 10, 11, 27])\n",
    "list_of_prime([10007, 1009, 1007, 27, 147, 77, 1001, 70])\n",
    "list_of_prime([1009, 10, 10, 10, 3, 33, 9, 4, 1, 61, 63, 69, 1087, 1091, 1093, 1097])\n",
    "\n",
    "# filter_primes([7, 9, 3, 9, 10, 11, 27]) ➞ [7, 3, 11]\n",
    "# filter_primes([10007, 1009, 1007, 27, 147, 77, 1001, 70]) ➞ [10007, 1009]\n",
    "# filter_primes([1009, 10, 10, 10, 3, 33, 9, 4, 1, 61, 63, 69, 1087, 1091, 1093,\n",
    "# 1097]) ➞ [1009, 3, 61, 1087, 1091, 1093, 1097]"
   ]
  },
  {
   "cell_type": "markdown",
   "metadata": {},
   "source": [
    "2. Once a water balloon pops, is soaks the area around it. The ground gets\n",
    "    drier the further away you travel from the balloon.\n",
    "    The effect of a water balloon popping can be modeled using a list. Create a\n",
    "    function that takes a list which takes the pre-pop state and returns the state\n",
    "    after the balloon is popped. The pre-pop state will contain at most a single\n",
    "    balloon, whose size is represented by the only non-zero element."
   ]
  },
  {
   "cell_type": "code",
   "execution_count": 9,
   "metadata": {},
   "outputs": [
    {
     "name": "stdout",
     "output_type": "stream",
     "text": [
      "[0, 1, 2, 3, 4, 3, 2, 1, 0]\n",
      "[0, 1, 2, 3, 2, 1, 0]\n",
      "[0, 1, 2, 1, 0]\n",
      "[0]\n"
     ]
    }
   ],
   "source": [
    "def pop(arr):\n",
    "    new_arr = []\n",
    "    counter = 0\n",
    "    flag = False\n",
    "    for i in arr:\n",
    "        if i == 0 and flag == False:\n",
    "            new_arr.append(counter)\n",
    "            counter = counter + 1\n",
    "        else:\n",
    "            flag = True\n",
    "            \n",
    "            new_arr.append(counter)\n",
    "            counter = counter - 1\n",
    "            \n",
    "    return new_arr\n",
    "\n",
    "print(pop([0, 0, 0, 0, 4, 0, 0, 0, 0]))\n",
    "print(pop([0, 0, 0, 3, 0, 0, 0]))\n",
    "print(pop([0, 0, 2, 0, 0]))\n",
    "print(pop([0]))\n",
    "# pop([0, 0, 0, 0, 4, 0, 0, 0, 0]) ➞ [0, 1, 2, 3, 4, 3, 2, 1, 0]\n",
    "# pop([0, 0, 0, 3, 0, 0, 0]) ➞ [0, 1, 2, 3, 2, 1, 0]\n",
    "# pop([0, 0, 2, 0, 0]) ➞ [0, 1, 2, 1, 0]\n",
    "# pop([0]) ➞ [0]"
   ]
  },
  {
   "cell_type": "markdown",
   "metadata": {},
   "source": [
    "3. \"Loves me, loves me not\" is a traditional game in which a person plucks off\n",
    "    all the petals of a flower one by one, saying the phrase \"Loves me\" and\n",
    "    \"Loves me not\" when determining whether the one that they love, loves them\n",
    "    back.\n",
    "    Given a number of petals, return a string which repeats the phrases \"Loves\n",
    "    me\" and \"Loves me not\" for every alternating petal, and return the last phrase\n",
    "    in all caps. Remember to put a comma and space between phrases."
   ]
  },
  {
   "cell_type": "code",
   "execution_count": 29,
   "metadata": {},
   "outputs": [
    {
     "name": "stdout",
     "output_type": "stream",
     "text": [
      "Loves me, Loves me not, LOVES ME\n",
      "Loves me, Loves me not, Loves me, Loves me not, Loves me, LOVES ME NOT\n",
      "LOVES ME\n"
     ]
    }
   ],
   "source": [
    "def loves_me(num):\n",
    "    result = \"\"\n",
    "    love = \"Loves me\"\n",
    "    love_not = \"Loves me not\"\n",
    "    i = 1\n",
    "    for i in range(1, num):\n",
    "        if i%2 == 0:\n",
    "            result = result + love_not + \", \"\n",
    "        else:\n",
    "            result = result + love + \", \"\n",
    "    if (i+1)%2 == 0 and num != 1 :\n",
    "        result = result+ love_not.upper()\n",
    "    else:\n",
    "        result = result + love.upper()\n",
    "    return result \n",
    "    \n",
    "print(loves_me(3))\n",
    "print(loves_me(6))\n",
    "print(loves_me(1))\n",
    "\n",
    "\n",
    "# loves_me(3) ➞ \"Loves me, Loves me not, LOVES ME\"\n",
    "# loves_me(6) ➞ \"Loves me, Loves me not, Loves me, Loves me not, Loves  me, LOVES ME NOT\"\n",
    "# loves_me(1) ➞ \"LOVES ME\""
   ]
  },
  {
   "cell_type": "markdown",
   "metadata": {},
   "source": [
    "4. Write a function that sorts each string in a list by the letter in alphabetic\n",
    "   ascending order (a-z)."
   ]
  },
  {
   "cell_type": "code",
   "execution_count": 112,
   "metadata": {},
   "outputs": [
    {
     "name": "stdout",
     "output_type": "stream",
     "text": [
      "['2344b', '932c', '832u32']\n",
      "['99a', '78b', 'c2345', '11d']\n",
      "['304q2', '5y5', '572z']\n",
      "[]\n"
     ]
    }
   ],
   "source": [
    "import re\n",
    "\n",
    "def sort_by_letter(txt):\n",
    "    data = []\n",
    "    sorted_arr = []\n",
    "    pattern = r'[aA-zZ]'\n",
    "    for i in txt:\n",
    "        data.append(re.findall(pattern, i))\n",
    "\n",
    "    sorted_char = sorted(data)\n",
    "    for i in sorted_char:\n",
    "        for j in txt:\n",
    "            if i[0] in j:\n",
    "                sorted_arr.append(j)\n",
    "    return sorted_arr\n",
    "print(sort_by_letter([\"932c\", \"832u32\", \"2344b\"]))\n",
    "print(sort_by_letter([\"99a\", \"78b\", \"c2345\", \"11d\"]))\n",
    "print(sort_by_letter([\"572z\", \"5y5\", \"304q2\"]))\n",
    "print(sort_by_letter([]))\n",
    "# sort_by_letter([\"932c\", \"832u32\", \"2344b\"])\n",
    "# ➞ [\"2344b\", \"932c\", \"832u32\"]\n",
    "# sort_by_letter([\"99a\", \"78b\", \"c2345\", \"11d\"])\n",
    "# ➞ [\"99a\", \"78b\", \"c2345\", \"11d\"]\n",
    "# sort_by_letter([\"572z\", \"5y5\", \"304q2\"])\n",
    "# ➞ [\"304q2\", \"5y5\", \"572z\"]\n",
    "# sort_by_letter([])\n",
    "# ➞ []"
   ]
  },
  {
   "cell_type": "markdown",
   "metadata": {},
   "source": [
    "5. There are three cups on a table, at positions A, B, and C. At the start, there\n",
    "    is a ball hidden under the cup at position B.\n",
    "\n",
    "    However, I perform several swaps on the cups, which is notated as two\n",
    "    letters. For example, if I swap the cups at positions A and B, I could notate\n",
    "    this as AB or BA.\n",
    "    Create a function that returns the letter position that the ball is at, once I finish\n",
    "    swapping the cups. The swaps will be given to you as a list."
   ]
  },
  {
   "cell_type": "code",
   "execution_count": 119,
   "metadata": {},
   "outputs": [
    {
     "name": "stdout",
     "output_type": "stream",
     "text": [
      "C\n"
     ]
    }
   ],
   "source": [
    "def cup_swapping(arr):\n",
    "    initial = \"B\"\n",
    "    for i in arr:\n",
    "        if i[0] == initial:\n",
    "            initial = i[1]\n",
    "        elif i[1] == initial:\n",
    "            initial = i[0]\n",
    "    return(initial)\n",
    "print(cup_swapping([\"AB\", \"CA\", \"AB\"]))\n",
    "\n",
    "# cup_swapping([\"AB\", \"CA\", \"AB\"]) ➞ \"C\""
   ]
  }
 ],
 "metadata": {
  "kernelspec": {
   "display_name": "Python 3",
   "language": "python",
   "name": "python3"
  },
  "language_info": {
   "codemirror_mode": {
    "name": "ipython",
    "version": 3
   },
   "file_extension": ".py",
   "mimetype": "text/x-python",
   "name": "python",
   "nbconvert_exporter": "python",
   "pygments_lexer": "ipython3",
   "version": "3.8.3"
  }
 },
 "nbformat": 4,
 "nbformat_minor": 4
}
