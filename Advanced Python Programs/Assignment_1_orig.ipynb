{
  "nbformat": 4,
  "nbformat_minor": 0,
  "metadata": {
    "colab": {
      "name": "Assignment_1.ipynb",
      "provenance": []
    },
    "kernelspec": {
      "name": "python3",
      "display_name": "Python 3"
    },
    "language_info": {
      "name": "python"
    }
  },
  "cells": [
    {
      "cell_type": "markdown",
      "source": [
        "**1. Write a function that takes a list of lists and returns the value of all of the symbols in it, where each symbol adds or takes something from the total score.**"
      ],
      "metadata": {
        "id": "NURAGIerLmTI"
      }
    },
    {
      "cell_type": "code",
      "execution_count": 6,
      "metadata": {
        "colab": {
          "base_uri": "https://localhost:8080/"
        },
        "id": "8j0-uTXNLIqk",
        "outputId": "a51c4992-b99e-4e44-98f5-906bab32e134"
      },
      "outputs": [
        {
          "output_type": "stream",
          "name": "stdout",
          "text": [
            "Enter elements of a list separated by comma List should only contain any of ['#','0','X','!','!!','!!!']#,!\n",
            "Want to continue? y or ny\n",
            "Enter elements of a list separated by comma List should only contain any of ['#','0','X','!','!!','!!!']!!,X\n",
            "Want to continue? y or nn\n",
            "=========RESULT=============\n",
            "Check Score( [['#', '!'], ['!!', 'X']] )---> 2\n"
          ]
        }
      ],
      "source": [
        "input_list = {}\n",
        "first_value = 7\n",
        "input_ele = [\"#\",'0','X','!','!!','!!!']\n",
        "for i in input_ele:\n",
        "  input_list[i] = first_value - 2\n",
        "  first_value = first_value -2\n",
        "input_flag = 'y'\n",
        "user_input_list = []\n",
        "while(input_flag == 'y'):\n",
        "  input_string = input(\"Enter elements of a list separated by comma List should only contain any of ['#','0','X','!','!!','!!!']\")\n",
        "  user_list = input_string.split(\",\")\n",
        "  for in_put in user_list:\n",
        "    if in_put not in input_ele:\n",
        "      user_list = []\n",
        "      print(\"List should only contain any of ['#','0','X','!','!!','!!!']\")\n",
        "      break;\n",
        "  input_flag = input(\"Want to continue? y or n\")\n",
        "   \n",
        "  if len(user_list) > 0:\n",
        "    user_input_list.append(user_list)  \n",
        "\n",
        "\n",
        "\n",
        "\n",
        "score = 0\n",
        "for lists in user_input_list:\n",
        "  for ele in lists:\n",
        "    score = score + input_list[ele]\n",
        "if score < 0:\n",
        "  score = 0\n",
        "\n",
        "print(\"=========RESULT=============\")\n",
        "print('Check Score(', user_input_list,\")--->\",score)\n"
      ]
    },
    {
      "cell_type": "markdown",
      "source": [
        "**2. Create a function that takes a variable number of arguments, each argument representing the number of items in a group, and returns the number of permutations (combinations) of items that you could get by taking one item from each group.**"
      ],
      "metadata": {
        "id": "NXSiQDfTdqaR"
      }
    },
    {
      "cell_type": "code",
      "source": [
        "result = 1\n",
        "input_comb = input('Enter numbers that represents No. of args in a group(seperated by comma)')\n",
        "\n",
        "input_comb_list = input_comb.split(\",\")\n",
        "\n",
        "for in_put in input_comb_list:\n",
        "  result = result * int(in_put)\n",
        "\n",
        "print(\"=======RESULT=======\")\n",
        "print(\"combinations(%s)\" %(input_comb),\"==>\",result)"
      ],
      "metadata": {
        "colab": {
          "base_uri": "https://localhost:8080/"
        },
        "id": "OZ9Z62TAdtr_",
        "outputId": "d1134cf8-731f-416c-e00c-bc9c13bfe4fb"
      },
      "execution_count": 42,
      "outputs": [
        {
          "output_type": "stream",
          "name": "stdout",
          "text": [
            "Enter numbers that represents No. of args in a group(seperated by comma)2, 3, 4, 5\n",
            "=======RESULT=======\n",
            "combinations(2, 3, 4, 5) ==> 120\n"
          ]
        }
      ]
    },
    {
      "cell_type": "markdown",
      "source": [
        "**3. Create a function that takes a string as an argument and returns the Morse code equivalent.**"
      ],
      "metadata": {
        "id": "o3pGcZYzsBav"
      }
    },
    {
      "cell_type": "code",
      "source": [
        "char_to_dots = {\n",
        "  'A': '.-', 'B': '-...', 'C': '-.-.', 'D': '-..', 'E': '.', 'F': '..-.',\n",
        "  'G': '--.', 'H': '....', 'I': '..', 'J': '.---', 'K': '-.-', 'L': '.-..',\n",
        "  'M': '--', 'N': '-.', 'O': '---', 'P': '.--.', 'Q': '--.-', 'R': '.-.',\n",
        "  'S': '...', 'T': '-', 'U': '..-', 'V': '...-', 'W': '.--', 'X': '-..-',\n",
        "  'Y': '-.--', 'Z': '--..', ' ': ' ', '0': '-----',\n",
        "  '1': '.----', '2': '..---', '3': '...--', '4': '....-', '5': '.....',\n",
        "  '6': '-....', '7': '--...', '8': '---..', '9': '----.',\n",
        "  '&': '.-...', \"'\": '.----.', '@': '.--.-.', ')': '-.--.-', '(': '-.--.',\n",
        "  ':': '---...', ',': '--..--', '=': '-...-', '!': '-.-.--', '.': '.-.-.-',\n",
        "  '-': '-....-', '+': '.-.-.', '\"': '.-..-.', '?': '..--..', '/': '-..-.'\n",
        "}\n",
        "\n",
        "strings_arg = input(\"Enter the sentence to convert to morse code\")\n",
        "result = ''\n",
        "for strings in strings_arg:\n",
        "  result = result + char_to_dots[strings]+\" \"\n",
        "\n",
        "print(\"\\n\")\n",
        "print(\"======RESULT=====\")\n",
        "print('encode_morse(\"%s' %strings_arg,') ==>\"',result.strip(),'\"')"
      ],
      "metadata": {
        "colab": {
          "base_uri": "https://localhost:8080/"
        },
        "id": "zq2sEDZ-ndGw",
        "outputId": "fefac32d-a67c-4c57-916f-cc5dc55efc34"
      },
      "execution_count": 52,
      "outputs": [
        {
          "output_type": "stream",
          "name": "stdout",
          "text": [
            "Enter the sentence to convert to morse codeEDABBIT CHALLENGE\n",
            "\n",
            "\n",
            "======RESULT=====\n",
            "encode_morse(\"EDABBIT CHALLENGE ) ==>\" . -.. .- -... -... .. -   -.-. .... .- .-.. .-.. . -. --. . \"\n"
          ]
        }
      ]
    },
    {
      "cell_type": "markdown",
      "source": [
        "**4. Write a function that takes a number and returns True if it's a prime; False otherwise. The number can be 2^64-1 (2 to the power of 63, not XOR). With the standard technique it would be O(2^64-1), which is much too large for the 10 second time limit.**"
      ],
      "metadata": {
        "id": "HStQ10tAvIvH"
      }
    },
    {
      "cell_type": "code",
      "source": [
        "from math import sqrt\n",
        "import time\n",
        "# n is the number to be check whether it is prime or not\n",
        "n = int(input(\"Enter the number to check\"))\n",
        "  \n",
        "# no lets check from 2 to sqrt(n)\n",
        "# if we found any facto then we can print as not a prime number\n",
        "  \n",
        "# this flag maintains status whether the n is prime or not\n",
        "t0 = time.time()\n",
        "prime_flag = 0\n",
        "  \n",
        "if(n > 1):\n",
        "    for i in range(2, int(sqrt(n)) + 1):\n",
        "        if (n % i == 0):\n",
        "            prime_flag = 1\n",
        "            break\n",
        "    if (prime_flag == 0):\n",
        "        print(\"True\")\n",
        "    else:\n",
        "        print(\"False\")\n",
        "else:\n",
        "    print(\"False\")\n",
        "\n",
        "t1 = time.time()\n",
        "print(\"Time required: %.6f minutes\" % (t1 - t0))"
      ],
      "metadata": {
        "colab": {
          "base_uri": "https://localhost:8080/"
        },
        "id": "e4xyHOSmvMdX",
        "outputId": "26e10e94-8286-4e37-c716-352bded493ed"
      },
      "execution_count": 58,
      "outputs": [
        {
          "output_type": "stream",
          "name": "stdout",
          "text": [
            "Enter the number to check5151512515524\n",
            "False\n",
            "Time required: 0.001360 minutes\n"
          ]
        }
      ]
    },
    {
      "cell_type": "markdown",
      "source": [
        "**5.  Create a function that converts a word to a bitstring and then to a boolean list based on the following criteria:**\n"
      ],
      "metadata": {
        "id": "VGZiyFCwxWQv"
      }
    },
    {
      "cell_type": "code",
      "source": [
        "input_string = input(\"Enter the word\")\n",
        "alpabet = {'a':1,'b':2,'c':3,'d':4,'e':5,'f':6,'g':7,'h':8,'i':9,'j':10,'k':11,'l':12,'m':13,'n':14,'o':15,\n",
        "           'p':16,'q':17,'r':18,'s':19,'t':20,'u':21,'v':22,'w':23,'x':24,'y':25,'z':26}\n",
        "result = []\n",
        "for i in input_string:\n",
        "  if alpabet[i]%2 == 0:\n",
        "    result.append(\"False\")\n",
        "  else:\n",
        "    result.append(\"True\")\n",
        "print('\\n')\n",
        "print(\"======RESULT=======\")\n",
        "print(result)"
      ],
      "metadata": {
        "colab": {
          "base_uri": "https://localhost:8080/"
        },
        "id": "m0tjRdV-xb2e",
        "outputId": "cb0f3e80-8ec3-43ee-83ec-6f33b1a9e1bc"
      },
      "execution_count": 64,
      "outputs": [
        {
          "output_type": "stream",
          "name": "stdout",
          "text": [
            "Enter the wordloves\n",
            "\n",
            "\n",
            "======RESULT=======\n",
            "['False', 'True', 'False', 'True', 'True']\n"
          ]
        }
      ]
    }
  ]
}