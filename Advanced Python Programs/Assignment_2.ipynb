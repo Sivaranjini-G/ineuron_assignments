{
  "nbformat": 4,
  "nbformat_minor": 0,
  "metadata": {
    "colab": {
      "name": "Assignment_2.ipynb",
      "provenance": [],
      "collapsed_sections": []
    },
    "kernelspec": {
      "name": "python3",
      "display_name": "Python 3"
    },
    "language_info": {
      "name": "python"
    }
  },
  "cells": [
    {
      "cell_type": "markdown",
      "source": [
        "# 1. Write a function that takes a positive integer num and calculates how many dots exist in a pentagonal shape around the center dot on the Nth iteration.\n"
      ],
      "metadata": {
        "id": "BACCxN0qAvTM"
      }
    },
    {
      "cell_type": "code",
      "source": [
        "n = int(input(\"Enter input: \"))\n",
        "print(\"RESULT \",(5 * n * n - 5 * n + 2) // 2)"
      ],
      "metadata": {
        "colab": {
          "base_uri": "https://localhost:8080/"
        },
        "id": "pIkboV5BAznv",
        "outputId": "7f31e7f2-54f2-40fc-d6c4-94c4d9443774"
      },
      "execution_count": 2,
      "outputs": [
        {
          "output_type": "stream",
          "name": "stdout",
          "text": [
            "Enter input: 8\n",
            "RESULT  141\n"
          ]
        }
      ]
    },
    {
      "cell_type": "markdown",
      "source": [
        "# 2.  Make a function that encrypts a given input with these steps:\n",
        "\n",
        "  Input: \"apple\"\n",
        "\n",
        "  Step 1: Reverse the input: \"elppa\"\n",
        "\n",
        "  Step 2: Replace all vowels using the following chart:\n",
        "\n",
        "  a => 0\n",
        "  e => 1\n",
        "  i => 2\n",
        "  o => 2\n",
        "  u => 3\n",
        "\n",
        "  \"1lpp0\"\n",
        "\n",
        "  Step 3: Add \"aca\" to the end of the word: \"1lpp0aca\"\n",
        "\n",
        "  Output: \"1lpp0aca\"\n"
      ],
      "metadata": {
        "id": "aaqYdlgsDpZ9"
      }
    },
    {
      "cell_type": "code",
      "source": [
        "\n",
        "vow_obj = {'a': 0, 'e': 1, 'i': 2, 'o': 2,'u': 3}\n",
        "result = ''\n",
        "input_string = input(\"Enter the input: \")[::-1]\n",
        "\n",
        "for i in input_string:\n",
        "  if i in vow_obj.keys():\n",
        "    result = result + str(vow_obj[i])\n",
        "  else:\n",
        "    result = result + i\n",
        "\n",
        "result = result+\"aca\"\n",
        "print(\"\\n\")\n",
        "print(\"Result: \",result)"
      ],
      "metadata": {
        "colab": {
          "base_uri": "https://localhost:8080/"
        },
        "id": "l6ZnyD4uEF29",
        "outputId": "1ac09477-c88f-4b7d-9be6-274772d1a7d9"
      },
      "execution_count": 14,
      "outputs": [
        {
          "output_type": "stream",
          "name": "stdout",
          "text": [
            "Enter the input: alpaca\n",
            "\n",
            "\n",
            "Result:  0c0pl0aca\n"
          ]
        }
      ]
    },
    {
      "cell_type": "markdown",
      "source": [
        "# 3. Given the month and year as numbers, return whether that month contains a Friday 13th.(i.e You can check Python's datetime module)\n"
      ],
      "metadata": {
        "id": "s25pUAV1G_VH"
      }
    },
    {
      "cell_type": "code",
      "source": [
        "import datetime    \n",
        "month, year = input('Enter the month & year(comma seperated): ').split(\",\")  \n",
        "\n",
        "if datetime.datetime.strptime('13 '+' '+month+' '+year, '%d %m %Y').weekday() == 4:\n",
        "  print(\"RESULT: True\")\n",
        "else:\n",
        "  print(\"RESULT: False\")"
      ],
      "metadata": {
        "colab": {
          "base_uri": "https://localhost:8080/"
        },
        "id": "iLHS3U6vHG7E",
        "outputId": "b8a0f391-7b7c-40da-921f-8b22efcbad88"
      },
      "execution_count": 19,
      "outputs": [
        {
          "output_type": "stream",
          "name": "stdout",
          "text": [
            "Enter the month & year(comma seperated): 10,2017\n",
            "RESULT: True\n"
          ]
        }
      ]
    },
    {
      "cell_type": "markdown",
      "source": [
        "# 4. Write a regular expression that will help us count how many bad cookies are produced every day. You must use RegEx negative lookbehind.\n",
        "\n"
      ],
      "metadata": {
        "id": "t3g2jEjxIol3"
      }
    },
    {
      "cell_type": "code",
      "source": [
        "import re\n",
        "\n",
        "get_input = input(\"Enter list of elements seperated by comma: \").split(\",\")\n",
        "\n",
        "pattern = \"bad cookie\"\n",
        "\n",
        "print(len(re.findall(pattern, \", \".join(get_input))))\n"
      ],
      "metadata": {
        "colab": {
          "base_uri": "https://localhost:8080/"
        },
        "id": "27Fm689eJXnc",
        "outputId": "98f135c3-8786-450c-cd9d-644e298be80e"
      },
      "execution_count": 23,
      "outputs": [
        {
          "output_type": "stream",
          "name": "stdout",
          "text": [
            "Enter list of elements seperated by comma: \"bad cookie\", \"good cookie\", \"bad cookie\", \"good cookie\", \"good cookie\",\"bad cookie\", \"good cookie\", \"bad cookie\", \"good cookie\", \"good cookie\"\n",
            "4\n"
          ]
        }
      ]
    },
    {
      "cell_type": "markdown",
      "source": [
        "# 5. Given a list of words in the singular form, return a set of those words in the plural form if they appear more than once in the list."
      ],
      "metadata": {
        "id": "x5yB9K8gJ9mh"
      }
    },
    {
      "cell_type": "code",
      "source": [
        "import re\n",
        "\n",
        "result = set()\n",
        "get_set = []\n",
        "get_input = input(\"Enter list of elements seperated by comma: \").split(\",\")\n",
        "\n",
        "for i in get_input:\n",
        "  i = i.strip()\n",
        "  if i not in get_set:\n",
        "    get_set.append(i)\n",
        "\n",
        "\n",
        "def find_len(pattern):\n",
        "  len_of_string = len(re.findall(pattern, \", \".join(get_input)))\n",
        "\n",
        "  return len_of_string\n",
        "\n",
        "for i in get_set:\n",
        "  i = i.strip()\n",
        "  if find_len(i) > 1:\n",
        "    result.add(i+'s')\n",
        "  else:\n",
        "    result.add(i)\n",
        "print(\"\\n\")\n",
        "print(\"=====Result======\")\n",
        "print(result)\n"
      ],
      "metadata": {
        "colab": {
          "base_uri": "https://localhost:8080/"
        },
        "id": "w1WYwQ75KBvl",
        "outputId": "24a1d6b5-0c7b-44b1-e0ec-4102511a367c"
      },
      "execution_count": 41,
      "outputs": [
        {
          "output_type": "stream",
          "name": "stdout",
          "text": [
            "Enter list of elements seperated by comma: cow, cow, pig,cow, table,table\n",
            "\n",
            "\n",
            "=====Result======\n",
            "{'cows', 'pig', 'tables'}\n"
          ]
        }
      ]
    }
  ]
}