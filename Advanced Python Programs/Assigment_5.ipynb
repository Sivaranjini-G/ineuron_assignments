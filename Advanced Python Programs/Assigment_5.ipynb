{
 "cells": [
  {
   "cell_type": "markdown",
   "metadata": {},
   "source": [
    " 1. Create a function that takes a number n (integer greater than zero) as an argument, and returns 2 if n is odd and 8 if n is even.You can only use the following arithmetic operators: addition of numbers +, subtraction of numbers -, multiplication of number *, division of number /, and exponentiation **.You are not allowed to use any other methods in this challenge (i.e. no if statements, comparison operators, etc).\n"
   ]
  },
  {
   "cell_type": "code",
   "execution_count": 14,
   "metadata": {},
   "outputs": [
    {
     "name": "stdout",
     "output_type": "stream",
     "text": [
      "Enter a number: 5\n",
      "****RESULT****\n",
      " 2\n"
     ]
    }
   ],
   "source": [
    "def isEven(n):\n",
    "    print(\"8\" * (n % 2 == 0), \"2\" * (n % 2 != 0))\n",
    "  \n",
    "\n",
    "n = int(input(\"Enter a number: \"))\n",
    "print(\"****RESULT****\")\n",
    "isEven(n)"
   ]
  },
  {
   "cell_type": "markdown",
   "metadata": {},
   "source": [
    "2. Create a function that returns the majority vote in a list. A majority vote is an element that occurs > N/2 times in a list (where N is the length of the list)."
   ]
  },
  {
   "cell_type": "code",
   "execution_count": 9,
   "metadata": {},
   "outputs": [
    {
     "name": "stdout",
     "output_type": "stream",
     "text": [
      "majority_vote([\"A\",\"A\",\"B\"])=> A\n",
      "majority_vote([\"A\",\"A\",\"A\",\"B\",\"C\",\"A\"])=>  A\n",
      "majority_vote([\"A\",\"B\",\"B\",\"A\",\"C\",\"C\"])=> None\n"
     ]
    }
   ],
   "source": [
    "from collections import Counter\n",
    " \n",
    "def majority_vote(l):\n",
    "    d = Counter(l)\n",
    "    for key,value in d.items():\n",
    "        if value>=(len(l)/2):\n",
    "            return key\n",
    "        else:\n",
    "            return None\n",
    "        \n",
    "print('majority_vote([\"A\",\"A\",\"B\"])=>',majority_vote([\"A\",\"A\",\"B\"]))\n",
    "print('majority_vote([\"A\",\"A\",\"A\",\"B\",\"C\",\"A\"])=> ',majority_vote([\"A\",\"A\",\"A\",\"B\",\"C\",\"A\"]))\n",
    "print('majority_vote([\"A\",\"B\",\"B\",\"A\",\"C\",\"C\"])=>',majority_vote([\"A\",\"B\",\"B\",\"A\",\"C\",\"C\"]))"
   ]
  },
  {
   "cell_type": "markdown",
   "metadata": {},
   "source": [
    "3. Create a function that takes a string txt and censors any word from a given list lst. The text removed must be replaced by the given character char.\n",
    "\n"
   ]
  },
  {
   "cell_type": "code",
   "execution_count": 24,
   "metadata": {},
   "outputs": [
    {
     "name": "stdout",
     "output_type": "stream",
     "text": [
      "censor_string(\"Today is a Wednesday!\", [\"Today\", \"a\"],\"-\")==>  ----- is - Wednesday!\n",
      "censor_string(\"Why did the chicken cross the road?\", [\"Did\", \"chicken\", \"road\"], \"*\") ➞  Why --- the ------- cross the road?\n",
      "censor_string(\"The cow jumped over the moon.\", [\"cow\", \"over\"], \"*\")=>  The --- jumped ---- the moon.\n"
     ]
    }
   ],
   "source": [
    "def censor_string(mystr, censor, char):\n",
    "    mynewlist = []\n",
    "    mystrlist = mystr.split(\" \")\n",
    "    censor = [cha.lower() for cha in censor]\n",
    "    for str in mystrlist:\n",
    "        \n",
    "        if str.lower() not in censor:\n",
    "            mynewlist.append(str)\n",
    "        else:\n",
    "            newchar = \"-\"\n",
    "            for i in range(len(str)-1):\n",
    "                newchar = newchar + \"-\"\n",
    "            mynewlist.append(newchar)\n",
    "    mynewstr = \" \".join(mynewlist)\n",
    "    return(mynewstr)\n",
    "    \n",
    "print('censor_string(\"Today is a Wednesday!\", [\"Today\", \"a\"],\"-\")==> ',censor_string(\"Today is a Wednesday!\", [\"Today\", \"a\"],\"-\"))\n",
    "print('censor_string(\"Why did the chicken cross the road?\", [\"Did\", \"chicken\", \"road\"], \"*\") ➞ ',censor_string(\"Why did the chicken cross the road?\", [\"Did\", \"chicken\", \"road\"], \"*\"))\n",
    "print('censor_string(\"The cow jumped over the moon.\", [\"cow\", \"over\"], \"*\")=> ',censor_string(\"The cow jumped over the moon.\", [\"cow\", \"over\"], \"*\"))"
   ]
  },
  {
   "cell_type": "markdown",
   "metadata": {},
   "source": [
    "\n",
    "4. In mathematics a Polydivisible Number (or magic number) is a number in a given number base with digits abcde... that has the following properties:\n"
   ]
  },
  {
   "cell_type": "code",
   "execution_count": 61,
   "metadata": {},
   "outputs": [
    {
     "name": "stdout",
     "output_type": "stream",
     "text": [
      "is_polydivisible(1232)➞  True\n",
      "is_polydivisible(123220 ) ➞  False\n"
     ]
    }
   ],
   "source": [
    "def is_polydivisible(num):\n",
    "    flag = True\n",
    "    xx = \"\"\n",
    "    j = 1\n",
    "    for x in str(num):\n",
    "        xx = xx+x\n",
    "        if int(xx)%j !=0:\n",
    "            flag = False\n",
    "            break;\n",
    "        j = j+1\n",
    "    return flag\n",
    "\n",
    "    \n",
    "    \n",
    "print(\"is_polydivisible(1232)➞ \",is_polydivisible(1232))\n",
    "print(\"is_polydivisible(123220 ) ➞ \",is_polydivisible(123220))"
   ]
  },
  {
   "cell_type": "markdown",
   "metadata": {},
   "source": [
    "5. Create a function that takes a list of numbers and returns the sum of all prime numbers in the list."
   ]
  },
  {
   "cell_type": "code",
   "execution_count": 42,
   "metadata": {},
   "outputs": [
    {
     "name": "stdout",
     "output_type": "stream",
     "text": [
      "sum_primes([1, 2, 3, 4, 5, 6, 7, 8, 9, 10])==>  17\n",
      "sum_primes([2, 3, 4, 11, 20, 50, 71])==>  87\n",
      "sum_primes([])==>  None\n"
     ]
    }
   ],
   "source": [
    "def sum_primes(mylist):\n",
    "    sumprime = 0\n",
    "    for num in mylist:\n",
    "        flag = False\n",
    "        if num > 1:\n",
    "        # check for factors\n",
    "            for i in range(2, num):\n",
    "                if (num % i) == 0:\n",
    "                    \n",
    "                    # if factor is found, set flag to True\n",
    "                    flag = True\n",
    "                    # break out of loop\n",
    "                    break\n",
    "        if flag == False and num != 1:\n",
    "            #print(num)\n",
    "            sumprime = sumprime + num\n",
    "    if sumprime == 0:\n",
    "         sumprime = None\n",
    "    return sumprime\n",
    "\n",
    "print('sum_primes([1, 2, 3, 4, 5, 6, 7, 8, 9, 10])==> ',sum_primes([1, 2, 3, 4, 5, 6, 7, 8, 9, 10]))\n",
    "print('sum_primes([2, 3, 4, 11, 20, 50, 71])==> ',sum_primes([2, 3, 4, 11, 20, 50, 71]))\n",
    "print('sum_primes([])==> ',sum_primes([]))"
   ]
  }
 ],
 "metadata": {
  "kernelspec": {
   "display_name": "Python 3",
   "language": "python",
   "name": "python3"
  },
  "language_info": {
   "codemirror_mode": {
    "name": "ipython",
    "version": 3
   },
   "file_extension": ".py",
   "mimetype": "text/x-python",
   "name": "python",
   "nbconvert_exporter": "python",
   "pygments_lexer": "ipython3",
   "version": "3.8.3"
  }
 },
 "nbformat": 4,
 "nbformat_minor": 4
}
