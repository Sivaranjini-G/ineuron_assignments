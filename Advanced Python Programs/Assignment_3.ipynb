{
  "nbformat": 4,
  "nbformat_minor": 0,
  "metadata": {
    "colab": {
      "name": "Assignment_3.ipynb",
      "provenance": []
    },
    "kernelspec": {
      "name": "python3",
      "display_name": "Python 3"
    },
    "language_info": {
      "name": "python"
    }
  },
  "cells": [
    {
      "cell_type": "markdown",
      "source": [
        "# 1. Create a function to perform basic arithmetic operations that includes addition, subtraction, multiplication and division on a string number (e.g. \"12 + 24\" or \"23 - 21\" or \"12 // 12\" or \"12 * 21\")."
      ],
      "metadata": {
        "id": "HDCa7kx-oaYz"
      }
    },
    {
      "cell_type": "code",
      "execution_count": null,
      "metadata": {
        "id": "Q44yxII1EcH5",
        "colab": {
          "base_uri": "https://localhost:8080/"
        },
        "outputId": "55ede3c1-f15f-4b27-e27a-32d7b389e271"
      },
      "outputs": [
        {
          "output_type": "stream",
          "name": "stdout",
          "text": [
            "arithmetic_operation(\"12 * 12\")==>  144\n",
            "arithmetic_operation(\"12 + 12\")==>  24\n",
            "arithmetic_operation(\"12 - 12\")==>  0\n",
            "arithmetic_operation(\"12 - 12\")==>  -1\n"
          ]
        }
      ],
      "source": [
        "import operator\n",
        "\n",
        "ops = {\n",
        "    '+' : operator.add,\n",
        "    '-' : operator.sub,\n",
        "    '*' : operator.mul,\n",
        "    '//' : operator.truediv,  \n",
        "    '%' : operator.mod,\n",
        "    '^' : operator.xor,\n",
        "}\n",
        "\n",
        "\n",
        "def arithmetic_operation(p_args):\n",
        "  p_args = p_args.split()\n",
        "  if p_args[1] == \"//\" and p_args[2] == '0':\n",
        "    return -1;\n",
        "  else:\n",
        "    f_num = int(p_args[0])\n",
        "    s_num = int(p_args[2])\n",
        "    return ops[p_args[1]](f_num,s_num)\n",
        "\n",
        "\n",
        "print('arithmetic_operation(\"12 * 12\")==> ',arithmetic_operation(\"12 * 12\"))\n",
        "print('arithmetic_operation(\"12 + 12\")==> ',arithmetic_operation(\"12 + 12\"))\n",
        "print('arithmetic_operation(\"12 - 12\")==> ',arithmetic_operation(\"12 - 12\"))\n",
        "print('arithmetic_operation(\"12 - 12\")==> ',arithmetic_operation(\"12 // 0\"))\n",
        "\n",
        "\n",
        "\n"
      ]
    },
    {
      "cell_type": "markdown",
      "source": [
        "# 2. Write a function that takes the coordinates of three points in the form of a 2d array and returns the perimeter of the triangle. The given points are the vertices of a triangle on a two-dimensional plane.\n"
      ],
      "metadata": {
        "id": "8UHqwa7h5U7W"
      }
    },
    {
      "cell_type": "code",
      "source": [
        "import numpy as np\n",
        "\n",
        "def perimeter(param1, param2):\n",
        "  param = {}\n",
        "  param[0] = param1\n",
        "  param[1] = param2\n",
        "  res = np.sqrt(((param[1][0]-param[0][0])*(param[1][0]-param[0][0])) + ((param[1][1]-param[0][1])*(param[1][1]-param[0][1])))\n",
        "\n",
        "  return res\n",
        "\n",
        "\n",
        "input_list = []\n",
        "for j in range(0, 3):\n",
        "  input_list_temp = []\n",
        "  print(\"Enter coordinate number %d: \" %(j+1))\n",
        "  for i in range(0, 2):\n",
        "      ele = int(input())\n",
        "      input_list_temp.append(ele)\n",
        "  input_list.append(input_list_temp)\n",
        "\n",
        "final_result = 0\n",
        "\n",
        "for i in range(0,len(input_list)):\n",
        "  if i == len(input_list) -1:\n",
        "    j = 0\n",
        "  else:\n",
        "    j = i+1\n",
        "  final_result = round(final_result + perimeter(input_list[i],input_list[j]),2)\n",
        "print(\"Perimeter of triangle: \",final_result)"
      ],
      "metadata": {
        "colab": {
          "base_uri": "https://localhost:8080/"
        },
        "id": "HpNnmvWpDnN5",
        "outputId": "c74c800e-a921-41a7-965b-aaa975be135b"
      },
      "execution_count": null,
      "outputs": [
        {
          "output_type": "stream",
          "name": "stdout",
          "text": [
            "Enter coordinate number 1: \n",
            "-10\n",
            "-10\n",
            "Enter coordinate number 2: \n",
            "10\n",
            "10\n",
            "Enter coordinate number 3: \n",
            "-10\n",
            "10\n",
            "Perimeter of triangle:  68.28\n"
          ]
        }
      ]
    },
    {
      "cell_type": "markdown",
      "source": [
        "# 3. A city skyline can be represented as a 2-D list with 1s representing buildings. In the example below, the height of the tallest building is 4 (second-most right column).\n"
      ],
      "metadata": {
        "id": "W5huMmZJJ15j"
      }
    },
    {
      "cell_type": "code",
      "source": [
        "input_num = int(input(\"Enter the number of list you want to add: \"))\n",
        "\n",
        "input_main = {}\n",
        "for i in range(0,input_num):\n",
        "  input_list = input(\"Enter elements of 2d list(only 0 or 1 with comma seperated): \").split(\",\")\n",
        "  \n",
        "  for j in range(0,len(input_list)):    \n",
        "    if int(input_list[j]) == 1 and  j not in input_main.keys():\n",
        "      input_main[j] = 1\n",
        "    elif int(input_list[j]) == 1 and  j in input_main.keys():\n",
        "      input_main[j] = input_main[j] + 1\n",
        "  \n",
        "print(\"\\n\")\n",
        "print(\"Result==> \",max(input_main.values()))\n",
        "\n"
      ],
      "metadata": {
        "colab": {
          "base_uri": "https://localhost:8080/"
        },
        "id": "sL1DDsSdJ5Y8",
        "outputId": "dbb62a83-1d5b-4210-de56-a147f4356bf4"
      },
      "execution_count": null,
      "outputs": [
        {
          "output_type": "stream",
          "name": "stdout",
          "text": [
            "Enter the number of list you want to add: 5\n",
            "Enter elements of 2d list(only 0 or 1 with comma seperated): 1, 1, 1, 1, 1, 1\n",
            "Enter elements of 2d list(only 0 or 1 with comma seperated): 0, 1, 1, 1, 1, 0\n",
            "Enter elements of 2d list(only 0 or 1 with comma seperated): 0, 0, 1, 0, 1, 0\n",
            "Enter elements of 2d list(only 0 or 1 with comma seperated): 0, 0, 0, 0, 1, 0\n",
            "Enter elements of 2d list(only 0 or 1 with comma seperated): 0, 0, 0, 0, 0, 0\n",
            "\n",
            "\n",
            "Result==>  4\n"
          ]
        }
      ]
    },
    {
      "cell_type": "markdown",
      "source": [
        "# 4. A financial institution provides professional services to banks and claims charges from the customers based on the number of man-days provided. Internally, it has set a scheme to motivate and reward staff to meet and exceed targeted billable utilization and revenues by paying a bonus for each day claimed from customers in excess of a threshold target.\n",
        "\n",
        "  This quarterly scheme is calculated with a threshold target of 32 days per quarter, and the incentive payment for each billable day in excess of such threshold target is shown as follows:\n",
        "\n",
        "  Days\t                             Bonus\n",
        "  0 to 32 days\t                   Zero\n",
        "  33 to 40 days\t         SGD$325 per billable day\n",
        "  41 to 48 days\t         SGD$550 per billable day\n",
        "  Greater than 48 days      SGD$600 per billable day\n",
        "\n",
        "  Please note that incentive payment is calculated progressively. As an example, if an employee reached total billable days of 45 in a quarter, his/her incentive payment is computed as follows:\n",
        "\n",
        "  32*0 + 8*325 + 5*550 = 5350\n",
        "\n",
        "  Write a function to read the billable days of an employee and return the bonus he/she has obtained in that quarter.\n"
      ],
      "metadata": {
        "id": "sPetS6QuZjCK"
      }
    },
    {
      "cell_type": "code",
      "source": [
        "arr = {32:0,40:325,48:550, \">48\":600}\n",
        "def find_bonus(days):\n",
        "  bonus = 0\n",
        "  new_num = 0\n",
        "  # print(arr.keys())\n",
        "  for i in arr.keys():\n",
        "    \n",
        "    if days >= new_num:\n",
        "      if i == 32:\n",
        "        bonus = 0\n",
        "      elif i == \">48\" and days > 48:\n",
        "        bonus = bonus + (days - new_num) * 600 \n",
        "      else:\n",
        "        if days % i == days:\n",
        "          # print(\"mode Bonus \",bonus,\"i \" , i, \"new_num\", new_num,\"arr \",arr[i])\n",
        "          bonus = bonus + (days - new_num) * arr[i]\n",
        "        else:\n",
        "          # print(\"Bonus \",bonus,\"i \" , i, \"new_num\", new_num,\"arr \",arr[i])\n",
        "          bonus = bonus + (i - new_num) * arr[i] \n",
        "        # print(\"After Bonus \",bonus)\n",
        "      new_num = i ;\n",
        "  return bonus\n",
        "user_input = int(input(\"Enter billable days: \"))\n",
        "print(\"\\n\")\n",
        "print(\"Bonus he/she has obtained in this quarter is: \",find_bonus(user_input))"
      ],
      "metadata": {
        "colab": {
          "base_uri": "https://localhost:8080/"
        },
        "id": "z0imInEgfwqH",
        "outputId": "798363b6-5554-4007-9690-24dd770db120"
      },
      "execution_count": 48,
      "outputs": [
        {
          "output_type": "stream",
          "name": "stdout",
          "text": [
            "Enter billable days: 50\n",
            "\n",
            "\n",
            "Bonus he/she has obtained in this quarter is:  8200\n"
          ]
        }
      ]
    },
    {
      "cell_type": "markdown",
      "source": [
        "# 5. A number is said to be Disarium if the sum of its digits raised to their respective positions is the number itself. Create a function that determines whether a number is a Disarium or not.\n"
      ],
      "metadata": {
        "id": "ZZXQ2Hf4JDUy"
      }
    },
    {
      "cell_type": "code",
      "source": [
        "def is_disarium(num):\n",
        "  j = 0\n",
        "  main_res = 0\n",
        "  result = {}\n",
        "  for i in str(num):\n",
        "    j = j + 1\n",
        "    result[j] = 1\n",
        "    for k in range(0,j):\n",
        "      result[j] = result[j] * int(i)\n",
        "    main_res = main_res + result[j]\n",
        "  return main_res;\n",
        "\n",
        "input_num = input(\"Enter the number: \")\n",
        "disarium = is_disarium(input_num)\n",
        "\n",
        "if int(disarium) == int(input_num):\n",
        "  print(\"Result: \", True)\n",
        "else:\n",
        "  print(\"Result:\", False)"
      ],
      "metadata": {
        "colab": {
          "base_uri": "https://localhost:8080/"
        },
        "id": "d-RqVuuwJ1sp",
        "outputId": "b2f4df68-b73a-4bee-b722-f0db8253d201"
      },
      "execution_count": 16,
      "outputs": [
        {
          "output_type": "stream",
          "name": "stdout",
          "text": [
            "Enter the number: 518\n",
            "Result:  True\n"
          ]
        }
      ]
    }
  ]
}