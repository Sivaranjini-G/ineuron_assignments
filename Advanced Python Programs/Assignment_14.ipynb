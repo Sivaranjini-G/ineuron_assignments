{
 "cells": [
  {
   "cell_type": "markdown",
   "metadata": {},
   "source": [
    "1. Given a list of numbers, create a function that removes 25% from every\n",
    "    number in the list except the smallest number, and adds the total amount\n",
    "    removed to the smallest number.\n"
   ]
  },
  {
   "cell_type": "code",
   "execution_count": 13,
   "metadata": {},
   "outputs": [
    {
     "name": "stdout",
     "output_type": "stream",
     "text": [
      "[3.0, 3.0, 3.0]\n",
      "[12.0, 7.5, 14.5]\n",
      "[27.0, 75.0]\n"
     ]
    }
   ],
   "source": [
    "def show_the_love(arr):\n",
    "    sum = 0\n",
    "    minimum = min(arr)\n",
    "    index_min = arr.index(minimum)\n",
    "    for i in range(len(arr)):\n",
    "        if i != index_min:\n",
    "            sum = sum + (arr[i]*0.25)\n",
    "            arr[i] = arr[i] - (arr[i]*0.25) \n",
    "    arr[index_min] = arr[index_min] + sum\n",
    "    return (arr)\n",
    "print(show_the_love([4, 1, 4]))\n",
    "print(show_the_love([16, 10, 8]))\n",
    "print(show_the_love([2, 100]))\n",
    "# Examples\n",
    "# show_the_love([4, 1, 4]) ➞ [3, 3, 3]\n",
    "# show_the_love([16, 10, 8]) ➞ [12, 7.5, 14.5]\n",
    "# show_the_love([2, 100]) ➞ [27, 75]"
   ]
  },
  {
   "cell_type": "markdown",
   "metadata": {},
   "source": [
    "2. Create a function that takes in two words as input and returns a list of three\n",
    "    elements, in the following order:\n",
    "    1.Shared letters between two words.\n",
    "    2.Letters unique to word 1.\n",
    "    3.Letters unique to word 2.\n",
    "    Each element should have unique letters, and have each letter be\n",
    "    alphabetically sorted."
   ]
  },
  {
   "cell_type": "code",
   "execution_count": 30,
   "metadata": {},
   "outputs": [
    {
     "name": "stdout",
     "output_type": "stream",
     "text": [
      "['aps', 'hr', 'o']\n",
      "['flu', 'ekr', 'y']\n",
      "['bdor', 'a', 'e']\n",
      "['enp', 'ahis', 'lov']\n",
      "['ahm', 'ct', '']\n"
     ]
    }
   ],
   "source": [
    "def letters(str1,str2):\n",
    "    result = []\n",
    "    a=list(set(str1)&set(str2))\n",
    "    result.append(\"\".join(sorted(a))) \n",
    "    result.append(\"\".join(sorted(set([i for i in str1 if i not in result[0]]))))\n",
    "    result.append(\"\".join(sorted(set([i for i in str2 if i not in result[0]]))))\n",
    "    \n",
    "    return result\n",
    "print(letters(\"sharp\", \"soap\"))\n",
    "print(letters(\"kerfuffle\", \"fluffy\"))\n",
    "print(letters(\"board\", \"bored\"))\n",
    "print(letters(\"happiness\", \"envelope\"))\n",
    "print(letters(\"match\", \"ham\"))\n",
    "# letters(\"sharp\", \"soap\") ➞ [\"aps\", \"hr\", \"o\"]\n",
    "# letters(\"board\", \"bored\") ➞ [\"bdor\", \"a\", \"e\"]\n",
    "# letters(\"happiness\", \"envelope\") ➞ [\"enp\", \"ahis\", \"lov\"]\n",
    "# letters(\"kerfuffle\", \"fluffy\") ➞ [\"flu\", \"ekr\", \"y\"]\n",
    "# # Even with multiple matching letters (e.g. 3 f&#39;s), there should\n",
    "# # only exist a single \"f\" in your first element.\n",
    "# letters(\"match\", \"ham\") ➞ [\"ahm\", \"ct\", \"\"]\n",
    "# # \"ham\" does not contain any letters that are not found already\n",
    "# # in \"match\"."
   ]
  },
  {
   "cell_type": "markdown",
   "metadata": {},
   "source": [
    "3. Write a function that pairs the first number in an array with the last, the second number with the second to last, etc."
   ]
  },
  {
   "cell_type": "code",
   "execution_count": 45,
   "metadata": {},
   "outputs": [
    {
     "name": "stdout",
     "output_type": "stream",
     "text": [
      "[[1, 7], [2, 6], [3, 5], [4, 4]]\n",
      "[[1, 6], [2, 5], [3, 4]]\n",
      "[[5, 2], [9, 1], [8, 8]]\n",
      "[]\n"
     ]
    }
   ],
   "source": [
    "import math\n",
    "def pairs(arr):\n",
    "    res = []\n",
    "    length = len(arr)\n",
    "    half_len = math.floor(len(arr)/2)\n",
    "    for i in range(half_len):\n",
    "        res.append([arr[i], arr[int(\"-\"+str(i+1))]])\n",
    "        #print(arr[i],\" \",arr[int(\"-\"+str(i))])\n",
    "    if length%2 != 0:\n",
    "        res.append([arr[half_len], arr[half_len]])\n",
    "    return res\n",
    "print(pairs([1, 2, 3, 4, 5, 6, 7]))\n",
    "print(pairs([1, 2, 3, 4, 5, 6]))\n",
    "print(pairs([5, 9, 8, 1, 2]))\n",
    "print(pairs([]))\n",
    "# pairs([1, 2, 3, 4, 5, 6, 7]) ➞ [[1, 7], [2, 6], [3, 5], [4, 4]]\n",
    "\n",
    "# pairs([1, 2, 3, 4, 5, 6]) ➞ [[1, 6], [2, 5], [3, 4]]\n",
    "# pairs([5, 9, 8, 1, 2]) ➞ [[5, 2], [9, 1], [8, 8]]\n",
    "# pairs([]) ➞ []"
   ]
  },
  {
   "cell_type": "markdown",
   "metadata": {},
   "source": [
    "4. Write a function that adds two numbers. The catch, however, is that the numbers will be strings.\n"
   ]
  },
  {
   "cell_type": "code",
   "execution_count": 59,
   "metadata": {},
   "outputs": [
    {
     "name": "stdout",
     "output_type": "stream",
     "text": [
      "9\n",
      "-1\n",
      "1\n",
      "1874682736267235927391936562808774986\n"
     ]
    }
   ],
   "source": [
    "import re\n",
    "\n",
    "def find_literal(str):\n",
    "    if re.findall(r\"\\d+\", str) == []:\n",
    "        return True\n",
    "    else:\n",
    "        return False\n",
    "    \n",
    "def add_str_nums(str1, str2):\n",
    "    if str1 == \"\" :\n",
    "        str1 = \"0\"\n",
    "    if str2 == \"\":\n",
    "        str2 = \"0\"\n",
    "    if find_literal(str1) or find_literal(str2):\n",
    "        return -1\n",
    "    else:\n",
    "        return int(str1)+int(str2)\n",
    "    \n",
    "print(add_str_nums(\"4\", \"5\"))\n",
    "print(add_str_nums(\"abcdefg\", \"3\"))\n",
    "print(add_str_nums(\"1\", \"\"))\n",
    "print(add_str_nums(\"1874682736267235927359283579235789257\", \"32652983572985729\"))\n",
    "# add_str_nums(\"abcdefg\", \"3\")\n",
    "# Examples\n",
    "# add_str_nums(\"4\", \"5\") ➞ \"9\"\n",
    "# add_str_nums(\"abcdefg\", \"3\") ➞ \"-1\"\n",
    "# add_str_nums(\"1\", \"\") ➞ \"1\"\n",
    "# add_str_nums(\"1874682736267235927359283579235789257\",\n",
    "# \"32652983572985729\") ➞ \"1874682736267235927391936562808774986\""
   ]
  },
  {
   "cell_type": "markdown",
   "metadata": {},
   "source": [
    "5. lPaeesh le pemu mnxit ehess rtnisg! Oh, sorry, that was supposed to say:\n",
    "    Please help me unmix these strings!\n",
    "    Somehow my strings have all become mixed up; every pair of characters has\n",
    "    been swapped. Help me undo this so I can understand my strings again."
   ]
  },
  {
   "cell_type": "code",
   "execution_count": 65,
   "metadata": {},
   "outputs": [
    {
     "name": "stdout",
     "output_type": "stream",
     "text": [
      "214365\n",
      "Please help me unmix these strings!\n",
      "abcde\n"
     ]
    }
   ],
   "source": [
    "def unmix(s):\n",
    "    return ''.join([ s[x:x+2][::-1] for x in range(0, len(s), 2) ])\n",
    "\n",
    "print(unmix(\"123456\"))\n",
    "print(unmix(\"lPaeesh le pemu mnxit ehess rtnisg!\"))\n",
    "print(unmix(\"badce\"))\n",
    "# unmix(\"123456\") ➞ \"214365\"\n",
    "# unmix(\"lPaeesh le pemu mnxit ehess rtnisg!\") ➞ \"Please help me unmix these strings!\"\n",
    "# unmix(\"badce\") ➞ \"abcde\""
   ]
  }
 ],
 "metadata": {
  "kernelspec": {
   "display_name": "Python 3",
   "language": "python",
   "name": "python3"
  },
  "language_info": {
   "codemirror_mode": {
    "name": "ipython",
    "version": 3
   },
   "file_extension": ".py",
   "mimetype": "text/x-python",
   "name": "python",
   "nbconvert_exporter": "python",
   "pygments_lexer": "ipython3",
   "version": "3.8.3"
  }
 },
 "nbformat": 4,
 "nbformat_minor": 4
}
