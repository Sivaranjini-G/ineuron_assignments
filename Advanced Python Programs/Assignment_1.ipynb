{
  "nbformat": 4,
  "nbformat_minor": 0,
  "metadata": {
    "colab": {
      "name": "Assignment_1.ipynb",
      "provenance": [],
      "collapsed_sections": []
    },
    "kernelspec": {
      "name": "python3",
      "display_name": "Python 3"
    },
    "language_info": {
      "name": "python"
    }
  },
  "cells": [
    {
      "cell_type": "code",
      "execution_count": 1,
      "metadata": {
        "colab": {
          "base_uri": "https://localhost:8080/"
        },
        "id": "wEOIFoVwe9vj",
        "outputId": "23d1b268-804e-4b82-d3ca-926376f93928"
      },
      "outputs": [
        {
          "output_type": "stream",
          "name": "stdout",
          "text": [
            "Hello Python\n"
          ]
        }
      ],
      "source": [
        "#@title Write a Python program to print \"Hello Python\"?\n",
        "\n",
        "print(\"Hello Python\")"
      ]
    },
    {
      "cell_type": "code",
      "source": [
        "#@title Write a Python program to do arithmetical operations addition and division.?\n",
        "\n",
        "print(1+2)\n",
        "print(2/3)"
      ],
      "metadata": {
        "colab": {
          "base_uri": "https://localhost:8080/"
        },
        "id": "TAKNkQP8sO2f",
        "outputId": "37f7cbe4-935b-4294-9c9d-6de6fb52d34c"
      },
      "execution_count": 3,
      "outputs": [
        {
          "output_type": "stream",
          "name": "stdout",
          "text": [
            "3\n",
            "0.6666666666666666\n"
          ]
        }
      ]
    },
    {
      "cell_type": "code",
      "source": [
        "#@title Write a Python program to find the area of a triangle?\n",
        "\n",
        "base = 10\n",
        "height = 15\n",
        "\n",
        "def area_of_triangle(b,h):\n",
        "  return 0.5*b*h\n",
        "\n",
        "print('Area of a triangle with base=%d, height=%d is' % (base,height) , area_of_triangle(base, height) )\n"
      ],
      "metadata": {
        "colab": {
          "base_uri": "https://localhost:8080/"
        },
        "id": "voGH7GUatDQI",
        "outputId": "f2635562-121f-4343-9e6b-2018ab6e336a"
      },
      "execution_count": 9,
      "outputs": [
        {
          "output_type": "stream",
          "name": "stdout",
          "text": [
            "Area of a triangle with base=10, height=15 is 75.0\n"
          ]
        }
      ]
    },
    {
      "cell_type": "code",
      "source": [
        "#@title Write a Python program to swap two variables?\n",
        "\n",
        "x = 'abc'\n",
        "y = 10\n",
        "\n",
        "print(\"BEFORE SWAP\")\n",
        "print(\"x =\", x)\n",
        "print(\"y =\", y)\n",
        "\n",
        "x, y = y, x\n",
        "print(\"AFTER SWAP\")\n",
        "print(\"x =\", x)\n",
        "print(\"y =\", y)"
      ],
      "metadata": {
        "colab": {
          "base_uri": "https://localhost:8080/"
        },
        "id": "sXAKJ0VIvUMG",
        "outputId": "6a34dcd2-b793-4db3-d5fe-1c9c29c0d0f3"
      },
      "execution_count": 11,
      "outputs": [
        {
          "output_type": "stream",
          "name": "stdout",
          "text": [
            "BEFORE SWAP\n",
            "x = abc\n",
            "y = 10\n",
            "AFTER SWAP\n",
            "x = 10\n",
            "y = abc\n"
          ]
        }
      ]
    },
    {
      "cell_type": "code",
      "source": [
        "#@title Write a Python program to generate a random number?\n",
        "\n",
        "import random\n",
        "print(random.randint(0,30))"
      ],
      "metadata": {
        "colab": {
          "base_uri": "https://localhost:8080/"
        },
        "id": "mKC6MzTNvzXG",
        "outputId": "d2614b2d-4dc6-42fa-d90e-c5271fd15f6b"
      },
      "execution_count": 13,
      "outputs": [
        {
          "output_type": "stream",
          "name": "stdout",
          "text": [
            "10\n"
          ]
        }
      ]
    }
  ]
}