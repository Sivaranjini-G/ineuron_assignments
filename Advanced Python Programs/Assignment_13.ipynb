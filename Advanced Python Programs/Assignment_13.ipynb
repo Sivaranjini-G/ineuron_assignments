{
 "cells": [
  {
   "cell_type": "markdown",
   "metadata": {},
   "source": [
    "1. Create a function that takes a list and string. The function should remove\n",
    "   the letters in the string from the list, and return the list."
   ]
  },
  {
   "cell_type": "code",
   "execution_count": 13,
   "metadata": {},
   "outputs": [
    {
     "name": "stdout",
     "output_type": "stream",
     "text": [
      "['w']\n",
      "['b', 'g', 'w']\n",
      "[]\n"
     ]
    }
   ],
   "source": [
    "def remove_letters(arr, string):\n",
    "    result = []\n",
    "    for i in arr:\n",
    "        if i not in string:\n",
    "            result.append(i)\n",
    "        else:\n",
    "            string  = string.replace(i, '', 1)\n",
    "    return result\n",
    "print(remove_letters([\"s\", \"t\", \"r\", \"i\", \"n\", \"g\", \"w\"], \"string\"))\n",
    "print(remove_letters([\"b\", \"b\", \"l\", \"l\", \"g\", \"n\", \"o\", \"a\", \"w\"], \"balloon\"))\n",
    "print(remove_letters([\"d\", \"b\", \"t\", \"e\", \"a\", \"i\"], \"edabit\"))\n",
    "# remove_letters([\"s\", \"t\", \"r\", \"i\", \"n\", \"g\", \"w\"], \"string\") ➞ [\"w\"]\n",
    "# remove_letters([\"b\", \"b\", \"l\", \"l\", \"g\", \"n\", \"o\", \"a\", \"w\"], \"balloon\") ➞ [\"b\", \"g\",\n",
    "# \"w\"]\n",
    "# remove_letters([\"d\", \"b\", \"t\", \"e\", \"a\", \"i\"], \"edabit\") ➞ []"
   ]
  },
  {
   "cell_type": "markdown",
   "metadata": {},
   "source": [
    "2. A block sequence in three dimensions. We can write a formula for this one:\n",
    "\n",
    "    Create a function that takes a number (step) as an argument and returns the\n",
    "    amount of blocks in that step."
   ]
  },
  {
   "cell_type": "code",
   "execution_count": 18,
   "metadata": {},
   "outputs": [
    {
     "name": "stdout",
     "output_type": "stream",
     "text": [
      "5\n",
      "39\n",
      "12\n"
     ]
    }
   ],
   "source": [
    "def blocks(num):\n",
    "    counter = 4\n",
    "    result = (num*3) + 2\n",
    "#     print(result)\n",
    "    if num == 1:\n",
    "        return result\n",
    "    else:\n",
    "        for i in range(1,num):\n",
    "            result = result + counter \n",
    "            counter = counter + 1\n",
    "        return result\n",
    "            \n",
    "print(blocks(1))\n",
    "print(blocks(5))\n",
    "print(blocks(2))\n",
    "# blocks(1) ➞ 5\n",
    "# blocks(5) ➞ 39\n",
    "# blocks(2) ➞ 12"
   ]
  },
  {
   "cell_type": "markdown",
   "metadata": {},
   "source": [
    "3. Create a function that subtracts one positive integer from another, without\n",
    "    using any arithmetic operators such as -, %, /, +, etc."
   ]
  },
  {
   "cell_type": "code",
   "execution_count": 32,
   "metadata": {},
   "outputs": [
    {
     "name": "stdout",
     "output_type": "stream",
     "text": [
      "4\n",
      "20\n",
      "0\n"
     ]
    }
   ],
   "source": [
    "\n",
    "def subtract(num1, num2):\n",
    "    a = max(num1,num2)\n",
    "    b = min(num1,num2)\n",
    "\n",
    "    if (b == 0):\n",
    "        return a\n",
    "    return subtract(a ^ b, (~a & b) << 1)\n",
    "\n",
    "print(subtract(5, 9))\n",
    "print(subtract(10, 30))\n",
    "print(subtract(0, 0))\n",
    "# my_sub(5, 9) ➞ 4\n",
    "# my_sub(10, 30) ➞ 20\n",
    "# my_sub(0, 0) ➞ 0"
   ]
  },
  {
   "cell_type": "markdown",
   "metadata": {},
   "source": [
    "4. Create a function that takes a string containing money in dollars and\n",
    "    pounds sterling (seperated by comma) and returns the sum of dollar bills only,\n",
    "    as an integer.\n",
    "    For the input string:\n",
    "    - Each amount is prefixed by the currency symbol: $ for dollars and £ for\n",
    "    pounds.\n",
    "    - Thousands are represented by the suffix k.\n",
    "    i.e. $4k = $4,000 and £40k = £40,000"
   ]
  },
  {
   "cell_type": "code",
   "execution_count": 44,
   "metadata": {},
   "outputs": [
    {
     "name": "stdout",
     "output_type": "stream",
     "text": [
      "70\n",
      "170\n",
      "2200\n"
     ]
    }
   ],
   "source": [
    "import re\n",
    "\n",
    "def add_bill(string):\n",
    "    result = 0\n",
    "    arr = (re.findall('d(\\d+k?)', string))\n",
    "    for i in arr:\n",
    "        if \"k\" in i:\n",
    "            i = int(i.split(\"k\")[0])*1000\n",
    "        else:\n",
    "            i = int(i)\n",
    "        result = result + i\n",
    "        \n",
    "    return (result)\n",
    "print(add_bill(\"d20,p40,p60,d50\"))\n",
    "print(add_bill(\"p30,d20,p60,d150,p360\"))\n",
    "print(add_bill(\"p30,d2k,p60,d200,p360\"))\n",
    "# add_bill(\"d20,p40,p60,d50\") ➞ 20 + 50 = 70\n",
    "# add_bill(\"p30,d20,p60,d150,p360\") ➞ 20 + 150 = 170\n",
    "# add_bill(\"p30,d2k,p60,d200,p360\") ➞ 2 * 1000 + 200 = 2200"
   ]
  },
  {
   "cell_type": "markdown",
   "metadata": {},
   "source": [
    "5. Create a function that flips a horizontal list into a vertical list, and a vertical\n",
    "    list into a horizontal list.\n",
    "    In other words, take an 1 x n list (1 row + n columns) and flip it into a n x 1 list\n",
    "    (n rows and 1 column), and vice versa."
   ]
  },
  {
   "cell_type": "code",
   "execution_count": 66,
   "metadata": {},
   "outputs": [
    {
     "name": "stdout",
     "output_type": "stream",
     "text": [
      "[[1], [2], [3], [4]]\n",
      "[5, 6, 9]\n",
      "[]\n"
     ]
    }
   ],
   "source": [
    "def flip_list(arg):\n",
    "    result = []\n",
    "    if len(arg) > 0:\n",
    "        if type(arg[0]) == int:\n",
    "\n",
    "            for i in arg:\n",
    "                result.append([i])\n",
    "        else:\n",
    "            for i in arg:\n",
    "                for j in i:\n",
    "                    result.append(j)\n",
    "       \n",
    "    return result\n",
    "print(flip_list([1, 2, 3, 4]))\n",
    "print(flip_list([[5], [6], [9]]))\n",
    "print(flip_list([]))\n",
    "\n",
    "# flip_list([1, 2, 3, 4]) ➞ [[1], [2], [3], [4]]\n",
    "# # Take a horizontal list and flip it vertical.\n",
    "# flip_list([[5], [6], [9]]) ➞ [5, 6, 9]\n",
    "# # Take a vertical list and flip it horizontal.\n",
    "# flip_list([]) ➞ []"
   ]
  }
 ],
 "metadata": {
  "kernelspec": {
   "display_name": "Python 3",
   "language": "python",
   "name": "python3"
  },
  "language_info": {
   "codemirror_mode": {
    "name": "ipython",
    "version": 3
   },
   "file_extension": ".py",
   "mimetype": "text/x-python",
   "name": "python",
   "nbconvert_exporter": "python",
   "pygments_lexer": "ipython3",
   "version": "3.8.3"
  }
 },
 "nbformat": 4,
 "nbformat_minor": 4
}
