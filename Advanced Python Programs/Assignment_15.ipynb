{
 "cells": [
  {
   "cell_type": "markdown",
   "metadata": {},
   "source": [
    "1. Write a function that returns True if a given name can generate an array of words."
   ]
  },
  {
   "cell_type": "code",
   "execution_count": 22,
   "metadata": {},
   "outputs": [
    {
     "name": "stdout",
     "output_type": "stream",
     "text": [
      "True\n",
      "True\n",
      "False\n",
      "False\n"
     ]
    }
   ],
   "source": [
    "def anagram(string, arr):\n",
    "    string_arr = \"\".join(arr)\n",
    "    string = \"\".join(string.lower().split())\n",
    "    if len(string_arr) != len(string):\n",
    "        return False\n",
    "    else:\n",
    "        flag = True\n",
    "        for i in string_arr:\n",
    "            if i not in string:\n",
    "                flag = False\n",
    "                break;\n",
    "        return flag\n",
    "\n",
    "print(anagram(\"Justin Bieber\", [\"injures\", \"ebb\", \"it\"]))\n",
    "print(anagram(\"Natalie Portman\", [\"ornamental\", \"pita\"]))\n",
    "print(anagram(\"Chris Pratt\", [\"chirps\", \"rat\"]))\n",
    "print(anagram(\"Jeff Goldblum\", [\"jog\", \"meld\", \"bluffs\"]))\n",
    "# anagram(\"Justin Bieber\", [\"injures\", \"ebb\", \"it\"]) ➞ True\n",
    "# anagram(\"Natalie Portman\", [\"ornamental\", \"pita\"]) ➞ True\n",
    "# anagram(\"Chris Pratt\", [\"chirps\", \"rat\"]) ➞ False\n",
    "# # Not all letters are used\n",
    "# anagram(\"Jeff Goldblum\", [\"jog\", \"meld\", \"bluffs\"]) ➞ False\n",
    "# # \"s\" does not exist in the original name"
   ]
  },
  {
   "cell_type": "markdown",
   "metadata": {},
   "source": [
    "2. Given an array of users, each defined by an object with the following\n",
    "    properties: name, score, reputation create a function that sorts the array to\n",
    "    form the correct leaderboard.\n",
    "    The leaderboard takes into consideration the score of each user of course,\n",
    "    but an emphasis is put on their reputation in the community, so to get the\n",
    "    trueScore, you should add the reputation multiplied by 2 to the score.\n",
    "    Once you know the trueScore of each user, sort the array according to it in\n",
    "    descending order."
   ]
  },
  {
   "cell_type": "code",
   "execution_count": 38,
   "metadata": {},
   "outputs": [
    {
     "data": {
      "text/plain": [
       "[{'name': 'c', 'score': 115, 'reputation': 30},\n",
       " {'name': 'b', 'score': 90, 'reputation': 40},\n",
       " {'name': 'a', 'score': 100, 'reputation': 20}]"
      ]
     },
     "execution_count": 38,
     "metadata": {},
     "output_type": "execute_result"
    }
   ],
   "source": [
    "def leaderboards(students):\n",
    "    for i in students:\n",
    "        i[\"true_score\"] = i[\"score\"] + (i[\"reputation\"] * 2)\n",
    "    students = sorted(students, key=lambda x: x['true_score'], reverse=True)\n",
    "    for i in students:\n",
    "        i.pop(\"true_score\")\n",
    "    return (students)\n",
    "\n",
    "leaderboards([{ \"name\": \"a\", \"score\": 100, \"reputation\": 20 },\n",
    "                { \"name\": \"b\", \"score\": 90, \"reputation\": 40 }, \n",
    "                { \"name\": \"c\", \"score\": 115, \"reputation\": 30 }])\n",
    "\n",
    "\n",
    "\n",
    "\n",
    "# sorted(leaderboards)"
   ]
  },
  {
   "cell_type": "markdown",
   "metadata": {},
   "source": [
    "3. Create a function that, given a phrase and a number of letters guessed,\n",
    "    returns a string with hyphens - for every letter of the phrase not guessed, and\n",
    "    each letter guessed in place."
   ]
  },
  {
   "cell_type": "code",
   "execution_count": 48,
   "metadata": {},
   "outputs": [
    {
     "name": "stdout",
     "output_type": "stream",
     "text": [
      "-e---o--e-\n",
      "tree\n",
      "p----n r----\n",
      "-e\"- a -e-y -a----y --y!\n"
     ]
    }
   ],
   "source": [
    "def hangman(string, arr):\n",
    "    spl = re.findall(r\"[^\\w+^\\s+]\",string)\n",
    "    res = \"\"\n",
    "    for i in string.lower():\n",
    "        if i in arr:\n",
    "            res = res + i\n",
    "        elif i == \" \" :\n",
    "            res = res + \" \"\n",
    "        elif i in spl:\n",
    "            res = res + i\n",
    "        else:\n",
    "            res = res + \"-\"\n",
    "    return (res)\n",
    "print(hangman(\"helicopter\", [\"o\", \"e\", \"s\"]))\n",
    "print(hangman(\"tree\", [\"r\", \"t\", \"e\"]))\n",
    "print(hangman(\"Python rules\", [\"a\", \"n\", \"p\", \"r\", \"z\"]))\n",
    "print(hangman('He\"s a very naughty boy!', [\"e\", \"a\", \"y\"]))\n",
    "# hangman(\"helicopter\", [\"o\", \"e\", \"s\"]) ➞ \"-e---o--e-\"\n",
    "\n",
    "# hangman(\"tree\", [\"r\", \"t\", \"e\"]) ➞ \"tree\"\n",
    "# hangman(\"Python rules\", [\"a\", \"n\", \"p\", \"r\", \"z\"]) ➞ \"P----n r----\"\n",
    "# hangman(\"He\"s a very naughty boy!\", [\"e\", \"a\", \"y\"]) ➞ \"-e\"- a -e-y -a----y –y!\""
   ]
  },
  {
   "cell_type": "markdown",
   "metadata": {},
   "source": [
    "4. The Collatz sequence is as follows:\n",
    "    - Start with some given integer n.\n",
    "    - If it is even, the next number will be n divided by 2.\n",
    "    - If it is odd, multiply it by 3 and add 1 to make the next number.\n",
    "    - The sequence stops when it reaches 1.\n",
    "    According to the Collatz conjecture, it will always reach 1. If that&#39;s true, you\n",
    "    can construct a finite sequence following the aforementioned method for any\n",
    "    given integer.\n",
    "    Write a function that takes in an integer n and returns the highest integer in\n",
    "    the corresponding Collatz sequence."
   ]
  },
  {
   "cell_type": "code",
   "execution_count": 52,
   "metadata": {},
   "outputs": [
    {
     "name": "stdout",
     "output_type": "stream",
     "text": [
      "16\n",
      "32\n",
      "256\n"
     ]
    }
   ],
   "source": [
    "def max_collatz(n):\n",
    "    collatz_list=list() \n",
    "    \n",
    "    while (n!=1) :\n",
    "        collatz_list.append(n) \n",
    "        if (n%2==0) :\n",
    "            n=n//2\n",
    "        else:\n",
    "            n=(3*n)+1\n",
    "    collatz_list.append(1)    \n",
    "    l=len(collatz_list)\n",
    "\n",
    "    return max(collatz_list)\n",
    "\n",
    "\n",
    "print(max_collatz(10))\n",
    "print(max_collatz(32))\n",
    "print(max_collatz(85))\n",
    "# max_collatz(10) ➞ 16\n",
    "# # Collatz sequence: 10, 5, 16, 8, 4, 2, 1\n",
    "# max_collatz(32) ➞ 32\n",
    "# # Collatz sequence: 32, 16, 8, 4, 2, 1\n",
    "# max_collatz(85) ➞ 256\n",
    "# # Collatz sequence: 85, 256, 128, 64, 32, 16, 8, 4, 2, 1"
   ]
  },
  {
   "cell_type": "markdown",
   "metadata": {},
   "source": [
    "5. Write a function that sorts a list of integers by their digit length in\n",
    "    descending order, then settles ties by sorting numbers with the same digit\n",
    "    length in ascending order."
   ]
  },
  {
   "cell_type": "code",
   "execution_count": 95,
   "metadata": {},
   "outputs": [
    {
     "name": "stdout",
     "output_type": "stream",
     "text": [
      "[101, 23, 77, 5, 7]\n",
      "[444, 563, 789, 1, 2, 5, 9]\n",
      "[53219, 3772, 564, 32, 1]\n"
     ]
    }
   ],
   "source": [
    "def digit_sort(arr):\n",
    "    new_arr = {}\n",
    "    result = []\n",
    "    for i in range(len(arr)):\n",
    "        if len(str(arr[i])) not in new_arr:\n",
    "            new_arr[len(str(arr[i]))] = []\n",
    "            new_arr[len(str(arr[i]))].append(arr[i])\n",
    "        else:\n",
    "            new_arr[len(str(arr[i]))].append(arr[i])\n",
    "    for i in sorted(new_arr,reverse=True):\n",
    "        for j in sorted(new_arr[i]):\n",
    "            result.append(j)\n",
    "        \n",
    "    return result\n",
    "print(digit_sort([77, 23, 5, 7, 101]))\n",
    "print(digit_sort([1, 5, 9, 2, 789, 563, 444]))\n",
    "print(digit_sort([53219, 3772, 564, 32, 1]))\n",
    "# digit_sort([77, 23, 5, 7, 101])\n",
    "# ➞ [101, 23, 77, 5, 7]\n",
    "# digit_sort([1, 5, 9, 2, 789, 563, 444])\n",
    "# ➞ [444, 563, 789, 1, 2, 5, 9]\n",
    "# digit_sort([53219, 3772, 564, 32, 1])\n",
    "\n",
    "# ➞ [53219, 3772, 564, 32, 1]"
   ]
  }
 ],
 "metadata": {
  "kernelspec": {
   "display_name": "Python 3",
   "language": "python",
   "name": "python3"
  },
  "language_info": {
   "codemirror_mode": {
    "name": "ipython",
    "version": 3
   },
   "file_extension": ".py",
   "mimetype": "text/x-python",
   "name": "python",
   "nbconvert_exporter": "python",
   "pygments_lexer": "ipython3",
   "version": "3.8.3"
  }
 },
 "nbformat": 4,
 "nbformat_minor": 4
}
