{
 "cells": [
  {
   "cell_type": "markdown",
   "metadata": {},
   "source": [
    "1. Given a sentence as txt, return True if any two adjacent words have this property: One word ends with a vowel, while the word immediately after begins with a vowel (a e i o u).\n"
   ]
  },
  {
   "cell_type": "code",
   "execution_count": 43,
   "metadata": {},
   "outputs": [
    {
     "name": "stdout",
     "output_type": "stream",
     "text": [
      "vowel_links(\"a very large appliance\")==>  True\n",
      "vowel_links(\"go to edabit\")==>  True\n",
      "vowel_links(\"an open fire\")==>  False\n",
      "vowel_links(\"a sudden applause\")==>  False\n"
     ]
    }
   ],
   "source": [
    "vowel = [\"a\", \"e\", \"i\", \"o\", \"u\"]\n",
    "\n",
    "\n",
    "def check_vowel(arr):\n",
    "    broke = True\n",
    "    for i in arr:\n",
    "        if i not in vowel:\n",
    "            broke = False\n",
    "            break;\n",
    "    return broke;\n",
    "\n",
    "def vowel_links(strr):\n",
    "    check_list = {}\n",
    "    diction = str(strr).split(\" \")\n",
    "    key = 0\n",
    "    result = False\n",
    "    for i in range(len(diction)-1):\n",
    "    \n",
    "        key = key + 1\n",
    "        check_list[key-1] = ([diction[i][-1],diction[key][0]])\n",
    "    for i in check_list:\n",
    "        result = check_vowel(check_list[i])\n",
    "        if result == \"true\":\n",
    "            break\n",
    "    return result;\n",
    "    #vowel_links(\"a very large appliance\") ➞ True\n",
    "\n",
    "\n",
    "\n",
    "print('vowel_links(\"a very large appliance\")==> ',vowel_links(\"a very large appliance\"))\n",
    "print('vowel_links(\"go to edabit\")==> ',vowel_links(\"go to edabit\"))\n",
    "print('vowel_links(\"an open fire\")==> ',vowel_links(\"an open fire\"))\n",
    "print('vowel_links(\"a sudden applause\")==> ',vowel_links(\"a sudden applause\"))\n",
    "\n"
   ]
  },
  {
   "cell_type": "markdown",
   "metadata": {},
   "source": [
    "2. You are given three inputs: a string, one letter, and a second letter. Write a function that returns True if every instance of the first letter occurs before every instance of the second letter."
   ]
  },
  {
   "cell_type": "code",
   "execution_count": 62,
   "metadata": {},
   "outputs": [
    {
     "name": "stdout",
     "output_type": "stream",
     "text": [
      "first_before_second([\"a rabbit jumps joyfully\", \"a\", \"j\"])==>  True\n",
      "first_before_second([\"knaves knew about waterfalls\", \"k\", \"w\"])==>  True\n",
      "first_before_second([\"happy birthday\", \"a\", \"y\"])==>  False\n",
      "first_before_second([\"precarious kangaroos\", \"k\", \"a\"])==> False\n"
     ]
    }
   ],
   "source": [
    "def first_before_second(arr):\n",
    "    process_arr = []\n",
    "    swap_str = \"\".join([arr[2],arr[1]])\n",
    "    input_arr = [arr[1], arr[2]]\n",
    "    input_str = \"\".join(input_arr)\n",
    "    str = arr[0]\n",
    "    for i in str:\n",
    "        if i in arr:\n",
    "            process_arr.append(i)\n",
    "    process_str = \"\".join(process_arr)\n",
    "\n",
    "    if swap_str in process_str or input_str not in process_str:\n",
    "        return False\n",
    "    else:\n",
    "        return True\n",
    "    \n",
    "    return result;\n",
    "\n",
    "print('first_before_second([\"a rabbit jumps joyfully\", \"a\", \"j\"])==> ',first_before_second([\"a rabbit jumps joyfully\", \"a\", \"j\"]))\n",
    "print('first_before_second([\"knaves knew about waterfalls\", \"k\", \"w\"])==> ',first_before_second([\"knaves knew about waterfalls\", \"k\", \"w\"]))\n",
    "print('first_before_second([\"happy birthday\", \"a\", \"y\"])==> ',first_before_second([\"happy birthday\", \"a\", \"y\"]))\n",
    "print('first_before_second([\"precarious kangaroos\", \"k\", \"a\"])==>' ,first_before_second([\"precarious kangaroos\", \"k\", \"a\"]))\n"
   ]
  },
  {
   "cell_type": "markdown",
   "metadata": {},
   "source": [
    "3. Create a function that returns the characters from a list or string r on odd or even positions, depending on the specifier s. The specifier will be &quot;odd&quot; for items on odd positions (1, 3, 5, ...) and &quot;even&quot; for items on even positions (2, 4, 6, ...)."
   ]
  },
  {
   "cell_type": "code",
   "execution_count": 120,
   "metadata": {},
   "outputs": [
    {
     "name": "stdout",
     "output_type": "stream",
     "text": [
      "char_at_pos([2, 4, 6, 8, 10], \"even\")=>  [4, 8]\n",
      "char_at_pos(\"EDABIT\", \"odd\")=>  ['E', 'A', 'I']\n",
      "char_at_pos([\"A\", \"R\", \"B\", \"I\", \"T\", \"R\", \"A\", \"R\", \"I\", \"L\", \"Y\"], \"odd\")=>  ['A', 'B', 'T', 'A', 'I', 'Y']\n"
     ]
    }
   ],
   "source": [
    "#char_at_pos([2, 4, 6, 8, 10], &quot;even&quot;)\n",
    "\n",
    "def check_odd(i):\n",
    "    if i%2 != 0:\n",
    "        return True\n",
    "    else:\n",
    "        return False\n",
    "    \n",
    "def check_even(i):\n",
    "    \n",
    "    if i%2 == 0:\n",
    "        return True\n",
    "    else:\n",
    "        return False\n",
    "\n",
    "def Convert(string):\n",
    "    list1=[]\n",
    "    list1[:0]=string\n",
    "    return list1\n",
    "\n",
    "def char_at_pos(input1,string):\n",
    "    result = []\n",
    "    if type(input1) == type(str):\n",
    "        arr = Convert(input1)\n",
    "    else:\n",
    "        arr = input1\n",
    "    for i in range(len(arr)):\n",
    "        if string == \"even\":\n",
    "            if check_even(i) == False:\n",
    "                result.append(arr[i])\n",
    "        elif string == \"odd\":\n",
    "            if check_odd(i) == False:\n",
    "                result.append(arr[i])\n",
    "    return result\n",
    "\n",
    "print('char_at_pos([2, 4, 6, 8, 10], \"even\")=> ',char_at_pos([2, 4, 6, 8, 10], \"even\"))\n",
    "print('char_at_pos(\"EDABIT\", \"odd\")=> ',char_at_pos(\"EDABIT\", \"odd\"))\n",
    "print('char_at_pos([\"A\", \"R\", \"B\", \"I\", \"T\", \"R\", \"A\", \"R\", \"I\", \"L\", \"Y\"], \"odd\")=> ',char_at_pos([\"A\", \"R\", \"B\", \"I\", \"T\", \"R\", \"A\", \"R\", \"I\", \"L\", \"Y\"], \"odd\"))"
   ]
  },
  {
   "cell_type": "markdown",
   "metadata": {},
   "source": [
    "4. Write a function that returns the greatest common divisor of all list elements. If the greatest common divisor is 1, return 1."
   ]
  },
  {
   "cell_type": "code",
   "execution_count": 125,
   "metadata": {},
   "outputs": [
    {
     "name": "stdout",
     "output_type": "stream",
     "text": [
      "GCD([10, 20, 40])=>  10\n",
      "GCD([1, 2, 3, 100])=>  1\n",
      "GCD([1024, 192, 2048, 512])=>  64\n"
     ]
    }
   ],
   "source": [
    "import math\n",
    "\n",
    "def GCD(nums):\n",
    "    ans = nums[0]\n",
    "    for x in nums:\n",
    "        ans = math.gcd(ans, x)\n",
    "    return ans\n",
    "\n",
    "print(\"GCD([10, 20, 40])=> \",GCD([10, 20, 40])) \n",
    "print(\"GCD([1, 2, 3, 100])=> \",GCD([1, 2, 3, 100]))\n",
    "print(\"GCD([1024, 192, 2048, 512])=> \",GCD([1024, 192, 2048, 512]))"
   ]
  },
  {
   "cell_type": "markdown",
   "metadata": {},
   "source": [
    "5. A number/string is a palindrome if the digits/characters are the same when read both forward and backward. Examples include &quot;racecar&quot; and 12321. Given a positive number n, check if n or the binary representation of n is palindromic. Return the following:\n",
    "- &quot;Decimal only.&quot; if only n is a palindrome.\n",
    "- &quot;Binary only.&quot; if only the binary representation of n is a palindrome.\n",
    "- &quot;Decimal and binary.&quot; if both are palindromes.\n",
    "- &quot;Neither!&quot; if neither are palindromes."
   ]
  },
  {
   "cell_type": "code",
   "execution_count": 145,
   "metadata": {},
   "outputs": [
    {
     "name": "stdout",
     "output_type": "stream",
     "text": [
      "palindrome_type(1306031)\n",
      "Decimal only.\n",
      "palindrome_type(427787)\n",
      "Binary only.\n",
      "palindrome_type(313)\n",
      "Decimal and binary.\n",
      "palindrome_type(934)\n",
      "Neither!\n"
     ]
    }
   ],
   "source": [
    "def decimalToBinary(n):\n",
    "    return bin(n).replace(\"0b\", \"\")\n",
    "\n",
    "def palindrome(string):\n",
    "    if type(string) != type(str):\n",
    "        string = f'{string}'\n",
    "    string = string.lower().replace(' ', '')\n",
    "    return string == string[::-1]\n",
    "\n",
    "def palindrome_type(num):\n",
    "    bin = decimalToBinary(num)\n",
    "\n",
    "    if palindrome(bin) and palindrome(num):\n",
    "        print(\"Decimal and binary.\")\n",
    "    elif palindrome(bin):\n",
    "        print(\"Binary only.\")\n",
    "    elif palindrome(num):\n",
    "        print(\"Decimal only.\")\n",
    "    else:\n",
    "        print(\"Neither!\")\n",
    "print(\"palindrome_type(1306031)\") \n",
    "palindrome_type(1306031)\n",
    "print(\"palindrome_type(427787)\") \n",
    "palindrome_type(427787)\n",
    "print(\"palindrome_type(313)\") \n",
    "palindrome_type(313)\n",
    "print(\"palindrome_type(934)\") \n",
    "palindrome_type(934)\n",
    "# palindrome_type(1306031) ➞ \"Decimal only.\"\n",
    "# # decimal = 1306031\n",
    "# # binary = \"100111110110110101111\"\n",
    "# palindrome_type(427787) ➞ \"Binary only.\"\n",
    "# # decimal = 427787\n",
    "# # binary = \"1101000011100001011\"\n",
    "# palindrome_type(313) ➞ \"Decimal and binary.\"\n",
    "# # decimal = 313\n",
    "# # binary = 100111001\n",
    "# palindrome_type(934) ➞ \"Neither!\"\n",
    "# # decimal = 934\n",
    "# # binary = \"1110100110\""
   ]
  }
 ],
 "metadata": {
  "kernelspec": {
   "display_name": "Python 3",
   "language": "python",
   "name": "python3"
  },
  "language_info": {
   "codemirror_mode": {
    "name": "ipython",
    "version": 3
   },
   "file_extension": ".py",
   "mimetype": "text/x-python",
   "name": "python",
   "nbconvert_exporter": "python",
   "pygments_lexer": "ipython3",
   "version": "3.8.3"
  }
 },
 "nbformat": 4,
 "nbformat_minor": 4
}
