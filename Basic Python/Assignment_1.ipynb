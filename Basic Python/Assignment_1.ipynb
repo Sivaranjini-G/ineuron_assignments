{
  "nbformat": 4,
  "nbformat_minor": 0,
  "metadata": {
    "colab": {
      "name": "Assignment_1.ipynb",
      "provenance": [],
      "collapsed_sections": []
    },
    "kernelspec": {
      "name": "python3",
      "display_name": "Python 3"
    },
    "language_info": {
      "name": "python"
    }
  },
  "cells": [
    {
      "cell_type": "markdown",
      "source": [
        "1. In the below elements which of them are values or an expression? eg:- values can be integer or string and expressions will be mathematical operators.   'hello'\n",
        "\n",
        "*   *\n",
        "*   'hello'\n",
        "*   -87.8\n",
        "*   -\n",
        "*   /\n",
        "*   +\n",
        "*   6\n",
        "\n",
        "\n",
        "**Ans: All the above**"
      ],
      "metadata": {
        "id": "pN32CVl3F4gU"
      }
    },
    {
      "cell_type": "markdown",
      "source": [
        "2. Whats the difference between String and Variable\n",
        "\n",
        "       \n",
        "\n",
        "        Variables: It stores anything in a program(string, int etc.,)\n",
        "\n",
        "        String: its a type of variable. stores text or characters"
      ],
      "metadata": {
        "id": "WwURngtLGwqX"
      }
    },
    {
      "cell_type": "markdown",
      "source": [
        "3. Describe three different data types.\n",
        "\n",
        "        List\n",
        "        This is just like array only difference is it can store data of different type. This is also ordered set of data.\n",
        "\n",
        "        Dictionary\n",
        "        This stores data as key value pair. Just like json objects. it stores data enclosed by {}.\n",
        "\n",
        "        Boolean\n",
        "        Just like other lanuages boolean stores binaries(0 or 1) OR (true or false)"
      ],
      "metadata": {
        "id": "vy5thtznHpJQ"
      }
    },
    {
      "cell_type": "markdown",
      "source": [
        "4. What is an expression made up of? \n",
        "\n",
        "        An expression is a combination of operators and operands that is interpreted to produce some other value. In any programming language, an expression is evaluated as per the precedence of its operators.\n",
        "\n",
        "  What do all expressions do?\n",
        "        \n",
        "        There are many types of expression in Python. Each one of them are created for its own purpose. for example using integral expression we can produce int values from an expression(operation). Using Arithmetic Expression we can do all arithmetic operations(+,-,/,*,%)"
      ],
      "metadata": {
        "id": "eHZvd5_siRmx"
      }
    },
    {
      "cell_type": "markdown",
      "source": [
        "5. This assignment statements, like spam = 10. What is the difference between an expression and a statement?\n",
        "\n",
        "        An Expression always produces values(result).\n",
        "        A Statement doesnt have to produce result"
      ],
      "metadata": {
        "id": "8hgh19Cckegi"
      }
    },
    {
      "cell_type": "code",
      "source": [
        "\n",
        "bacon = 22\n",
        "\n"
      ],
      "metadata": {
        "id": "z4h0p07TlBoV"
      },
      "execution_count": null,
      "outputs": []
    },
    {
      "cell_type": "code",
      "source": [
        "bacon + 1"
      ],
      "metadata": {
        "colab": {
          "base_uri": "https://localhost:8080/"
        },
        "id": "7VK8h6J7lGeI",
        "outputId": "e97d392e-cdeb-4a8a-c06c-9249caed99d9"
      },
      "execution_count": null,
      "outputs": [
        {
          "output_type": "execute_result",
          "data": {
            "text/plain": [
              "23"
            ]
          },
          "metadata": {},
          "execution_count": 2
        }
      ]
    },
    {
      "cell_type": "markdown",
      "source": [
        "6. After running the following code, what does the variable bacon contain?\n",
        "bacon = 22\n",
        "bacon + 1\n",
        "\n",
        "  **ANS: 23**"
      ],
      "metadata": {
        "id": "kA6-RHOKk7KP"
      }
    },
    {
      "cell_type": "code",
      "source": [
        "'spam' + 'spamspam'"
      ],
      "metadata": {
        "colab": {
          "base_uri": "https://localhost:8080/",
          "height": 35
        },
        "id": "bEvNSBWMleNg",
        "outputId": "7d1db770-bb96-42af-ec09-1b8536d3199c"
      },
      "execution_count": null,
      "outputs": [
        {
          "output_type": "execute_result",
          "data": {
            "application/vnd.google.colaboratory.intrinsic+json": {
              "type": "string"
            },
            "text/plain": [
              "'spamspamspam'"
            ]
          },
          "metadata": {},
          "execution_count": 3
        }
      ]
    },
    {
      "cell_type": "code",
      "source": [
        "'spam' * 3"
      ],
      "metadata": {
        "colab": {
          "base_uri": "https://localhost:8080/",
          "height": 35
        },
        "id": "rzKfdXDFlfLG",
        "outputId": "68239d67-c5aa-44df-c055-f678871705d8"
      },
      "execution_count": null,
      "outputs": [
        {
          "output_type": "execute_result",
          "data": {
            "application/vnd.google.colaboratory.intrinsic+json": {
              "type": "string"
            },
            "text/plain": [
              "'spamspamspam'"
            ]
          },
          "metadata": {},
          "execution_count": 4
        }
      ]
    },
    {
      "cell_type": "markdown",
      "source": [
        "7. What should the values of the following two terms be?\n",
        "\n",
        "    **ANS:** Both gives same result 'spamspamspam'"
      ],
      "metadata": {
        "id": "YNEoLfLvlxU3"
      }
    },
    {
      "cell_type": "markdown",
      "source": [
        "8. Why is eggs a valid variable name while 100 is invalid?\n",
        "\n",
        "  **ANS:** because a string can be variable name but INT cant be."
      ],
      "metadata": {
        "id": "_Bcj8iJWl8Sn"
      }
    },
    {
      "cell_type": "markdown",
      "source": [
        "9. What three functions can be used to get the integer, floating-point number, or string version of a value?\n",
        "\n",
        "    **ANS:** int() => Integer, str() => String, float() => float"
      ],
      "metadata": {
        "id": "gKpJ41V1mOy_"
      }
    },
    {
      "cell_type": "code",
      "source": [
        "'I have eaten ' + 99 + ' burritos.'\n"
      ],
      "metadata": {
        "colab": {
          "base_uri": "https://localhost:8080/",
          "height": 166
        },
        "id": "CDLuJ-V_ns0v",
        "outputId": "134158f4-47d1-4803-a546-bfcc847472fa"
      },
      "execution_count": null,
      "outputs": [
        {
          "output_type": "error",
          "ename": "TypeError",
          "evalue": "ignored",
          "traceback": [
            "\u001b[0;31m---------------------------------------------------------------------------\u001b[0m",
            "\u001b[0;31mTypeError\u001b[0m                                 Traceback (most recent call last)",
            "\u001b[0;32m<ipython-input-5-d24137131a5c>\u001b[0m in \u001b[0;36m<module>\u001b[0;34m()\u001b[0m\n\u001b[0;32m----> 1\u001b[0;31m \u001b[0;34m'I have eaten '\u001b[0m \u001b[0;34m+\u001b[0m \u001b[0;36m99\u001b[0m \u001b[0;34m+\u001b[0m \u001b[0;34m' burritos.'\u001b[0m\u001b[0;34m\u001b[0m\u001b[0;34m\u001b[0m\u001b[0m\n\u001b[0m",
            "\u001b[0;31mTypeError\u001b[0m: can only concatenate str (not \"int\") to str"
          ]
        }
      ]
    },
    {
      "cell_type": "code",
      "source": [
        "'I have eaten ' + '99' + ' burritos.'"
      ],
      "metadata": {
        "colab": {
          "base_uri": "https://localhost:8080/",
          "height": 35
        },
        "id": "5ziJj-Cwn0Ot",
        "outputId": "d332da67-15c2-4d63-c291-ae335ba03176"
      },
      "execution_count": null,
      "outputs": [
        {
          "output_type": "execute_result",
          "data": {
            "application/vnd.google.colaboratory.intrinsic+json": {
              "type": "string"
            },
            "text/plain": [
              "'I have eaten 99 burritos.'"
            ]
          },
          "metadata": {},
          "execution_count": 6
        }
      ]
    },
    {
      "cell_type": "code",
      "source": [
        "'I have eaten ' + str(99) + ' burritos.'"
      ],
      "metadata": {
        "colab": {
          "base_uri": "https://localhost:8080/",
          "height": 35
        },
        "id": "lX9KDshioDTV",
        "outputId": "296965bb-6fe3-444a-be47-b00bfc7079aa"
      },
      "execution_count": null,
      "outputs": [
        {
          "output_type": "execute_result",
          "data": {
            "application/vnd.google.colaboratory.intrinsic+json": {
              "type": "string"
            },
            "text/plain": [
              "'I have eaten 99 burritos.'"
            ]
          },
          "metadata": {},
          "execution_count": 7
        }
      ]
    },
    {
      "cell_type": "markdown",
      "source": [
        "10. Why does this expression cause an error? How can you fix it?\n",
        "'I have eaten ' + 99 + ' burritos.'\n",
        "\n",
        "  **ANS:**\n",
        "  \n",
        "  TypeError: can only concatenate str (not \"int\") to str\n",
        "\n",
        "  It can be fixed by converting 99 to string "
      ],
      "metadata": {
        "id": "yZiX-VarnwV9"
      }
    }
  ]
}