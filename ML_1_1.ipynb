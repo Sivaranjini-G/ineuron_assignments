{
 "cells": [
  {
   "cell_type": "markdown",
   "metadata": {
    "colab_type": "text",
    "id": "view-in-github"
   },
   "source": [
    "<a href=\"https://colab.research.google.com/github/Sivaranjini-G/ineuron_assignments/blob/main/ML_1_1.ipynb\" target=\"_parent\"><img src=\"https://colab.research.google.com/assets/colab-badge.svg\" alt=\"Open In Colab\"/></a>"
   ]
  },
  {
   "cell_type": "markdown",
   "metadata": {
    "id": "ldlPSStFaCHC"
   },
   "source": [
    "**1. What does one mean by the term &quot;machine learning&quot;?**"
   ]
  },
  {
   "cell_type": "markdown",
   "metadata": {
    "id": "oTZMzIL6aj33"
   },
   "source": [
    "Machine Learning is a way of teaching machine to think like human to solve a problem or to analyse data in better way. there different way of doing so. Supervised, unsupervised, semisupervised, reinforcement Learning. \n",
    "\n"
   ]
  },
  {
   "cell_type": "markdown",
   "metadata": {
    "id": "KFVHWlDZbB_L"
   },
   "source": [
    "**2.Can you think of 4 distinct types of issues where it shines?**"
   ]
  },
  {
   "cell_type": "markdown",
   "metadata": {
    "id": "eZ9A2Lw4bCMw"
   },
   "source": [
    "1. To reduce manual work, example: for cyber security analyst, it helps in reducing false positives before a analyst start analysing the security alerts.\n",
    "\n",
    "2. In Digital Marketing, example: In the platforms like swiggy, myntra..datascience plays a vital role in understanding user's behaviour.\n",
    "\n",
    "3. Fraud Detection, example: Credit card fraud detection.\n",
    "\n",
    "4. Spam Filtering "
   ]
  },
  {
   "cell_type": "markdown",
   "metadata": {
    "id": "Wn9I26MVbCQ6"
   },
   "source": [
    "**3.What is a labeled training set, and how does it work?**"
   ]
  },
  {
   "cell_type": "markdown",
   "metadata": {
    "id": "s5m5cpMubCUv"
   },
   "source": [
    "Labeled training set used in supervised ML. To teach machine with labeled training sets. It helps in identyfing raw data with its category and to provide more context of the data.  \n",
    "\n",
    "The labeled training set is works in a way that used to train the machine, and then to use the trained machine on the test set to predict the response variable values."
   ]
  },
  {
   "cell_type": "markdown",
   "metadata": {
    "id": "iI_Cf7hCbCYF"
   },
   "source": [
    "**4.What are the two most important tasks that are supervised?**"
   ]
  },
  {
   "cell_type": "markdown",
   "metadata": {
    "id": "RxmS8swcfrNg"
   },
   "source": [
    "Classification and Regression"
   ]
  },
  {
   "cell_type": "markdown",
   "metadata": {
    "id": "-da2HRJhfsSb"
   },
   "source": [
    "**5.Can you think of four examples of unsupervised tasks?**"
   ]
  },
  {
   "cell_type": "markdown",
   "metadata": {
    "id": "Hcz1_87dfsVM"
   },
   "source": [
    "Clustering, Visualization, Dimentionality Reduction, Association Rule Learning"
   ]
  },
  {
   "cell_type": "markdown",
   "metadata": {
    "id": "nv6HlEypfsYq"
   },
   "source": [
    "**6.State the machine learning model that would be best to make a robot walk through various unfamiliar terrains?**"
   ]
  },
  {
   "cell_type": "markdown",
   "metadata": {
    "id": "ibafZzb_fsbb"
   },
   "source": [
    "Reinforced Learning"
   ]
  },
  {
   "cell_type": "markdown",
   "metadata": {
    "id": "SUXCgyvofsei"
   },
   "source": [
    "**7.Which algorithm will you use to divide your customers into different groups?**"
   ]
  },
  {
   "cell_type": "markdown",
   "metadata": {
    "id": "z97_y4jdfshI"
   },
   "source": [
    "Clustering"
   ]
  },
  {
   "cell_type": "markdown",
   "metadata": {
    "id": "OHdc74vbfsjz"
   },
   "source": [
    "**8.Will you consider the problem of spam detection to be a supervised or unsupervised learning problem?**"
   ]
  },
  {
   "cell_type": "markdown",
   "metadata": {
    "id": "ceLFSE2jfsmi"
   },
   "source": [
    "Spam detection is a supervised learning problem."
   ]
  },
  {
   "cell_type": "markdown",
   "metadata": {
    "id": "UR13AzTOfspL"
   },
   "source": [
    "**9.What is the concept of an online learning system?**"
   ]
  },
  {
   "cell_type": "markdown",
   "metadata": {
    "id": "Xc951PVGfsrw"
   },
   "source": [
    "Online learning system ingest data one observation at a time. Its opposite of batch learning system, where prediction happens after learning entire data at once. "
   ]
  },
  {
   "cell_type": "markdown",
   "metadata": {
    "id": "QgcLvnL3fsvC"
   },
   "source": [
    "**10.What is out-of-core learning, and how does it differ from core learning?**"
   ]
  },
  {
   "cell_type": "markdown",
   "metadata": {
    "id": "2pbbvLoywJiE"
   },
   "source": [
    "Out-of-core learning refers to a set of algorithms working with data that cannot fit into the memory of a single computer.\n",
    "Typically, when a dataset fits neatly into a computer’s main memory, randomly accessing sections of data has a (relatively) small performance penalty.\n",
    "\n",
    "When data must be stored in a medium like a large spinning hard drive or an external computer network, it becomes very expensive to randomly seek to an arbitrary section of data or to process the same data multiple times.In such a case, an out-of-core algorithm would try to access all relevant data in one sequence.\n"
   ]
  },
  {
   "cell_type": "markdown",
   "metadata": {
    "id": "2FVZT56lxaAm"
   },
   "source": [
    "**11.What kind of learning algorithm makes predictions using a similarity measure?**"
   ]
  },
  {
   "cell_type": "markdown",
   "metadata": {
    "id": "qx-4fI9gz-N7"
   },
   "source": [
    "Instance based algorithm"
   ]
  },
  {
   "cell_type": "markdown",
   "metadata": {
    "id": "yM-eatwez-bQ"
   },
   "source": [
    "**12.What&#39;s the difference between a model parameter and a hyperparameter in a learning algorithm?**"
   ]
  },
  {
   "cell_type": "markdown",
   "metadata": {
    "id": "p7xCQ33Yz-eZ"
   },
   "source": [
    "Model Parameters: These are the parameters in the model that must be determined using the training data set. These are the fitted parameters. Hyperparameters: These are adjustable parameters that must be tuned in order to obtain a model with optimal performance."
   ]
  },
  {
   "cell_type": "markdown",
   "metadata": {
    "id": "n_Rq0fnJz-hR"
   },
   "source": [
    "**13.What are the criteria that model-based learning algorithms look for? What is the most popular method they use to achieve success? What method do they use to make predictions?**"
   ]
  },
  {
   "cell_type": "markdown",
   "metadata": {
    "id": "vi8U9z-Uz-j6"
   },
   "source": [
    "Model based learning algorithm search for the optimal value of parameters in a model that will give the best results for the new instances. We often use a cost function or similar to determine what the parameter value has to be in order to minimize the function. The model makes prediction by using the value of the new instance and the parameters in its function.\n",
    "\n"
   ]
  },
  {
   "cell_type": "markdown",
   "metadata": {
    "id": "YyLP7ry8z-mQ"
   },
   "source": [
    "**14.Can you name four of the most important Machine Learning challenges?**"
   ]
  },
  {
   "cell_type": "markdown",
   "metadata": {
    "id": "ANb99efPz-pm"
   },
   "source": [
    "Four main challenges in Machine Learning include overfitting the data (using a model too complicated), underfitting the data (using a simple model), lacking in data and missing/wrong data."
   ]
  },
  {
   "cell_type": "markdown",
   "metadata": {
    "id": "QPdqv4zu2CYq"
   },
   "source": [
    "**15.What happens if the model performs well on the training data but fails to generalize the results to new situations? Can you think of three different options?**"
   ]
  },
  {
   "cell_type": "markdown",
   "metadata": {
    "id": "WvzC_8L52Cb-"
   },
   "source": [
    "If the model performs poorly to new instances, then it has overfit on the training data. To solve this, we can do any of the following three: get more data, implement a simpler model, or eliminate outliers or noise from the existing data set."
   ]
  },
  {
   "cell_type": "markdown",
   "metadata": {
    "id": "rMCJXf1o2Cp8"
   },
   "source": [
    "**16.What exactly is a test set, and why would you need one?**"
   ]
  },
  {
   "cell_type": "markdown",
   "metadata": {
    "id": "_OtbeFRY2Tlu"
   },
   "source": [
    "Test sets are data that used to test the algorithm after traning them. we compare the test result with train result"
   ]
  },
  {
   "cell_type": "markdown",
   "metadata": {
    "id": "g-4IctRL2ida"
   },
   "source": [
    "**17.What is a validation set&#39;s purpose?**"
   ]
  },
  {
   "cell_type": "markdown",
   "metadata": {
    "id": "_TKZky8I2irL"
   },
   "source": [
    "Its used to compare between different traning models"
   ]
  },
  {
   "cell_type": "markdown",
   "metadata": {
    "id": "a83pOY8X2rnh"
   },
   "source": [
    "**18.What precisely is the train-dev kit, when will you need it, how do you put it to use?**"
   ]
  },
  {
   "cell_type": "markdown",
   "metadata": {
    "id": "B-W73-P12rwO"
   },
   "source": [
    "The goal of dev-set is to rank the models in term of their accuracy and helps us decide which model to proceed further with."
   ]
  },
  {
   "cell_type": "markdown",
   "metadata": {
    "id": "42pXoKav26gV"
   },
   "source": [
    "**19.What could go wrong if you use the test set to tune hyperparameters?**"
   ]
  },
  {
   "cell_type": "markdown",
   "metadata": {
    "id": "ldIC8ZnO26jo"
   },
   "source": [
    "If you tune hyperparameters using the test sets, then it may not perform well on the out-of-sample data because the model is tuned just for that specific set."
   ]
  }
 ],
 "metadata": {
  "colab": {
   "authorship_tag": "ABX9TyPjmpKgdFduka8bQ+w+7dGw",
   "include_colab_link": true,
   "name": "ML_1_1.ipynb",
   "provenance": []
  },
  "kernelspec": {
   "display_name": "Python 3",
   "language": "python",
   "name": "python3"
  },
  "language_info": {
   "codemirror_mode": {
    "name": "ipython",
    "version": 3
   },
   "file_extension": ".py",
   "mimetype": "text/x-python",
   "name": "python",
   "nbconvert_exporter": "python",
   "pygments_lexer": "ipython3",
   "version": "3.8.3"
  }
 },
 "nbformat": 4,
 "nbformat_minor": 1
}
