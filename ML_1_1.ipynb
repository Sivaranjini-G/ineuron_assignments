{
  "nbformat": 4,
  "nbformat_minor": 0,
  "metadata": {
    "colab": {
      "name": "ML_1_1.ipynb",
      "provenance": [],
      "authorship_tag": "ABX9TyPjmpKgdFduka8bQ+w+7dGw",
      "include_colab_link": true
    },
    "kernelspec": {
      "name": "python3",
      "display_name": "Python 3"
    },
    "language_info": {
      "name": "python"
    }
  },
  "cells": [
    {
      "cell_type": "markdown",
      "metadata": {
        "id": "view-in-github",
        "colab_type": "text"
      },
      "source": [
        "<a href=\"https://colab.research.google.com/github/Sivaranjini-G/ineuron_assignments/blob/main/ML_1_1.ipynb\" target=\"_parent\"><img src=\"https://colab.research.google.com/assets/colab-badge.svg\" alt=\"Open In Colab\"/></a>"
      ]
    },
    {
      "cell_type": "markdown",
      "source": [
        "**1. What does one mean by the term &quot;machine learning&quot;?**"
      ],
      "metadata": {
        "id": "ldlPSStFaCHC"
      }
    },
    {
      "cell_type": "markdown",
      "source": [
        "Machine Learning is a way of teaching machine to think like human to solve a problem or to analyse data in better way. there different way of doing so. Supervised, unsupervised, semisupervised, reinforcement Learning. \n",
        "\n"
      ],
      "metadata": {
        "id": "oTZMzIL6aj33"
      }
    },
    {
      "cell_type": "markdown",
      "source": [
        "**2.Can you think of 4 distinct types of issues where it shines?**"
      ],
      "metadata": {
        "id": "KFVHWlDZbB_L"
      }
    },
    {
      "cell_type": "markdown",
      "source": [
        "1. To reduce manual work, example: for cyber security analyst, it helps in reducing false positives before a analyst start analysing the security alerts.\n",
        "\n",
        "2. In Digital Marketing, example: In the platforms like swiggy, myntra..datascience plays a vital role in understanding user's behaviour.\n",
        "\n",
        "3. Fraud Detection, example: Credit card fraud detection.\n",
        "\n",
        "4. Spam Filtering "
      ],
      "metadata": {
        "id": "eZ9A2Lw4bCMw"
      }
    },
    {
      "cell_type": "markdown",
      "source": [
        "**3.What is a labeled training set, and how does it work?**"
      ],
      "metadata": {
        "id": "Wn9I26MVbCQ6"
      }
    },
    {
      "cell_type": "markdown",
      "source": [
        "Labeled training set used in supervised ML. To teach machine with labeled training sets. It helps in identyfing raw data with its category and to provide more context of the data.  \n",
        "\n",
        "The labeled training set is works in a way that used to train the machine, and then to use the trained machine on the test set to predict the response variable values."
      ],
      "metadata": {
        "id": "s5m5cpMubCUv"
      }
    },
    {
      "cell_type": "markdown",
      "source": [
        "**4.What are the two most important tasks that are supervised?**"
      ],
      "metadata": {
        "id": "iI_Cf7hCbCYF"
      }
    },
    {
      "cell_type": "markdown",
      "source": [
        "Classification and Regression"
      ],
      "metadata": {
        "id": "RxmS8swcfrNg"
      }
    },
    {
      "cell_type": "markdown",
      "source": [
        "**5.Can you think of four examples of unsupervised tasks?**"
      ],
      "metadata": {
        "id": "-da2HRJhfsSb"
      }
    },
    {
      "cell_type": "markdown",
      "source": [
        "Clustering, Visualization, Dimentionality Reduction, Association Rule Learning"
      ],
      "metadata": {
        "id": "Hcz1_87dfsVM"
      }
    },
    {
      "cell_type": "markdown",
      "source": [
        "**6.State the machine learning model that would be best to make a robot walk through various unfamiliar terrains?**"
      ],
      "metadata": {
        "id": "nv6HlEypfsYq"
      }
    },
    {
      "cell_type": "markdown",
      "source": [
        "Reinforced Learning"
      ],
      "metadata": {
        "id": "ibafZzb_fsbb"
      }
    },
    {
      "cell_type": "markdown",
      "source": [
        "**7.Which algorithm will you use to divide your customers into different groups?**"
      ],
      "metadata": {
        "id": "SUXCgyvofsei"
      }
    },
    {
      "cell_type": "markdown",
      "source": [
        "Clustering"
      ],
      "metadata": {
        "id": "z97_y4jdfshI"
      }
    },
    {
      "cell_type": "markdown",
      "source": [
        "**8.Will you consider the problem of spam detection to be a supervised or unsupervised learning problem?**"
      ],
      "metadata": {
        "id": "OHdc74vbfsjz"
      }
    },
    {
      "cell_type": "markdown",
      "source": [
        "Spam detection is a supervised learning problem."
      ],
      "metadata": {
        "id": "ceLFSE2jfsmi"
      }
    },
    {
      "cell_type": "markdown",
      "source": [
        "**9.What is the concept of an online learning system?**"
      ],
      "metadata": {
        "id": "UR13AzTOfspL"
      }
    },
    {
      "cell_type": "markdown",
      "source": [
        "Online learning system ingest data one observation at a time. Its opposite of batch learning system, where prediction happens after learning entire data at once. "
      ],
      "metadata": {
        "id": "Xc951PVGfsrw"
      }
    },
    {
      "cell_type": "markdown",
      "source": [
        "**10.What is out-of-core learning, and how does it differ from core learning?**"
      ],
      "metadata": {
        "id": "QgcLvnL3fsvC"
      }
    },
    {
      "cell_type": "markdown",
      "source": [
        "Out-of-core learning refers to a set of algorithms working with data that cannot fit into the memory of a single computer.\n",
        "Typically, when a dataset fits neatly into a computer’s main memory, randomly accessing sections of data has a (relatively) small performance penalty.\n",
        "\n",
        "When data must be stored in a medium like a large spinning hard drive or an external computer network, it becomes very expensive to randomly seek to an arbitrary section of data or to process the same data multiple times.In such a case, an out-of-core algorithm would try to access all relevant data in one sequence.\n"
      ],
      "metadata": {
        "id": "2pbbvLoywJiE"
      }
    },
    {
      "cell_type": "markdown",
      "source": [
        "**11.What kind of learning algorithm makes predictions using a similarity measure?**"
      ],
      "metadata": {
        "id": "2FVZT56lxaAm"
      }
    },
    {
      "cell_type": "markdown",
      "source": [
        "Instance based algorithm"
      ],
      "metadata": {
        "id": "qx-4fI9gz-N7"
      }
    },
    {
      "cell_type": "markdown",
      "source": [
        "**12.What&#39;s the difference between a model parameter and a hyperparameter in a learning algorithm?**"
      ],
      "metadata": {
        "id": "yM-eatwez-bQ"
      }
    },
    {
      "cell_type": "markdown",
      "source": [
        "Model Parameters: These are the parameters in the model that must be determined using the training data set. These are the fitted parameters. Hyperparameters: These are adjustable parameters that must be tuned in order to obtain a model with optimal performance."
      ],
      "metadata": {
        "id": "p7xCQ33Yz-eZ"
      }
    },
    {
      "cell_type": "markdown",
      "source": [
        "**13.What are the criteria that model-based learning algorithms look for? What is the most popular method they use to achieve success? What method do they use to make predictions?**"
      ],
      "metadata": {
        "id": "n_Rq0fnJz-hR"
      }
    },
    {
      "cell_type": "markdown",
      "source": [
        "Model based learning algorithm search for the optimal value of parameters in a model that will give the best results for the new instances. We often use a cost function or similar to determine what the parameter value has to be in order to minimize the function. The model makes prediction by using the value of the new instance and the parameters in its function.\n",
        "\n"
      ],
      "metadata": {
        "id": "vi8U9z-Uz-j6"
      }
    },
    {
      "cell_type": "markdown",
      "source": [
        "**14.Can you name four of the most important Machine Learning challenges?**"
      ],
      "metadata": {
        "id": "YyLP7ry8z-mQ"
      }
    },
    {
      "cell_type": "markdown",
      "source": [
        "Four main challenges in Machine Learning include overfitting the data (using a model too complicated), underfitting the data (using a simple model), lacking in data and missing/wrong data."
      ],
      "metadata": {
        "id": "ANb99efPz-pm"
      }
    },
    {
      "cell_type": "markdown",
      "source": [
        "**15.What happens if the model performs well on the training data but fails to generalize the results to new situations? Can you think of three different options?**"
      ],
      "metadata": {
        "id": "QPdqv4zu2CYq"
      }
    },
    {
      "cell_type": "markdown",
      "source": [
        "If the model performs poorly to new instances, then it has overfit on the training data. To solve this, we can do any of the following three: get more data, implement a simpler model, or eliminate outliers or noise from the existing data set."
      ],
      "metadata": {
        "id": "WvzC_8L52Cb-"
      }
    },
    {
      "cell_type": "markdown",
      "source": [
        "**16.What exactly is a test set, and why would you need one?**"
      ],
      "metadata": {
        "id": "rMCJXf1o2Cp8"
      }
    },
    {
      "cell_type": "markdown",
      "source": [
        "Test sets are data that used to test the algorithm after traning them. we compare the test result with train result"
      ],
      "metadata": {
        "id": "_OtbeFRY2Tlu"
      }
    },
    {
      "cell_type": "markdown",
      "source": [
        "**17.What is a validation set&#39;s purpose?**"
      ],
      "metadata": {
        "id": "g-4IctRL2ida"
      }
    },
    {
      "cell_type": "markdown",
      "source": [
        "Its used to compare between different traning models"
      ],
      "metadata": {
        "id": "_TKZky8I2irL"
      }
    },
    {
      "cell_type": "markdown",
      "source": [
        "**18.What precisely is the train-dev kit, when will you need it, how do you put it to use?**"
      ],
      "metadata": {
        "id": "a83pOY8X2rnh"
      }
    },
    {
      "cell_type": "markdown",
      "source": [
        "The goal of dev-set is to rank the models in term of their accuracy and helps us decide which model to proceed further with."
      ],
      "metadata": {
        "id": "B-W73-P12rwO"
      }
    },
    {
      "cell_type": "markdown",
      "source": [
        "**19.What could go wrong if you use the test set to tune hyperparameters?**"
      ],
      "metadata": {
        "id": "42pXoKav26gV"
      }
    },
    {
      "cell_type": "markdown",
      "source": [
        "If you tune hyperparameters using the test sets, then it may not perform well on the out-of-sample data because the model is tuned just for that specific set."
      ],
      "metadata": {
        "id": "ldIC8ZnO26jo"
      }
    }
  ]
}