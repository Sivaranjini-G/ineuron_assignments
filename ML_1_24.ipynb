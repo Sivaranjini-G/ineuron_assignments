{
  "nbformat": 4,
  "nbformat_minor": 0,
  "metadata": {
    "colab": {
      "name": "ML_1_24.ipynb",
      "provenance": [],
      "authorship_tag": "ABX9TyPu7SrNtnlZtuAQjA66X/B8",
      "include_colab_link": true
    },
    "kernelspec": {
      "name": "python3",
      "display_name": "Python 3"
    },
    "language_info": {
      "name": "python"
    }
  },
  "cells": [
    {
      "cell_type": "markdown",
      "metadata": {
        "id": "view-in-github",
        "colab_type": "text"
      },
      "source": [
        "<a href=\"https://colab.research.google.com/github/Sivaranjini-G/ineuron_assignments/blob/main/ML_1_24.ipynb\" target=\"_parent\"><img src=\"https://colab.research.google.com/assets/colab-badge.svg\" alt=\"Open In Colab\"/></a>"
      ]
    },
    {
      "cell_type": "markdown",
      "source": [
        "**1. What is your definition of clustering? What are a few clustering algorithms you might think of?**"
      ],
      "metadata": {
        "id": "ZrQsM9-T3bon"
      }
    },
    {
      "cell_type": "markdown",
      "source": [
        "In machine learning data is being grouped if its not labeled(unlabeled). This apporch is called clustering\n",
        "\n",
        "1. Centroid-based clustering\n",
        "2. Density based clustering\n",
        "3. Distribution based clustering\n",
        "4. Hierarchical clustering"
      ],
      "metadata": {
        "id": "e_nU3ihS3dnp"
      }
    },
    {
      "cell_type": "markdown",
      "source": [
        "**2. What are some of the most popular clustering algorithm applications?**"
      ],
      "metadata": {
        "id": "syjcxQr83dqr"
      }
    },
    {
      "cell_type": "markdown",
      "source": [
        "market research, pattern recognition, data analysis and image processing"
      ],
      "metadata": {
        "id": "ou4JMCls3dta"
      }
    },
    {
      "cell_type": "markdown",
      "source": [
        "**3. When using K-Means, describe two strategies for selecting the appropriate number of clusters.**"
      ],
      "metadata": {
        "id": "ygpdQbbr3dv-"
      }
    },
    {
      "cell_type": "markdown",
      "source": [
        "Elbow method: Here the sum of squares at each number of clusters is calculated and graphed, and the user looks for a change of slope from steep to shallow (an elbow) to determine the optimal number of clusters\n",
        "\n",
        "The Silhouette Method: Another visualization that can help determine the optimal number of clusters is called the a silhouette method. Average silhouette method computes the average silhouette of observations for different values of k. The optimal number of clusters k is the one that maximize the average silhouette over a range of possible values for k."
      ],
      "metadata": {
        "id": "Rmg-qYXW3dyp"
      }
    },
    {
      "cell_type": "markdown",
      "source": [
        "**4. What is mark propagation and how does it work? Why would you do it, and how would you do it?**"
      ],
      "metadata": {
        "id": "MDtmY_Ix3d0_"
      }
    },
    {
      "cell_type": "markdown",
      "source": [
        "The algorithm is used to effectively train a neural network through a method called chain rule. In simple terms, after each forward pass through a network, backpropagation performs a backward pass while adjusting the model’s parameters (weights and biases)\n",
        "\n",
        "Below are the steps involved in Backpropagation:\n",
        "\n",
        "Step – 1: Forward Propagation\n",
        "Step – 2: Backward Propagation \n",
        "Step – 3: Putting all the values together and calculating the updated weight value"
      ],
      "metadata": {
        "id": "53epeaTl3d3r"
      }
    },
    {
      "cell_type": "markdown",
      "source": [
        "**5. Provide two examples of clustering algorithms that can handle large datasets. And two that look for high-density areas?**"
      ],
      "metadata": {
        "id": "xNfKr-DT3d6E"
      }
    },
    {
      "cell_type": "markdown",
      "source": [
        "For large dataset:\n",
        "1. K-means clustering\n",
        "2. Scalable hierarchical clustering\n",
        "\n",
        "For high density:\n",
        "1. Hybrid clustering\n",
        "2. Adaptive DBSCAN\n",
        "3. DBSCAN"
      ],
      "metadata": {
        "id": "IQAHJ3IE3d8r"
      }
    },
    {
      "cell_type": "markdown",
      "source": [
        ""
      ],
      "metadata": {
        "id": "Byy4iMdf3d_e"
      }
    },
    {
      "cell_type": "markdown",
      "source": [
        ""
      ],
      "metadata": {
        "id": "tk83Vn7g3eB_"
      }
    },
    {
      "cell_type": "markdown",
      "source": [
        ""
      ],
      "metadata": {
        "id": "KhYziIwC3eEv"
      }
    },
    {
      "cell_type": "markdown",
      "source": [
        ""
      ],
      "metadata": {
        "id": "xV3ZbG5u3eHN"
      }
    },
    {
      "cell_type": "markdown",
      "source": [
        ""
      ],
      "metadata": {
        "id": "JngrM7Dr3eJ_"
      }
    },
    {
      "cell_type": "markdown",
      "source": [
        ""
      ],
      "metadata": {
        "id": "X7UzCOU-3eM5"
      }
    },
    {
      "cell_type": "markdown",
      "source": [
        ""
      ],
      "metadata": {
        "id": "gJoKlSB73eQJ"
      }
    },
    {
      "cell_type": "markdown",
      "source": [
        ""
      ],
      "metadata": {
        "id": "h0UT7nTA3eTG"
      }
    },
    {
      "cell_type": "markdown",
      "source": [
        ""
      ],
      "metadata": {
        "id": "tqvbT2iD3eWd"
      }
    },
    {
      "cell_type": "markdown",
      "source": [
        ""
      ],
      "metadata": {
        "id": "_w3zYeXa3eZV"
      }
    },
    {
      "cell_type": "markdown",
      "source": [
        ""
      ],
      "metadata": {
        "id": "WraTyref3ecA"
      }
    },
    {
      "cell_type": "markdown",
      "source": [
        ""
      ],
      "metadata": {
        "id": "Rgr6OaVP3efS"
      }
    }
  ]
}