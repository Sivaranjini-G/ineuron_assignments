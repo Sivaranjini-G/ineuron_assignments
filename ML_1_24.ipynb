{
 "cells": [
  {
   "cell_type": "markdown",
   "metadata": {
    "colab_type": "text",
    "id": "view-in-github"
   },
   "source": [
    "<a href=\"https://colab.research.google.com/github/Sivaranjini-G/ineuron_assignments/blob/main/ML_1_24.ipynb\" target=\"_parent\"><img src=\"https://colab.research.google.com/assets/colab-badge.svg\" alt=\"Open In Colab\"/></a>"
   ]
  },
  {
   "cell_type": "markdown",
   "metadata": {
    "id": "ZrQsM9-T3bon"
   },
   "source": [
    "**1. What is your definition of clustering? What are a few clustering algorithms you might think of?**"
   ]
  },
  {
   "cell_type": "markdown",
   "metadata": {
    "id": "e_nU3ihS3dnp"
   },
   "source": [
    "In machine learning data is being grouped if its not labeled(unlabeled). This apporch is called clustering\n",
    "\n",
    "1. Centroid-based clustering\n",
    "2. Density based clustering\n",
    "3. Distribution based clustering\n",
    "4. Hierarchical clustering"
   ]
  },
  {
   "cell_type": "markdown",
   "metadata": {
    "id": "syjcxQr83dqr"
   },
   "source": [
    "**2. What are some of the most popular clustering algorithm applications?**"
   ]
  },
  {
   "cell_type": "markdown",
   "metadata": {
    "id": "ou4JMCls3dta"
   },
   "source": [
    "market research, pattern recognition, data analysis and image processing"
   ]
  },
  {
   "cell_type": "markdown",
   "metadata": {
    "id": "ygpdQbbr3dv-"
   },
   "source": [
    "**3. When using K-Means, describe two strategies for selecting the appropriate number of clusters.**"
   ]
  },
  {
   "cell_type": "markdown",
   "metadata": {
    "id": "Rmg-qYXW3dyp"
   },
   "source": [
    "Elbow method: Here the sum of squares at each number of clusters is calculated and graphed, and the user looks for a change of slope from steep to shallow (an elbow) to determine the optimal number of clusters\n",
    "\n",
    "The Silhouette Method: Another visualization that can help determine the optimal number of clusters is called the a silhouette method. Average silhouette method computes the average silhouette of observations for different values of k. The optimal number of clusters k is the one that maximize the average silhouette over a range of possible values for k."
   ]
  },
  {
   "cell_type": "markdown",
   "metadata": {
    "id": "MDtmY_Ix3d0_"
   },
   "source": [
    "**4. What is mark propagation and how does it work? Why would you do it, and how would you do it?**"
   ]
  },
  {
   "cell_type": "markdown",
   "metadata": {
    "id": "53epeaTl3d3r"
   },
   "source": [
    "The algorithm is used to effectively train a neural network through a method called chain rule. In simple terms, after each forward pass through a network, backpropagation performs a backward pass while adjusting the model’s parameters (weights and biases)\n",
    "\n",
    "Below are the steps involved in Backpropagation:\n",
    "\n",
    "Step – 1: Forward Propagation\n",
    "Step – 2: Backward Propagation \n",
    "Step – 3: Putting all the values together and calculating the updated weight value"
   ]
  },
  {
   "cell_type": "markdown",
   "metadata": {
    "id": "xNfKr-DT3d6E"
   },
   "source": [
    "**5. Provide two examples of clustering algorithms that can handle large datasets. And two that look for high-density areas?**"
   ]
  },
  {
   "cell_type": "markdown",
   "metadata": {
    "id": "IQAHJ3IE3d8r"
   },
   "source": [
    "For large dataset:\n",
    "1. K-means clustering\n",
    "2. Scalable hierarchical clustering\n",
    "\n",
    "For high density:\n",
    "1. Hybrid clustering\n",
    "2. Adaptive DBSCAN\n",
    "3. DBSCAN"
   ]
  },
  {
   "cell_type": "markdown",
   "metadata": {
    "id": "Byy4iMdf3d_e"
   },
   "source": []
  },
  {
   "cell_type": "markdown",
   "metadata": {
    "id": "tk83Vn7g3eB_"
   },
   "source": []
  },
  {
   "cell_type": "markdown",
   "metadata": {
    "id": "KhYziIwC3eEv"
   },
   "source": []
  },
  {
   "cell_type": "markdown",
   "metadata": {
    "id": "xV3ZbG5u3eHN"
   },
   "source": []
  },
  {
   "cell_type": "markdown",
   "metadata": {
    "id": "JngrM7Dr3eJ_"
   },
   "source": []
  },
  {
   "cell_type": "markdown",
   "metadata": {
    "id": "X7UzCOU-3eM5"
   },
   "source": []
  },
  {
   "cell_type": "markdown",
   "metadata": {
    "id": "gJoKlSB73eQJ"
   },
   "source": []
  },
  {
   "cell_type": "markdown",
   "metadata": {
    "id": "h0UT7nTA3eTG"
   },
   "source": []
  },
  {
   "cell_type": "markdown",
   "metadata": {
    "id": "tqvbT2iD3eWd"
   },
   "source": []
  },
  {
   "cell_type": "markdown",
   "metadata": {
    "id": "_w3zYeXa3eZV"
   },
   "source": []
  },
  {
   "cell_type": "markdown",
   "metadata": {
    "id": "WraTyref3ecA"
   },
   "source": []
  },
  {
   "cell_type": "markdown",
   "metadata": {
    "id": "Rgr6OaVP3efS"
   },
   "source": []
  }
 ],
 "metadata": {
  "colab": {
   "authorship_tag": "ABX9TyPu7SrNtnlZtuAQjA66X/B8",
   "include_colab_link": true,
   "name": "ML_1_24.ipynb",
   "provenance": []
  },
  "kernelspec": {
   "display_name": "Python 3",
   "language": "python",
   "name": "python3"
  },
  "language_info": {
   "codemirror_mode": {
    "name": "ipython",
    "version": 3
   },
   "file_extension": ".py",
   "mimetype": "text/x-python",
   "name": "python",
   "nbconvert_exporter": "python",
   "pygments_lexer": "ipython3",
   "version": "3.8.3"
  }
 },
 "nbformat": 4,
 "nbformat_minor": 1
}
